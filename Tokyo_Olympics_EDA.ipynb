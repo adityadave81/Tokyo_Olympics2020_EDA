{
  "nbformat": 4,
  "nbformat_minor": 0,
  "metadata": {
    "colab": {
      "name": "Tokyo_Olympics_EDA.ipynb",
      "provenance": [],
      "collapsed_sections": []
    },
    "kernelspec": {
      "name": "python3",
      "display_name": "Python 3"
    },
    "language_info": {
      "name": "python"
    }
  },
  "cells": [
    {
      "cell_type": "markdown",
      "metadata": {
        "id": "Asq8I3HDzdlA"
      },
      "source": [
        "## Packages Needed"
      ]
    },
    {
      "cell_type": "code",
      "metadata": {
        "colab": {
          "base_uri": "https://localhost:8080/"
        },
        "id": "Bag2brAoHO3K",
        "outputId": "d7f987cf-35a8-4509-f38a-623d7d0ec4fe"
      },
      "source": [
        "!pip install --upgrade plotly\n",
        "!pip install pyspark\n",
        "!pip install kaggle"
      ],
      "execution_count": 1,
      "outputs": [
        {
          "output_type": "stream",
          "name": "stdout",
          "text": [
            "Requirement already satisfied: plotly in /usr/local/lib/python3.7/dist-packages (5.3.1)\n",
            "Requirement already satisfied: tenacity>=6.2.0 in /usr/local/lib/python3.7/dist-packages (from plotly) (8.0.1)\n",
            "Requirement already satisfied: six in /usr/local/lib/python3.7/dist-packages (from plotly) (1.15.0)\n",
            "Requirement already satisfied: pyspark in /usr/local/lib/python3.7/dist-packages (3.1.2)\n",
            "Requirement already satisfied: py4j==0.10.9 in /usr/local/lib/python3.7/dist-packages (from pyspark) (0.10.9)\n",
            "Requirement already satisfied: kaggle in /usr/local/lib/python3.7/dist-packages (1.5.12)\n",
            "Requirement already satisfied: urllib3 in /usr/local/lib/python3.7/dist-packages (from kaggle) (1.24.3)\n",
            "Requirement already satisfied: python-dateutil in /usr/local/lib/python3.7/dist-packages (from kaggle) (2.8.2)\n",
            "Requirement already satisfied: tqdm in /usr/local/lib/python3.7/dist-packages (from kaggle) (4.62.2)\n",
            "Requirement already satisfied: six>=1.10 in /usr/local/lib/python3.7/dist-packages (from kaggle) (1.15.0)\n",
            "Requirement already satisfied: requests in /usr/local/lib/python3.7/dist-packages (from kaggle) (2.23.0)\n",
            "Requirement already satisfied: python-slugify in /usr/local/lib/python3.7/dist-packages (from kaggle) (5.0.2)\n",
            "Requirement already satisfied: certifi in /usr/local/lib/python3.7/dist-packages (from kaggle) (2021.5.30)\n",
            "Requirement already satisfied: text-unidecode>=1.3 in /usr/local/lib/python3.7/dist-packages (from python-slugify->kaggle) (1.3)\n",
            "Requirement already satisfied: idna<3,>=2.5 in /usr/local/lib/python3.7/dist-packages (from requests->kaggle) (2.10)\n",
            "Requirement already satisfied: chardet<4,>=3.0.2 in /usr/local/lib/python3.7/dist-packages (from requests->kaggle) (3.0.4)\n"
          ]
        }
      ]
    },
    {
      "cell_type": "markdown",
      "metadata": {
        "id": "5x2tu5GMzJdx"
      },
      "source": [
        "### Imports "
      ]
    },
    {
      "cell_type": "code",
      "metadata": {
        "id": "6wMpyt1wzIYZ"
      },
      "source": [
        "import os\n",
        "import pandas as pd\n",
        "import pyspark\n",
        "import plotly.express as px\n",
        "from plotly.subplots import make_subplots\n",
        "import plotly.graph_objects as go"
      ],
      "execution_count": 3,
      "outputs": []
    },
    {
      "cell_type": "markdown",
      "metadata": {
        "id": "JL9wR1ACz5j1"
      },
      "source": [
        "## Setting the correct working directory and putting the kaggle.json file in \n",
        "## '/root/.kaggle/' directory or we wont be able to access Kaggle API"
      ]
    },
    {
      "cell_type": "code",
      "metadata": {
        "id": "VNXmHmlcHUqQ"
      },
      "source": [
        "# os.chdir('/.kaggle')\n"
      ],
      "execution_count": 12,
      "outputs": []
    },
    {
      "cell_type": "code",
      "metadata": {
        "id": "qBLvT-f6Hd0q"
      },
      "source": [
        "os.chdir('/root/.kaggle/')\n",
        "\n",
        "!cp '/content/kaggle.json' '/root/.kaggle/'\n",
        "# !ls\n",
        "\n",
        "# count = 0\n",
        "# for root, folders, filenames in os.walk('/root/'):\n",
        "#    print(root, folders)\n"
      ],
      "execution_count": 7,
      "outputs": []
    },
    {
      "cell_type": "code",
      "metadata": {
        "id": "20xOzR0yLc6Y"
      },
      "source": [
        "!chmod 600 kaggle.json"
      ],
      "execution_count": 8,
      "outputs": []
    },
    {
      "cell_type": "markdown",
      "metadata": {
        "id": "fozy_P7pzxT_"
      },
      "source": [
        "## Loading the Tokyo Olympics dataset using Kaggle API"
      ]
    },
    {
      "cell_type": "code",
      "metadata": {
        "colab": {
          "base_uri": "https://localhost:8080/"
        },
        "id": "1DThtB34Hnda",
        "outputId": "1ea6bc2e-3e47-40e4-9f1c-2f952bebbb95"
      },
      "source": [
        "!kaggle datasets download -d arjunprasadsarkhel/2021-olympics-in-tokyo\n",
        "!unzip 2021-olympics-in-tokyo"
      ],
      "execution_count": 9,
      "outputs": [
        {
          "output_type": "stream",
          "name": "stdout",
          "text": [
            "Downloading 2021-olympics-in-tokyo.zip to /root/.kaggle\n",
            "\r  0% 0.00/348k [00:00<?, ?B/s]\n",
            "\r100% 348k/348k [00:00<00:00, 51.4MB/s]\n",
            "Archive:  2021-olympics-in-tokyo.zip\n",
            "  inflating: Athletes.xlsx           \n",
            "  inflating: Coaches.xlsx            \n",
            "  inflating: EntriesGender.xlsx      \n",
            "  inflating: Medals.xlsx             \n",
            "  inflating: Teams.xlsx              \n"
          ]
        }
      ]
    },
    {
      "cell_type": "code",
      "metadata": {
        "colab": {
          "base_uri": "https://localhost:8080/"
        },
        "id": "gSeMitz_IHQG",
        "outputId": "8c465711-9439-4ecc-ea2f-871514c6e17d"
      },
      "source": [
        "!pip install pyspark"
      ],
      "execution_count": null,
      "outputs": [
        {
          "output_type": "stream",
          "name": "stdout",
          "text": [
            "Collecting pyspark\n",
            "  Downloading pyspark-3.1.2.tar.gz (212.4 MB)\n",
            "\u001b[K     |████████████████████████████████| 212.4 MB 61 kB/s \n",
            "\u001b[?25hCollecting py4j==0.10.9\n",
            "  Downloading py4j-0.10.9-py2.py3-none-any.whl (198 kB)\n",
            "\u001b[K     |████████████████████████████████| 198 kB 47.1 MB/s \n",
            "\u001b[?25hBuilding wheels for collected packages: pyspark\n",
            "  Building wheel for pyspark (setup.py) ... \u001b[?25l\u001b[?25hdone\n",
            "  Created wheel for pyspark: filename=pyspark-3.1.2-py2.py3-none-any.whl size=212880768 sha256=21c5d0df5540ce73bc149ac922103b0cc8203be7fa4e1025ae35cdee00ac0c3f\n",
            "  Stored in directory: /root/.cache/pip/wheels/a5/0a/c1/9561f6fecb759579a7d863dcd846daaa95f598744e71b02c77\n",
            "Successfully built pyspark\n",
            "Installing collected packages: py4j, pyspark\n",
            "Successfully installed py4j-0.10.9 pyspark-3.1.2\n"
          ]
        }
      ]
    },
    {
      "cell_type": "markdown",
      "metadata": {
        "id": "i5hRnnhETzth"
      },
      "source": [
        "## Creating a Spark Session"
      ]
    },
    {
      "cell_type": "code",
      "metadata": {
        "colab": {
          "base_uri": "https://localhost:8080/",
          "height": 216
        },
        "id": "GvcwazvdIOEa",
        "outputId": "42dcb1a3-55b5-4a42-bbf2-60c974069d04"
      },
      "source": [
        "# spark.stop()\n",
        "spark = pyspark.sql.SparkSession(pyspark.SparkContext())\n",
        "spark"
      ],
      "execution_count": 10,
      "outputs": [
        {
          "output_type": "execute_result",
          "data": {
            "text/html": [
              "\n",
              "            <div>\n",
              "                <p><b>SparkSession - in-memory</b></p>\n",
              "                \n",
              "        <div>\n",
              "            <p><b>SparkContext</b></p>\n",
              "\n",
              "            <p><a href=\"http://eb6c5b3ec14c:4040\">Spark UI</a></p>\n",
              "\n",
              "            <dl>\n",
              "              <dt>Version</dt>\n",
              "                <dd><code>v3.1.2</code></dd>\n",
              "              <dt>Master</dt>\n",
              "                <dd><code>local[*]</code></dd>\n",
              "              <dt>AppName</dt>\n",
              "                <dd><code>pyspark-shell</code></dd>\n",
              "            </dl>\n",
              "        </div>\n",
              "        \n",
              "            </div>\n",
              "        "
            ],
            "text/plain": [
              "<pyspark.sql.session.SparkSession at 0x7f295be54a50>"
            ]
          },
          "metadata": {},
          "execution_count": 10
        }
      ]
    },
    {
      "cell_type": "markdown",
      "metadata": {
        "id": "GNEw31fHBig8"
      },
      "source": [
        "## Converting the excel files to csv files"
      ]
    },
    {
      "cell_type": "code",
      "metadata": {
        "id": "X0O-RFlTIPE7"
      },
      "source": [
        "def xlsx_to_csv(filename):\n",
        "  pd.read_excel(filename+'.xlsx').to_csv(filename+'.csv', sep = ',', index=False)\n",
        "\n",
        "xlsx_to_csv('Athletes')\n",
        "xlsx_to_csv('Coaches')\n",
        "xlsx_to_csv('EntriesGender')\n",
        "xlsx_to_csv('Medals')\n",
        "xlsx_to_csv('Teams')"
      ],
      "execution_count": 11,
      "outputs": []
    },
    {
      "cell_type": "code",
      "metadata": {
        "id": "N2arh2SLI2TM"
      },
      "source": [
        "athletes = pd.read_csv('Athletes.csv')\n",
        "coaches = pd.read_csv('Coaches.csv')\n",
        "entriesgender = pd.read_csv('EntriesGender.csv')\n",
        "medals = pd.read_csv('Medals.csv')\n",
        "teams = pd.read_csv('Teams.csv')"
      ],
      "execution_count": 12,
      "outputs": []
    },
    {
      "cell_type": "code",
      "metadata": {
        "id": "IiZD4ToJSaZg"
      },
      "source": [
        "entriesgender = pd.read_csv('EntriesGender.csv')"
      ],
      "execution_count": 85,
      "outputs": []
    },
    {
      "cell_type": "code",
      "metadata": {
        "colab": {
          "base_uri": "https://localhost:8080/",
          "height": 204
        },
        "id": "9gMdDOV6I6XW",
        "outputId": "95374afe-1d3c-4c10-9e25-66ffdfa51dc1"
      },
      "source": [
        "athletes.head()"
      ],
      "execution_count": 13,
      "outputs": [
        {
          "output_type": "execute_result",
          "data": {
            "text/html": [
              "<div>\n",
              "<style scoped>\n",
              "    .dataframe tbody tr th:only-of-type {\n",
              "        vertical-align: middle;\n",
              "    }\n",
              "\n",
              "    .dataframe tbody tr th {\n",
              "        vertical-align: top;\n",
              "    }\n",
              "\n",
              "    .dataframe thead th {\n",
              "        text-align: right;\n",
              "    }\n",
              "</style>\n",
              "<table border=\"1\" class=\"dataframe\">\n",
              "  <thead>\n",
              "    <tr style=\"text-align: right;\">\n",
              "      <th></th>\n",
              "      <th>Name</th>\n",
              "      <th>NOC</th>\n",
              "      <th>Discipline</th>\n",
              "    </tr>\n",
              "  </thead>\n",
              "  <tbody>\n",
              "    <tr>\n",
              "      <th>0</th>\n",
              "      <td>AALERUD Katrine</td>\n",
              "      <td>Norway</td>\n",
              "      <td>Cycling Road</td>\n",
              "    </tr>\n",
              "    <tr>\n",
              "      <th>1</th>\n",
              "      <td>ABAD Nestor</td>\n",
              "      <td>Spain</td>\n",
              "      <td>Artistic Gymnastics</td>\n",
              "    </tr>\n",
              "    <tr>\n",
              "      <th>2</th>\n",
              "      <td>ABAGNALE Giovanni</td>\n",
              "      <td>Italy</td>\n",
              "      <td>Rowing</td>\n",
              "    </tr>\n",
              "    <tr>\n",
              "      <th>3</th>\n",
              "      <td>ABALDE Alberto</td>\n",
              "      <td>Spain</td>\n",
              "      <td>Basketball</td>\n",
              "    </tr>\n",
              "    <tr>\n",
              "      <th>4</th>\n",
              "      <td>ABALDE Tamara</td>\n",
              "      <td>Spain</td>\n",
              "      <td>Basketball</td>\n",
              "    </tr>\n",
              "  </tbody>\n",
              "</table>\n",
              "</div>"
            ],
            "text/plain": [
              "                Name     NOC           Discipline\n",
              "0    AALERUD Katrine  Norway         Cycling Road\n",
              "1        ABAD Nestor   Spain  Artistic Gymnastics\n",
              "2  ABAGNALE Giovanni   Italy               Rowing\n",
              "3     ABALDE Alberto   Spain           Basketball\n",
              "4      ABALDE Tamara   Spain           Basketball"
            ]
          },
          "metadata": {},
          "execution_count": 13
        }
      ]
    },
    {
      "cell_type": "code",
      "metadata": {
        "colab": {
          "base_uri": "https://localhost:8080/",
          "height": 204
        },
        "id": "YjYLwubfI7dR",
        "outputId": "0982dfbc-053b-4eaf-ba3b-d59bffbe7ed9"
      },
      "source": [
        "coaches.head()"
      ],
      "execution_count": 14,
      "outputs": [
        {
          "output_type": "execute_result",
          "data": {
            "text/html": [
              "<div>\n",
              "<style scoped>\n",
              "    .dataframe tbody tr th:only-of-type {\n",
              "        vertical-align: middle;\n",
              "    }\n",
              "\n",
              "    .dataframe tbody tr th {\n",
              "        vertical-align: top;\n",
              "    }\n",
              "\n",
              "    .dataframe thead th {\n",
              "        text-align: right;\n",
              "    }\n",
              "</style>\n",
              "<table border=\"1\" class=\"dataframe\">\n",
              "  <thead>\n",
              "    <tr style=\"text-align: right;\">\n",
              "      <th></th>\n",
              "      <th>Name</th>\n",
              "      <th>NOC</th>\n",
              "      <th>Discipline</th>\n",
              "      <th>Event</th>\n",
              "    </tr>\n",
              "  </thead>\n",
              "  <tbody>\n",
              "    <tr>\n",
              "      <th>0</th>\n",
              "      <td>ABDELMAGID Wael</td>\n",
              "      <td>Egypt</td>\n",
              "      <td>Football</td>\n",
              "      <td>NaN</td>\n",
              "    </tr>\n",
              "    <tr>\n",
              "      <th>1</th>\n",
              "      <td>ABE Junya</td>\n",
              "      <td>Japan</td>\n",
              "      <td>Volleyball</td>\n",
              "      <td>NaN</td>\n",
              "    </tr>\n",
              "    <tr>\n",
              "      <th>2</th>\n",
              "      <td>ABE Katsuhiko</td>\n",
              "      <td>Japan</td>\n",
              "      <td>Basketball</td>\n",
              "      <td>NaN</td>\n",
              "    </tr>\n",
              "    <tr>\n",
              "      <th>3</th>\n",
              "      <td>ADAMA Cherif</td>\n",
              "      <td>Côte d'Ivoire</td>\n",
              "      <td>Football</td>\n",
              "      <td>NaN</td>\n",
              "    </tr>\n",
              "    <tr>\n",
              "      <th>4</th>\n",
              "      <td>AGEBA Yuya</td>\n",
              "      <td>Japan</td>\n",
              "      <td>Volleyball</td>\n",
              "      <td>NaN</td>\n",
              "    </tr>\n",
              "  </tbody>\n",
              "</table>\n",
              "</div>"
            ],
            "text/plain": [
              "              Name            NOC  Discipline Event\n",
              "0  ABDELMAGID Wael          Egypt    Football   NaN\n",
              "1        ABE Junya          Japan  Volleyball   NaN\n",
              "2    ABE Katsuhiko          Japan  Basketball   NaN\n",
              "3     ADAMA Cherif  Côte d'Ivoire    Football   NaN\n",
              "4       AGEBA Yuya          Japan  Volleyball   NaN"
            ]
          },
          "metadata": {},
          "execution_count": 14
        }
      ]
    },
    {
      "cell_type": "code",
      "metadata": {
        "colab": {
          "base_uri": "https://localhost:8080/",
          "height": 204
        },
        "id": "gUmvciksI9qC",
        "outputId": "1aa84e70-e755-43ee-b5fd-49d19421834c"
      },
      "source": [
        "entriesgender.head()"
      ],
      "execution_count": 70,
      "outputs": [
        {
          "output_type": "execute_result",
          "data": {
            "text/html": [
              "<div>\n",
              "<style scoped>\n",
              "    .dataframe tbody tr th:only-of-type {\n",
              "        vertical-align: middle;\n",
              "    }\n",
              "\n",
              "    .dataframe tbody tr th {\n",
              "        vertical-align: top;\n",
              "    }\n",
              "\n",
              "    .dataframe thead th {\n",
              "        text-align: right;\n",
              "    }\n",
              "</style>\n",
              "<table border=\"1\" class=\"dataframe\">\n",
              "  <thead>\n",
              "    <tr style=\"text-align: right;\">\n",
              "      <th></th>\n",
              "      <th>Discipline</th>\n",
              "      <th>Female</th>\n",
              "      <th>Male</th>\n",
              "      <th>Total</th>\n",
              "    </tr>\n",
              "  </thead>\n",
              "  <tbody>\n",
              "    <tr>\n",
              "      <th>0</th>\n",
              "      <td>3x3 Basketball</td>\n",
              "      <td>32</td>\n",
              "      <td>32</td>\n",
              "      <td>64</td>\n",
              "    </tr>\n",
              "    <tr>\n",
              "      <th>1</th>\n",
              "      <td>Archery</td>\n",
              "      <td>64</td>\n",
              "      <td>64</td>\n",
              "      <td>128</td>\n",
              "    </tr>\n",
              "    <tr>\n",
              "      <th>2</th>\n",
              "      <td>Artistic Gymnastics</td>\n",
              "      <td>98</td>\n",
              "      <td>98</td>\n",
              "      <td>196</td>\n",
              "    </tr>\n",
              "    <tr>\n",
              "      <th>3</th>\n",
              "      <td>Artistic Swimming</td>\n",
              "      <td>105</td>\n",
              "      <td>0</td>\n",
              "      <td>105</td>\n",
              "    </tr>\n",
              "    <tr>\n",
              "      <th>4</th>\n",
              "      <td>Athletics</td>\n",
              "      <td>969</td>\n",
              "      <td>1072</td>\n",
              "      <td>2041</td>\n",
              "    </tr>\n",
              "  </tbody>\n",
              "</table>\n",
              "</div>"
            ],
            "text/plain": [
              "            Discipline  Female  Male  Total\n",
              "0       3x3 Basketball      32    32     64\n",
              "1              Archery      64    64    128\n",
              "2  Artistic Gymnastics      98    98    196\n",
              "3    Artistic Swimming     105     0    105\n",
              "4            Athletics     969  1072   2041"
            ]
          },
          "metadata": {},
          "execution_count": 70
        }
      ]
    },
    {
      "cell_type": "code",
      "metadata": {
        "colab": {
          "base_uri": "https://localhost:8080/",
          "height": 204
        },
        "id": "YCvl3eUsI-j_",
        "outputId": "7b413cbd-92db-448d-db09-1e37ad3ea48f"
      },
      "source": [
        "medals.head()"
      ],
      "execution_count": 16,
      "outputs": [
        {
          "output_type": "execute_result",
          "data": {
            "text/html": [
              "<div>\n",
              "<style scoped>\n",
              "    .dataframe tbody tr th:only-of-type {\n",
              "        vertical-align: middle;\n",
              "    }\n",
              "\n",
              "    .dataframe tbody tr th {\n",
              "        vertical-align: top;\n",
              "    }\n",
              "\n",
              "    .dataframe thead th {\n",
              "        text-align: right;\n",
              "    }\n",
              "</style>\n",
              "<table border=\"1\" class=\"dataframe\">\n",
              "  <thead>\n",
              "    <tr style=\"text-align: right;\">\n",
              "      <th></th>\n",
              "      <th>Rank</th>\n",
              "      <th>Team/NOC</th>\n",
              "      <th>Gold</th>\n",
              "      <th>Silver</th>\n",
              "      <th>Bronze</th>\n",
              "      <th>Total</th>\n",
              "      <th>Rank by Total</th>\n",
              "    </tr>\n",
              "  </thead>\n",
              "  <tbody>\n",
              "    <tr>\n",
              "      <th>0</th>\n",
              "      <td>1</td>\n",
              "      <td>United States of America</td>\n",
              "      <td>39</td>\n",
              "      <td>41</td>\n",
              "      <td>33</td>\n",
              "      <td>113</td>\n",
              "      <td>1</td>\n",
              "    </tr>\n",
              "    <tr>\n",
              "      <th>1</th>\n",
              "      <td>2</td>\n",
              "      <td>People's Republic of China</td>\n",
              "      <td>38</td>\n",
              "      <td>32</td>\n",
              "      <td>18</td>\n",
              "      <td>88</td>\n",
              "      <td>2</td>\n",
              "    </tr>\n",
              "    <tr>\n",
              "      <th>2</th>\n",
              "      <td>3</td>\n",
              "      <td>Japan</td>\n",
              "      <td>27</td>\n",
              "      <td>14</td>\n",
              "      <td>17</td>\n",
              "      <td>58</td>\n",
              "      <td>5</td>\n",
              "    </tr>\n",
              "    <tr>\n",
              "      <th>3</th>\n",
              "      <td>4</td>\n",
              "      <td>Great Britain</td>\n",
              "      <td>22</td>\n",
              "      <td>21</td>\n",
              "      <td>22</td>\n",
              "      <td>65</td>\n",
              "      <td>4</td>\n",
              "    </tr>\n",
              "    <tr>\n",
              "      <th>4</th>\n",
              "      <td>5</td>\n",
              "      <td>ROC</td>\n",
              "      <td>20</td>\n",
              "      <td>28</td>\n",
              "      <td>23</td>\n",
              "      <td>71</td>\n",
              "      <td>3</td>\n",
              "    </tr>\n",
              "  </tbody>\n",
              "</table>\n",
              "</div>"
            ],
            "text/plain": [
              "   Rank                    Team/NOC  Gold  Silver  Bronze  Total  Rank by Total\n",
              "0     1    United States of America    39      41      33    113              1\n",
              "1     2  People's Republic of China    38      32      18     88              2\n",
              "2     3                       Japan    27      14      17     58              5\n",
              "3     4               Great Britain    22      21      22     65              4\n",
              "4     5                         ROC    20      28      23     71              3"
            ]
          },
          "metadata": {},
          "execution_count": 16
        }
      ]
    },
    {
      "cell_type": "markdown",
      "metadata": {
        "id": "SL7AlzVvB172"
      },
      "source": [
        "## Sorting the Medals table based on the total number of medals"
      ]
    },
    {
      "cell_type": "code",
      "metadata": {
        "colab": {
          "base_uri": "https://localhost:8080/",
          "height": 359
        },
        "id": "qpbTDJMlOjtM",
        "outputId": "51f2953a-df20-44ca-9b55-80685e8ad10a"
      },
      "source": [
        "medals.sort_values('Rank by Total', inplace=True)\n",
        "medals.head(10)"
      ],
      "execution_count": 17,
      "outputs": [
        {
          "output_type": "execute_result",
          "data": {
            "text/html": [
              "<div>\n",
              "<style scoped>\n",
              "    .dataframe tbody tr th:only-of-type {\n",
              "        vertical-align: middle;\n",
              "    }\n",
              "\n",
              "    .dataframe tbody tr th {\n",
              "        vertical-align: top;\n",
              "    }\n",
              "\n",
              "    .dataframe thead th {\n",
              "        text-align: right;\n",
              "    }\n",
              "</style>\n",
              "<table border=\"1\" class=\"dataframe\">\n",
              "  <thead>\n",
              "    <tr style=\"text-align: right;\">\n",
              "      <th></th>\n",
              "      <th>Rank</th>\n",
              "      <th>Team/NOC</th>\n",
              "      <th>Gold</th>\n",
              "      <th>Silver</th>\n",
              "      <th>Bronze</th>\n",
              "      <th>Total</th>\n",
              "      <th>Rank by Total</th>\n",
              "    </tr>\n",
              "  </thead>\n",
              "  <tbody>\n",
              "    <tr>\n",
              "      <th>0</th>\n",
              "      <td>1</td>\n",
              "      <td>United States of America</td>\n",
              "      <td>39</td>\n",
              "      <td>41</td>\n",
              "      <td>33</td>\n",
              "      <td>113</td>\n",
              "      <td>1</td>\n",
              "    </tr>\n",
              "    <tr>\n",
              "      <th>1</th>\n",
              "      <td>2</td>\n",
              "      <td>People's Republic of China</td>\n",
              "      <td>38</td>\n",
              "      <td>32</td>\n",
              "      <td>18</td>\n",
              "      <td>88</td>\n",
              "      <td>2</td>\n",
              "    </tr>\n",
              "    <tr>\n",
              "      <th>4</th>\n",
              "      <td>5</td>\n",
              "      <td>ROC</td>\n",
              "      <td>20</td>\n",
              "      <td>28</td>\n",
              "      <td>23</td>\n",
              "      <td>71</td>\n",
              "      <td>3</td>\n",
              "    </tr>\n",
              "    <tr>\n",
              "      <th>3</th>\n",
              "      <td>4</td>\n",
              "      <td>Great Britain</td>\n",
              "      <td>22</td>\n",
              "      <td>21</td>\n",
              "      <td>22</td>\n",
              "      <td>65</td>\n",
              "      <td>4</td>\n",
              "    </tr>\n",
              "    <tr>\n",
              "      <th>2</th>\n",
              "      <td>3</td>\n",
              "      <td>Japan</td>\n",
              "      <td>27</td>\n",
              "      <td>14</td>\n",
              "      <td>17</td>\n",
              "      <td>58</td>\n",
              "      <td>5</td>\n",
              "    </tr>\n",
              "    <tr>\n",
              "      <th>5</th>\n",
              "      <td>6</td>\n",
              "      <td>Australia</td>\n",
              "      <td>17</td>\n",
              "      <td>7</td>\n",
              "      <td>22</td>\n",
              "      <td>46</td>\n",
              "      <td>6</td>\n",
              "    </tr>\n",
              "    <tr>\n",
              "      <th>9</th>\n",
              "      <td>10</td>\n",
              "      <td>Italy</td>\n",
              "      <td>10</td>\n",
              "      <td>10</td>\n",
              "      <td>20</td>\n",
              "      <td>40</td>\n",
              "      <td>7</td>\n",
              "    </tr>\n",
              "    <tr>\n",
              "      <th>8</th>\n",
              "      <td>9</td>\n",
              "      <td>Germany</td>\n",
              "      <td>10</td>\n",
              "      <td>11</td>\n",
              "      <td>16</td>\n",
              "      <td>37</td>\n",
              "      <td>8</td>\n",
              "    </tr>\n",
              "    <tr>\n",
              "      <th>6</th>\n",
              "      <td>7</td>\n",
              "      <td>Netherlands</td>\n",
              "      <td>10</td>\n",
              "      <td>12</td>\n",
              "      <td>14</td>\n",
              "      <td>36</td>\n",
              "      <td>9</td>\n",
              "    </tr>\n",
              "    <tr>\n",
              "      <th>7</th>\n",
              "      <td>8</td>\n",
              "      <td>France</td>\n",
              "      <td>10</td>\n",
              "      <td>12</td>\n",
              "      <td>11</td>\n",
              "      <td>33</td>\n",
              "      <td>10</td>\n",
              "    </tr>\n",
              "  </tbody>\n",
              "</table>\n",
              "</div>"
            ],
            "text/plain": [
              "   Rank                    Team/NOC  Gold  Silver  Bronze  Total  Rank by Total\n",
              "0     1    United States of America    39      41      33    113              1\n",
              "1     2  People's Republic of China    38      32      18     88              2\n",
              "4     5                         ROC    20      28      23     71              3\n",
              "3     4               Great Britain    22      21      22     65              4\n",
              "2     3                       Japan    27      14      17     58              5\n",
              "5     6                   Australia    17       7      22     46              6\n",
              "9    10                       Italy    10      10      20     40              7\n",
              "8     9                     Germany    10      11      16     37              8\n",
              "6     7                 Netherlands    10      12      14     36              9\n",
              "7     8                      France    10      12      11     33             10"
            ]
          },
          "metadata": {},
          "execution_count": 17
        }
      ]
    },
    {
      "cell_type": "markdown",
      "metadata": {
        "id": "QjX_jFacCBIL"
      },
      "source": [
        "## Visualizing the number of Gold, Silver, and Bronze medals each country won"
      ]
    },
    {
      "cell_type": "code",
      "metadata": {
        "colab": {
          "base_uri": "https://localhost:8080/",
          "height": 542
        },
        "id": "1eQG6AGxO885",
        "outputId": "e9399f7e-349e-4a90-e30f-be2e2830c689"
      },
      "source": [
        "fig = px.bar(medals, x='Team/NOC', y=['Gold', 'Silver', 'Bronze'], color_discrete_sequence=['Gold', 'Silver', 'Brown'], title = 'Medals Earned By Respective Countrys')\n",
        "fig.show()"
      ],
      "execution_count": 18,
      "outputs": [
        {
          "output_type": "display_data",
          "data": {
            "text/html": [
              "<html>\n",
              "<head><meta charset=\"utf-8\" /></head>\n",
              "<body>\n",
              "    <div>            <script src=\"https://cdnjs.cloudflare.com/ajax/libs/mathjax/2.7.5/MathJax.js?config=TeX-AMS-MML_SVG\"></script><script type=\"text/javascript\">if (window.MathJax) {MathJax.Hub.Config({SVG: {font: \"STIX-Web\"}});}</script>                <script type=\"text/javascript\">window.PlotlyConfig = {MathJaxConfig: 'local'};</script>\n",
              "        <script src=\"https://cdn.plot.ly/plotly-2.4.2.min.js\"></script>                <div id=\"f47847ba-503a-4366-8c46-89a8eba25542\" class=\"plotly-graph-div\" style=\"height:525px; width:100%;\"></div>            <script type=\"text/javascript\">                                    window.PLOTLYENV=window.PLOTLYENV || {};                                    if (document.getElementById(\"f47847ba-503a-4366-8c46-89a8eba25542\")) {                    Plotly.newPlot(                        \"f47847ba-503a-4366-8c46-89a8eba25542\",                        [{\"alignmentgroup\":\"True\",\"hovertemplate\":\"variable=Gold<br>Team/NOC=%{x}<br>value=%{y}<extra></extra>\",\"legendgroup\":\"Gold\",\"marker\":{\"color\":\"Gold\",\"pattern\":{\"shape\":\"\"}},\"name\":\"Gold\",\"offsetgroup\":\"Gold\",\"orientation\":\"v\",\"showlegend\":true,\"textposition\":\"auto\",\"type\":\"bar\",\"x\":[\"United States of America\",\"People's Republic of China\",\"ROC\",\"Great Britain\",\"Japan\",\"Australia\",\"Italy\",\"Germany\",\"Netherlands\",\"France\",\"Canada\",\"Brazil\",\"Republic of Korea\",\"Hungary\",\"New Zealand\",\"Ukraine\",\"Spain\",\"Cuba\",\"Poland\",\"Switzerland\",\"Turkey\",\"Chinese Taipei\",\"Czech Republic\",\"Denmark\",\"Kenya\",\"Jamaica\",\"Sweden\",\"Serbia\",\"Kazakhstan\",\"Georgia\",\"Croatia\",\"Norway\",\"Azerbaijan\",\"India\",\"Belarus\",\"Austria\",\"Islamic Republic of Iran\",\"Belgium\",\"Egypt\",\"Bulgaria\",\"Hong Kong, China\",\"Dominican Republic\",\"Slovenia\",\"Colombia\",\"Indonesia\",\"Uzbekistan\",\"Mongolia\",\"Armenia\",\"Portugal\",\"Ethiopia\",\"Mexico\",\"Venezuela\",\"Slovakia\",\"Philippines\",\"Greece\",\"Romania\",\"Uganda\",\"Ireland\",\"Israel\",\"South Africa\",\"Argentina\",\"Ecuador\",\"Kyrgyzstan\",\"Qatar\",\"San Marino\",\"Bahamas\",\"Finland\",\"Nigeria\",\"Malaysia\",\"Tunisia\",\"Estonia\",\"Jordan\",\"Latvia\",\"Thailand\",\"Fiji\",\"Kosovo\",\"Republic of Moldova\",\"Grenada\",\"Ghana\",\"C\\u00f4te d'Ivoire\",\"Burkina Faso\",\"Botswana\",\"Kuwait\",\"Lithuania\",\"Namibia\",\"North Macedonia\",\"Puerto Rico\",\"Saudi Arabia\",\"Bahrain\",\"Bermuda\",\"Morocco\",\"Turkmenistan\",\"Syrian Arab Republic\"],\"xaxis\":\"x\",\"y\":[39,38,20,22,27,17,10,10,10,10,7,7,6,6,7,1,3,7,4,3,2,2,4,3,4,4,3,3,0,2,3,4,0,1,1,1,3,3,1,3,1,0,3,0,1,3,0,0,1,1,0,1,1,1,2,1,2,2,2,1,0,2,0,2,0,2,0,0,0,1,1,0,1,1,1,2,0,0,0,0,0,0,0,0,0,0,1,0,0,1,1,0,0],\"yaxis\":\"y\"},{\"alignmentgroup\":\"True\",\"hovertemplate\":\"variable=Silver<br>Team/NOC=%{x}<br>value=%{y}<extra></extra>\",\"legendgroup\":\"Silver\",\"marker\":{\"color\":\"Silver\",\"pattern\":{\"shape\":\"\"}},\"name\":\"Silver\",\"offsetgroup\":\"Silver\",\"orientation\":\"v\",\"showlegend\":true,\"textposition\":\"auto\",\"type\":\"bar\",\"x\":[\"United States of America\",\"People's Republic of China\",\"ROC\",\"Great Britain\",\"Japan\",\"Australia\",\"Italy\",\"Germany\",\"Netherlands\",\"France\",\"Canada\",\"Brazil\",\"Republic of Korea\",\"Hungary\",\"New Zealand\",\"Ukraine\",\"Spain\",\"Cuba\",\"Poland\",\"Switzerland\",\"Turkey\",\"Chinese Taipei\",\"Czech Republic\",\"Denmark\",\"Kenya\",\"Jamaica\",\"Sweden\",\"Serbia\",\"Kazakhstan\",\"Georgia\",\"Croatia\",\"Norway\",\"Azerbaijan\",\"India\",\"Belarus\",\"Austria\",\"Islamic Republic of Iran\",\"Belgium\",\"Egypt\",\"Bulgaria\",\"Hong Kong, China\",\"Dominican Republic\",\"Slovenia\",\"Colombia\",\"Indonesia\",\"Uzbekistan\",\"Mongolia\",\"Armenia\",\"Portugal\",\"Ethiopia\",\"Mexico\",\"Venezuela\",\"Slovakia\",\"Philippines\",\"Greece\",\"Romania\",\"Uganda\",\"Ireland\",\"Israel\",\"South Africa\",\"Argentina\",\"Ecuador\",\"Kyrgyzstan\",\"Qatar\",\"San Marino\",\"Bahamas\",\"Finland\",\"Nigeria\",\"Malaysia\",\"Tunisia\",\"Estonia\",\"Jordan\",\"Latvia\",\"Thailand\",\"Fiji\",\"Kosovo\",\"Republic of Moldova\",\"Grenada\",\"Ghana\",\"C\\u00f4te d'Ivoire\",\"Burkina Faso\",\"Botswana\",\"Kuwait\",\"Lithuania\",\"Namibia\",\"North Macedonia\",\"Puerto Rico\",\"Saudi Arabia\",\"Bahrain\",\"Bermuda\",\"Morocco\",\"Turkmenistan\",\"Syrian Arab Republic\"],\"xaxis\":\"x\",\"y\":[41,32,28,21,14,7,10,11,12,12,6,6,4,7,6,6,8,3,5,4,2,4,4,4,4,1,6,1,0,5,3,2,3,2,3,1,2,1,1,1,2,3,1,4,1,0,1,2,1,1,0,3,2,2,1,3,1,0,0,2,1,1,2,0,1,0,0,1,1,1,0,1,0,0,0,0,0,0,0,0,0,0,0,1,1,1,0,1,1,0,0,1,0],\"yaxis\":\"y\"},{\"alignmentgroup\":\"True\",\"hovertemplate\":\"variable=Bronze<br>Team/NOC=%{x}<br>value=%{y}<extra></extra>\",\"legendgroup\":\"Bronze\",\"marker\":{\"color\":\"Brown\",\"pattern\":{\"shape\":\"\"}},\"name\":\"Bronze\",\"offsetgroup\":\"Bronze\",\"orientation\":\"v\",\"showlegend\":true,\"textposition\":\"auto\",\"type\":\"bar\",\"x\":[\"United States of America\",\"People's Republic of China\",\"ROC\",\"Great Britain\",\"Japan\",\"Australia\",\"Italy\",\"Germany\",\"Netherlands\",\"France\",\"Canada\",\"Brazil\",\"Republic of Korea\",\"Hungary\",\"New Zealand\",\"Ukraine\",\"Spain\",\"Cuba\",\"Poland\",\"Switzerland\",\"Turkey\",\"Chinese Taipei\",\"Czech Republic\",\"Denmark\",\"Kenya\",\"Jamaica\",\"Sweden\",\"Serbia\",\"Kazakhstan\",\"Georgia\",\"Croatia\",\"Norway\",\"Azerbaijan\",\"India\",\"Belarus\",\"Austria\",\"Islamic Republic of Iran\",\"Belgium\",\"Egypt\",\"Bulgaria\",\"Hong Kong, China\",\"Dominican Republic\",\"Slovenia\",\"Colombia\",\"Indonesia\",\"Uzbekistan\",\"Mongolia\",\"Armenia\",\"Portugal\",\"Ethiopia\",\"Mexico\",\"Venezuela\",\"Slovakia\",\"Philippines\",\"Greece\",\"Romania\",\"Uganda\",\"Ireland\",\"Israel\",\"South Africa\",\"Argentina\",\"Ecuador\",\"Kyrgyzstan\",\"Qatar\",\"San Marino\",\"Bahamas\",\"Finland\",\"Nigeria\",\"Malaysia\",\"Tunisia\",\"Estonia\",\"Jordan\",\"Latvia\",\"Thailand\",\"Fiji\",\"Kosovo\",\"Republic of Moldova\",\"Grenada\",\"Ghana\",\"C\\u00f4te d'Ivoire\",\"Burkina Faso\",\"Botswana\",\"Kuwait\",\"Lithuania\",\"Namibia\",\"North Macedonia\",\"Puerto Rico\",\"Saudi Arabia\",\"Bahrain\",\"Bermuda\",\"Morocco\",\"Turkmenistan\",\"Syrian Arab Republic\"],\"xaxis\":\"x\",\"y\":[33,18,23,22,17,22,20,16,14,11,11,8,10,7,7,12,6,5,5,6,9,6,3,4,2,4,0,5,8,1,2,2,4,4,3,5,2,3,4,2,3,2,1,1,3,2,3,2,2,2,4,0,1,1,1,0,1,2,2,0,2,0,1,1,2,0,2,1,1,0,1,1,1,1,1,0,1,1,1,1,1,1,1,0,0,0,0,0,0,0,0,0,1],\"yaxis\":\"y\"}],                        {\"barmode\":\"relative\",\"legend\":{\"title\":{\"text\":\"variable\"},\"tracegroupgap\":0},\"template\":{\"data\":{\"bar\":[{\"error_x\":{\"color\":\"#2a3f5f\"},\"error_y\":{\"color\":\"#2a3f5f\"},\"marker\":{\"line\":{\"color\":\"#E5ECF6\",\"width\":0.5},\"pattern\":{\"fillmode\":\"overlay\",\"size\":10,\"solidity\":0.2}},\"type\":\"bar\"}],\"barpolar\":[{\"marker\":{\"line\":{\"color\":\"#E5ECF6\",\"width\":0.5},\"pattern\":{\"fillmode\":\"overlay\",\"size\":10,\"solidity\":0.2}},\"type\":\"barpolar\"}],\"carpet\":[{\"aaxis\":{\"endlinecolor\":\"#2a3f5f\",\"gridcolor\":\"white\",\"linecolor\":\"white\",\"minorgridcolor\":\"white\",\"startlinecolor\":\"#2a3f5f\"},\"baxis\":{\"endlinecolor\":\"#2a3f5f\",\"gridcolor\":\"white\",\"linecolor\":\"white\",\"minorgridcolor\":\"white\",\"startlinecolor\":\"#2a3f5f\"},\"type\":\"carpet\"}],\"choropleth\":[{\"colorbar\":{\"outlinewidth\":0,\"ticks\":\"\"},\"type\":\"choropleth\"}],\"contour\":[{\"colorbar\":{\"outlinewidth\":0,\"ticks\":\"\"},\"colorscale\":[[0.0,\"#0d0887\"],[0.1111111111111111,\"#46039f\"],[0.2222222222222222,\"#7201a8\"],[0.3333333333333333,\"#9c179e\"],[0.4444444444444444,\"#bd3786\"],[0.5555555555555556,\"#d8576b\"],[0.6666666666666666,\"#ed7953\"],[0.7777777777777778,\"#fb9f3a\"],[0.8888888888888888,\"#fdca26\"],[1.0,\"#f0f921\"]],\"type\":\"contour\"}],\"contourcarpet\":[{\"colorbar\":{\"outlinewidth\":0,\"ticks\":\"\"},\"type\":\"contourcarpet\"}],\"heatmap\":[{\"colorbar\":{\"outlinewidth\":0,\"ticks\":\"\"},\"colorscale\":[[0.0,\"#0d0887\"],[0.1111111111111111,\"#46039f\"],[0.2222222222222222,\"#7201a8\"],[0.3333333333333333,\"#9c179e\"],[0.4444444444444444,\"#bd3786\"],[0.5555555555555556,\"#d8576b\"],[0.6666666666666666,\"#ed7953\"],[0.7777777777777778,\"#fb9f3a\"],[0.8888888888888888,\"#fdca26\"],[1.0,\"#f0f921\"]],\"type\":\"heatmap\"}],\"heatmapgl\":[{\"colorbar\":{\"outlinewidth\":0,\"ticks\":\"\"},\"colorscale\":[[0.0,\"#0d0887\"],[0.1111111111111111,\"#46039f\"],[0.2222222222222222,\"#7201a8\"],[0.3333333333333333,\"#9c179e\"],[0.4444444444444444,\"#bd3786\"],[0.5555555555555556,\"#d8576b\"],[0.6666666666666666,\"#ed7953\"],[0.7777777777777778,\"#fb9f3a\"],[0.8888888888888888,\"#fdca26\"],[1.0,\"#f0f921\"]],\"type\":\"heatmapgl\"}],\"histogram\":[{\"marker\":{\"pattern\":{\"fillmode\":\"overlay\",\"size\":10,\"solidity\":0.2}},\"type\":\"histogram\"}],\"histogram2d\":[{\"colorbar\":{\"outlinewidth\":0,\"ticks\":\"\"},\"colorscale\":[[0.0,\"#0d0887\"],[0.1111111111111111,\"#46039f\"],[0.2222222222222222,\"#7201a8\"],[0.3333333333333333,\"#9c179e\"],[0.4444444444444444,\"#bd3786\"],[0.5555555555555556,\"#d8576b\"],[0.6666666666666666,\"#ed7953\"],[0.7777777777777778,\"#fb9f3a\"],[0.8888888888888888,\"#fdca26\"],[1.0,\"#f0f921\"]],\"type\":\"histogram2d\"}],\"histogram2dcontour\":[{\"colorbar\":{\"outlinewidth\":0,\"ticks\":\"\"},\"colorscale\":[[0.0,\"#0d0887\"],[0.1111111111111111,\"#46039f\"],[0.2222222222222222,\"#7201a8\"],[0.3333333333333333,\"#9c179e\"],[0.4444444444444444,\"#bd3786\"],[0.5555555555555556,\"#d8576b\"],[0.6666666666666666,\"#ed7953\"],[0.7777777777777778,\"#fb9f3a\"],[0.8888888888888888,\"#fdca26\"],[1.0,\"#f0f921\"]],\"type\":\"histogram2dcontour\"}],\"mesh3d\":[{\"colorbar\":{\"outlinewidth\":0,\"ticks\":\"\"},\"type\":\"mesh3d\"}],\"parcoords\":[{\"line\":{\"colorbar\":{\"outlinewidth\":0,\"ticks\":\"\"}},\"type\":\"parcoords\"}],\"pie\":[{\"automargin\":true,\"type\":\"pie\"}],\"scatter\":[{\"marker\":{\"colorbar\":{\"outlinewidth\":0,\"ticks\":\"\"}},\"type\":\"scatter\"}],\"scatter3d\":[{\"line\":{\"colorbar\":{\"outlinewidth\":0,\"ticks\":\"\"}},\"marker\":{\"colorbar\":{\"outlinewidth\":0,\"ticks\":\"\"}},\"type\":\"scatter3d\"}],\"scattercarpet\":[{\"marker\":{\"colorbar\":{\"outlinewidth\":0,\"ticks\":\"\"}},\"type\":\"scattercarpet\"}],\"scattergeo\":[{\"marker\":{\"colorbar\":{\"outlinewidth\":0,\"ticks\":\"\"}},\"type\":\"scattergeo\"}],\"scattergl\":[{\"marker\":{\"colorbar\":{\"outlinewidth\":0,\"ticks\":\"\"}},\"type\":\"scattergl\"}],\"scattermapbox\":[{\"marker\":{\"colorbar\":{\"outlinewidth\":0,\"ticks\":\"\"}},\"type\":\"scattermapbox\"}],\"scatterpolar\":[{\"marker\":{\"colorbar\":{\"outlinewidth\":0,\"ticks\":\"\"}},\"type\":\"scatterpolar\"}],\"scatterpolargl\":[{\"marker\":{\"colorbar\":{\"outlinewidth\":0,\"ticks\":\"\"}},\"type\":\"scatterpolargl\"}],\"scatterternary\":[{\"marker\":{\"colorbar\":{\"outlinewidth\":0,\"ticks\":\"\"}},\"type\":\"scatterternary\"}],\"surface\":[{\"colorbar\":{\"outlinewidth\":0,\"ticks\":\"\"},\"colorscale\":[[0.0,\"#0d0887\"],[0.1111111111111111,\"#46039f\"],[0.2222222222222222,\"#7201a8\"],[0.3333333333333333,\"#9c179e\"],[0.4444444444444444,\"#bd3786\"],[0.5555555555555556,\"#d8576b\"],[0.6666666666666666,\"#ed7953\"],[0.7777777777777778,\"#fb9f3a\"],[0.8888888888888888,\"#fdca26\"],[1.0,\"#f0f921\"]],\"type\":\"surface\"}],\"table\":[{\"cells\":{\"fill\":{\"color\":\"#EBF0F8\"},\"line\":{\"color\":\"white\"}},\"header\":{\"fill\":{\"color\":\"#C8D4E3\"},\"line\":{\"color\":\"white\"}},\"type\":\"table\"}]},\"layout\":{\"annotationdefaults\":{\"arrowcolor\":\"#2a3f5f\",\"arrowhead\":0,\"arrowwidth\":1},\"autotypenumbers\":\"strict\",\"coloraxis\":{\"colorbar\":{\"outlinewidth\":0,\"ticks\":\"\"}},\"colorscale\":{\"diverging\":[[0,\"#8e0152\"],[0.1,\"#c51b7d\"],[0.2,\"#de77ae\"],[0.3,\"#f1b6da\"],[0.4,\"#fde0ef\"],[0.5,\"#f7f7f7\"],[0.6,\"#e6f5d0\"],[0.7,\"#b8e186\"],[0.8,\"#7fbc41\"],[0.9,\"#4d9221\"],[1,\"#276419\"]],\"sequential\":[[0.0,\"#0d0887\"],[0.1111111111111111,\"#46039f\"],[0.2222222222222222,\"#7201a8\"],[0.3333333333333333,\"#9c179e\"],[0.4444444444444444,\"#bd3786\"],[0.5555555555555556,\"#d8576b\"],[0.6666666666666666,\"#ed7953\"],[0.7777777777777778,\"#fb9f3a\"],[0.8888888888888888,\"#fdca26\"],[1.0,\"#f0f921\"]],\"sequentialminus\":[[0.0,\"#0d0887\"],[0.1111111111111111,\"#46039f\"],[0.2222222222222222,\"#7201a8\"],[0.3333333333333333,\"#9c179e\"],[0.4444444444444444,\"#bd3786\"],[0.5555555555555556,\"#d8576b\"],[0.6666666666666666,\"#ed7953\"],[0.7777777777777778,\"#fb9f3a\"],[0.8888888888888888,\"#fdca26\"],[1.0,\"#f0f921\"]]},\"colorway\":[\"#636efa\",\"#EF553B\",\"#00cc96\",\"#ab63fa\",\"#FFA15A\",\"#19d3f3\",\"#FF6692\",\"#B6E880\",\"#FF97FF\",\"#FECB52\"],\"font\":{\"color\":\"#2a3f5f\"},\"geo\":{\"bgcolor\":\"white\",\"lakecolor\":\"white\",\"landcolor\":\"#E5ECF6\",\"showlakes\":true,\"showland\":true,\"subunitcolor\":\"white\"},\"hoverlabel\":{\"align\":\"left\"},\"hovermode\":\"closest\",\"mapbox\":{\"style\":\"light\"},\"paper_bgcolor\":\"white\",\"plot_bgcolor\":\"#E5ECF6\",\"polar\":{\"angularaxis\":{\"gridcolor\":\"white\",\"linecolor\":\"white\",\"ticks\":\"\"},\"bgcolor\":\"#E5ECF6\",\"radialaxis\":{\"gridcolor\":\"white\",\"linecolor\":\"white\",\"ticks\":\"\"}},\"scene\":{\"xaxis\":{\"backgroundcolor\":\"#E5ECF6\",\"gridcolor\":\"white\",\"gridwidth\":2,\"linecolor\":\"white\",\"showbackground\":true,\"ticks\":\"\",\"zerolinecolor\":\"white\"},\"yaxis\":{\"backgroundcolor\":\"#E5ECF6\",\"gridcolor\":\"white\",\"gridwidth\":2,\"linecolor\":\"white\",\"showbackground\":true,\"ticks\":\"\",\"zerolinecolor\":\"white\"},\"zaxis\":{\"backgroundcolor\":\"#E5ECF6\",\"gridcolor\":\"white\",\"gridwidth\":2,\"linecolor\":\"white\",\"showbackground\":true,\"ticks\":\"\",\"zerolinecolor\":\"white\"}},\"shapedefaults\":{\"line\":{\"color\":\"#2a3f5f\"}},\"ternary\":{\"aaxis\":{\"gridcolor\":\"white\",\"linecolor\":\"white\",\"ticks\":\"\"},\"baxis\":{\"gridcolor\":\"white\",\"linecolor\":\"white\",\"ticks\":\"\"},\"bgcolor\":\"#E5ECF6\",\"caxis\":{\"gridcolor\":\"white\",\"linecolor\":\"white\",\"ticks\":\"\"}},\"title\":{\"x\":0.05},\"xaxis\":{\"automargin\":true,\"gridcolor\":\"white\",\"linecolor\":\"white\",\"ticks\":\"\",\"title\":{\"standoff\":15},\"zerolinecolor\":\"white\",\"zerolinewidth\":2},\"yaxis\":{\"automargin\":true,\"gridcolor\":\"white\",\"linecolor\":\"white\",\"ticks\":\"\",\"title\":{\"standoff\":15},\"zerolinecolor\":\"white\",\"zerolinewidth\":2}}},\"title\":{\"text\":\"Medals Earned By Respective Countrys\"},\"xaxis\":{\"anchor\":\"y\",\"domain\":[0.0,1.0],\"title\":{\"text\":\"Team/NOC\"}},\"yaxis\":{\"anchor\":\"x\",\"domain\":[0.0,1.0],\"title\":{\"text\":\"value\"}}},                        {\"responsive\": true}                    ).then(function(){\n",
              "                            \n",
              "var gd = document.getElementById('f47847ba-503a-4366-8c46-89a8eba25542');\n",
              "var x = new MutationObserver(function (mutations, observer) {{\n",
              "        var display = window.getComputedStyle(gd).display;\n",
              "        if (!display || display === 'none') {{\n",
              "            console.log([gd, 'removed!']);\n",
              "            Plotly.purge(gd);\n",
              "            observer.disconnect();\n",
              "        }}\n",
              "}});\n",
              "\n",
              "// Listen for the removal of the full notebook cells\n",
              "var notebookContainer = gd.closest('#notebook-container');\n",
              "if (notebookContainer) {{\n",
              "    x.observe(notebookContainer, {childList: true});\n",
              "}}\n",
              "\n",
              "// Listen for the clearing of the current output cell\n",
              "var outputEl = gd.closest('.output');\n",
              "if (outputEl) {{\n",
              "    x.observe(outputEl, {childList: true});\n",
              "}}\n",
              "\n",
              "                        })                };                            </script>        </div>\n",
              "</body>\n",
              "</html>"
            ]
          },
          "metadata": {}
        }
      ]
    },
    {
      "cell_type": "code",
      "metadata": {
        "colab": {
          "base_uri": "https://localhost:8080/",
          "height": 204
        },
        "id": "KTIApCY3JCc5",
        "outputId": "0d79c85c-a241-4e1d-9a65-c86bc816dc66"
      },
      "source": [
        "teams.head()"
      ],
      "execution_count": 19,
      "outputs": [
        {
          "output_type": "execute_result",
          "data": {
            "text/html": [
              "<div>\n",
              "<style scoped>\n",
              "    .dataframe tbody tr th:only-of-type {\n",
              "        vertical-align: middle;\n",
              "    }\n",
              "\n",
              "    .dataframe tbody tr th {\n",
              "        vertical-align: top;\n",
              "    }\n",
              "\n",
              "    .dataframe thead th {\n",
              "        text-align: right;\n",
              "    }\n",
              "</style>\n",
              "<table border=\"1\" class=\"dataframe\">\n",
              "  <thead>\n",
              "    <tr style=\"text-align: right;\">\n",
              "      <th></th>\n",
              "      <th>Name</th>\n",
              "      <th>Discipline</th>\n",
              "      <th>NOC</th>\n",
              "      <th>Event</th>\n",
              "    </tr>\n",
              "  </thead>\n",
              "  <tbody>\n",
              "    <tr>\n",
              "      <th>0</th>\n",
              "      <td>Belgium</td>\n",
              "      <td>3x3 Basketball</td>\n",
              "      <td>Belgium</td>\n",
              "      <td>Men</td>\n",
              "    </tr>\n",
              "    <tr>\n",
              "      <th>1</th>\n",
              "      <td>China</td>\n",
              "      <td>3x3 Basketball</td>\n",
              "      <td>People's Republic of China</td>\n",
              "      <td>Men</td>\n",
              "    </tr>\n",
              "    <tr>\n",
              "      <th>2</th>\n",
              "      <td>China</td>\n",
              "      <td>3x3 Basketball</td>\n",
              "      <td>People's Republic of China</td>\n",
              "      <td>Women</td>\n",
              "    </tr>\n",
              "    <tr>\n",
              "      <th>3</th>\n",
              "      <td>France</td>\n",
              "      <td>3x3 Basketball</td>\n",
              "      <td>France</td>\n",
              "      <td>Women</td>\n",
              "    </tr>\n",
              "    <tr>\n",
              "      <th>4</th>\n",
              "      <td>Italy</td>\n",
              "      <td>3x3 Basketball</td>\n",
              "      <td>Italy</td>\n",
              "      <td>Women</td>\n",
              "    </tr>\n",
              "  </tbody>\n",
              "</table>\n",
              "</div>"
            ],
            "text/plain": [
              "      Name      Discipline                         NOC  Event\n",
              "0  Belgium  3x3 Basketball                     Belgium    Men\n",
              "1    China  3x3 Basketball  People's Republic of China    Men\n",
              "2    China  3x3 Basketball  People's Republic of China  Women\n",
              "3   France  3x3 Basketball                      France  Women\n",
              "4    Italy  3x3 Basketball                       Italy  Women"
            ]
          },
          "metadata": {},
          "execution_count": 19
        }
      ]
    },
    {
      "cell_type": "code",
      "metadata": {
        "colab": {
          "base_uri": "https://localhost:8080/"
        },
        "id": "ETfMKjRmJDdE",
        "outputId": "f664826c-7b14-4ba5-a0ad-6456057ae9ba"
      },
      "source": [
        "spark.read.csv('Coaches.csv', header=True, inferSchema=True).createOrReplaceTempView('Coaches')\n",
        "spark.sql('select * from Coaches').show(10)"
      ],
      "execution_count": 20,
      "outputs": [
        {
          "output_type": "stream",
          "name": "stdout",
          "text": [
            "+--------------------+--------------------+-----------------+--------+\n",
            "|                Name|                 NOC|       Discipline|   Event|\n",
            "+--------------------+--------------------+-----------------+--------+\n",
            "|     ABDELMAGID Wael|               Egypt|         Football|    null|\n",
            "|           ABE Junya|               Japan|       Volleyball|    null|\n",
            "|       ABE Katsuhiko|               Japan|       Basketball|    null|\n",
            "|        ADAMA Cherif|       Côte d'Ivoire|         Football|    null|\n",
            "|          AGEBA Yuya|               Japan|       Volleyball|    null|\n",
            "|AIKMAN Siegfried ...|               Japan|           Hockey|     Men|\n",
            "|       AL SAADI Kais|             Germany|           Hockey|     Men|\n",
            "|       ALAMEDA Lonni|              Canada|Baseball/Softball|Softball|\n",
            "|     ALEKNO Vladimir|Islamic Republic ...|       Volleyball|     Men|\n",
            "|     ALEKSEEV Alexey|                 ROC|         Handball|   Women|\n",
            "+--------------------+--------------------+-----------------+--------+\n",
            "only showing top 10 rows\n",
            "\n"
          ]
        }
      ]
    },
    {
      "cell_type": "code",
      "metadata": {
        "colab": {
          "base_uri": "https://localhost:8080/"
        },
        "id": "YQjzpO12RKG8",
        "outputId": "a98c91e5-8287-4676-ebef-caa34f9b43d7"
      },
      "source": [
        "pd_Coaches_query = spark.sql('select NOC, COUNT(NOC) as Count from Coaches group by NOC order by NOC')\n",
        "pd_Coaches_query.show(5)\n",
        "pd = pd_Coaches_query.toPandas()"
      ],
      "execution_count": 21,
      "outputs": [
        {
          "output_type": "stream",
          "name": "stdout",
          "text": [
            "+---------+-----+\n",
            "|      NOC|Count|\n",
            "+---------+-----+\n",
            "|   Angola|    1|\n",
            "|Argentina|   11|\n",
            "|Australia|   22|\n",
            "|  Austria|    3|\n",
            "|  Bahrain|    1|\n",
            "+---------+-----+\n",
            "only showing top 5 rows\n",
            "\n"
          ]
        }
      ]
    },
    {
      "cell_type": "code",
      "metadata": {
        "colab": {
          "base_uri": "https://localhost:8080/",
          "height": 204
        },
        "id": "LnHEQ-v1R2Sg",
        "outputId": "df395ede-003a-4da7-9f6e-01b04c67e30a"
      },
      "source": [
        "pd.head()"
      ],
      "execution_count": 22,
      "outputs": [
        {
          "output_type": "execute_result",
          "data": {
            "text/html": [
              "<div>\n",
              "<style scoped>\n",
              "    .dataframe tbody tr th:only-of-type {\n",
              "        vertical-align: middle;\n",
              "    }\n",
              "\n",
              "    .dataframe tbody tr th {\n",
              "        vertical-align: top;\n",
              "    }\n",
              "\n",
              "    .dataframe thead th {\n",
              "        text-align: right;\n",
              "    }\n",
              "</style>\n",
              "<table border=\"1\" class=\"dataframe\">\n",
              "  <thead>\n",
              "    <tr style=\"text-align: right;\">\n",
              "      <th></th>\n",
              "      <th>NOC</th>\n",
              "      <th>Count</th>\n",
              "    </tr>\n",
              "  </thead>\n",
              "  <tbody>\n",
              "    <tr>\n",
              "      <th>0</th>\n",
              "      <td>Angola</td>\n",
              "      <td>1</td>\n",
              "    </tr>\n",
              "    <tr>\n",
              "      <th>1</th>\n",
              "      <td>Argentina</td>\n",
              "      <td>11</td>\n",
              "    </tr>\n",
              "    <tr>\n",
              "      <th>2</th>\n",
              "      <td>Australia</td>\n",
              "      <td>22</td>\n",
              "    </tr>\n",
              "    <tr>\n",
              "      <th>3</th>\n",
              "      <td>Austria</td>\n",
              "      <td>3</td>\n",
              "    </tr>\n",
              "    <tr>\n",
              "      <th>4</th>\n",
              "      <td>Bahrain</td>\n",
              "      <td>1</td>\n",
              "    </tr>\n",
              "  </tbody>\n",
              "</table>\n",
              "</div>"
            ],
            "text/plain": [
              "         NOC  Count\n",
              "0     Angola      1\n",
              "1  Argentina     11\n",
              "2  Australia     22\n",
              "3    Austria      3\n",
              "4    Bahrain      1"
            ]
          },
          "metadata": {},
          "execution_count": 22
        }
      ]
    },
    {
      "cell_type": "code",
      "metadata": {
        "colab": {
          "base_uri": "https://localhost:8080/",
          "height": 542
        },
        "id": "oR38yvApSPCj",
        "outputId": "8fd4b22b-90d0-4e92-c5ca-c841252643b4"
      },
      "source": [
        "fig = px.bar(pd, x='NOC', y='Count', color = 'Count', title='Count of Coaches from each Country')\n",
        "fig.show()"
      ],
      "execution_count": 23,
      "outputs": [
        {
          "output_type": "display_data",
          "data": {
            "text/html": [
              "<html>\n",
              "<head><meta charset=\"utf-8\" /></head>\n",
              "<body>\n",
              "    <div>            <script src=\"https://cdnjs.cloudflare.com/ajax/libs/mathjax/2.7.5/MathJax.js?config=TeX-AMS-MML_SVG\"></script><script type=\"text/javascript\">if (window.MathJax) {MathJax.Hub.Config({SVG: {font: \"STIX-Web\"}});}</script>                <script type=\"text/javascript\">window.PlotlyConfig = {MathJaxConfig: 'local'};</script>\n",
              "        <script src=\"https://cdn.plot.ly/plotly-2.4.2.min.js\"></script>                <div id=\"c8a9b8b5-7cce-4982-b579-847968646da1\" class=\"plotly-graph-div\" style=\"height:525px; width:100%;\"></div>            <script type=\"text/javascript\">                                    window.PLOTLYENV=window.PLOTLYENV || {};                                    if (document.getElementById(\"c8a9b8b5-7cce-4982-b579-847968646da1\")) {                    Plotly.newPlot(                        \"c8a9b8b5-7cce-4982-b579-847968646da1\",                        [{\"alignmentgroup\":\"True\",\"hovertemplate\":\"NOC=%{x}<br>Count=%{marker.color}<extra></extra>\",\"legendgroup\":\"\",\"marker\":{\"color\":[1,11,22,3,1,1,5,7,1,16,6,2,1,2,5,2,6,12,2,10,9,7,6,1,4,5,3,2,2,14,35,2,5,1,8,2,10,8,9,3,12,3,1,3,12,7,2,2,2,5,1,3,12,28,3,1,1,4,28,10,2],\"coloraxis\":\"coloraxis\",\"pattern\":{\"shape\":\"\"}},\"name\":\"\",\"offsetgroup\":\"\",\"orientation\":\"v\",\"showlegend\":false,\"textposition\":\"auto\",\"type\":\"bar\",\"x\":[\"Angola\",\"Argentina\",\"Australia\",\"Austria\",\"Bahrain\",\"Belarus\",\"Belgium\",\"Brazil\",\"Cambodia\",\"Canada\",\"Chile\",\"Colombia\",\"Croatia\",\"Czech Republic\",\"C\\u00f4te d'Ivoire\",\"Denmark\",\"Dominican Republic\",\"Egypt\",\"Fiji\",\"France\",\"Germany\",\"Great Britain\",\"Greece\",\"Honduras\",\"Hungary\",\"India\",\"Ireland\",\"Islamic Republic of Iran\",\"Israel\",\"Italy\",\"Japan\",\"Kazakhstan\",\"Kenya\",\"Liechtenstein\",\"Mexico\",\"Montenegro\",\"Netherlands\",\"New Zealand\",\"Nigeria\",\"Norway\",\"People's Republic of China\",\"Poland\",\"Portugal\",\"Puerto Rico\",\"ROC\",\"Republic of Korea\",\"Romania\",\"San Marino\",\"Saudi Arabia\",\"Serbia\",\"Slovakia\",\"Slovenia\",\"South Africa\",\"Spain\",\"Sweden\",\"Tunisia\",\"Turkey\",\"Ukraine\",\"United States of America\",\"Venezuela\",\"Zambia\"],\"xaxis\":\"x\",\"y\":[1,11,22,3,1,1,5,7,1,16,6,2,1,2,5,2,6,12,2,10,9,7,6,1,4,5,3,2,2,14,35,2,5,1,8,2,10,8,9,3,12,3,1,3,12,7,2,2,2,5,1,3,12,28,3,1,1,4,28,10,2],\"yaxis\":\"y\"}],                        {\"barmode\":\"relative\",\"coloraxis\":{\"colorbar\":{\"title\":{\"text\":\"Count\"}},\"colorscale\":[[0.0,\"#0d0887\"],[0.1111111111111111,\"#46039f\"],[0.2222222222222222,\"#7201a8\"],[0.3333333333333333,\"#9c179e\"],[0.4444444444444444,\"#bd3786\"],[0.5555555555555556,\"#d8576b\"],[0.6666666666666666,\"#ed7953\"],[0.7777777777777778,\"#fb9f3a\"],[0.8888888888888888,\"#fdca26\"],[1.0,\"#f0f921\"]]},\"legend\":{\"tracegroupgap\":0},\"template\":{\"data\":{\"bar\":[{\"error_x\":{\"color\":\"#2a3f5f\"},\"error_y\":{\"color\":\"#2a3f5f\"},\"marker\":{\"line\":{\"color\":\"#E5ECF6\",\"width\":0.5},\"pattern\":{\"fillmode\":\"overlay\",\"size\":10,\"solidity\":0.2}},\"type\":\"bar\"}],\"barpolar\":[{\"marker\":{\"line\":{\"color\":\"#E5ECF6\",\"width\":0.5},\"pattern\":{\"fillmode\":\"overlay\",\"size\":10,\"solidity\":0.2}},\"type\":\"barpolar\"}],\"carpet\":[{\"aaxis\":{\"endlinecolor\":\"#2a3f5f\",\"gridcolor\":\"white\",\"linecolor\":\"white\",\"minorgridcolor\":\"white\",\"startlinecolor\":\"#2a3f5f\"},\"baxis\":{\"endlinecolor\":\"#2a3f5f\",\"gridcolor\":\"white\",\"linecolor\":\"white\",\"minorgridcolor\":\"white\",\"startlinecolor\":\"#2a3f5f\"},\"type\":\"carpet\"}],\"choropleth\":[{\"colorbar\":{\"outlinewidth\":0,\"ticks\":\"\"},\"type\":\"choropleth\"}],\"contour\":[{\"colorbar\":{\"outlinewidth\":0,\"ticks\":\"\"},\"colorscale\":[[0.0,\"#0d0887\"],[0.1111111111111111,\"#46039f\"],[0.2222222222222222,\"#7201a8\"],[0.3333333333333333,\"#9c179e\"],[0.4444444444444444,\"#bd3786\"],[0.5555555555555556,\"#d8576b\"],[0.6666666666666666,\"#ed7953\"],[0.7777777777777778,\"#fb9f3a\"],[0.8888888888888888,\"#fdca26\"],[1.0,\"#f0f921\"]],\"type\":\"contour\"}],\"contourcarpet\":[{\"colorbar\":{\"outlinewidth\":0,\"ticks\":\"\"},\"type\":\"contourcarpet\"}],\"heatmap\":[{\"colorbar\":{\"outlinewidth\":0,\"ticks\":\"\"},\"colorscale\":[[0.0,\"#0d0887\"],[0.1111111111111111,\"#46039f\"],[0.2222222222222222,\"#7201a8\"],[0.3333333333333333,\"#9c179e\"],[0.4444444444444444,\"#bd3786\"],[0.5555555555555556,\"#d8576b\"],[0.6666666666666666,\"#ed7953\"],[0.7777777777777778,\"#fb9f3a\"],[0.8888888888888888,\"#fdca26\"],[1.0,\"#f0f921\"]],\"type\":\"heatmap\"}],\"heatmapgl\":[{\"colorbar\":{\"outlinewidth\":0,\"ticks\":\"\"},\"colorscale\":[[0.0,\"#0d0887\"],[0.1111111111111111,\"#46039f\"],[0.2222222222222222,\"#7201a8\"],[0.3333333333333333,\"#9c179e\"],[0.4444444444444444,\"#bd3786\"],[0.5555555555555556,\"#d8576b\"],[0.6666666666666666,\"#ed7953\"],[0.7777777777777778,\"#fb9f3a\"],[0.8888888888888888,\"#fdca26\"],[1.0,\"#f0f921\"]],\"type\":\"heatmapgl\"}],\"histogram\":[{\"marker\":{\"pattern\":{\"fillmode\":\"overlay\",\"size\":10,\"solidity\":0.2}},\"type\":\"histogram\"}],\"histogram2d\":[{\"colorbar\":{\"outlinewidth\":0,\"ticks\":\"\"},\"colorscale\":[[0.0,\"#0d0887\"],[0.1111111111111111,\"#46039f\"],[0.2222222222222222,\"#7201a8\"],[0.3333333333333333,\"#9c179e\"],[0.4444444444444444,\"#bd3786\"],[0.5555555555555556,\"#d8576b\"],[0.6666666666666666,\"#ed7953\"],[0.7777777777777778,\"#fb9f3a\"],[0.8888888888888888,\"#fdca26\"],[1.0,\"#f0f921\"]],\"type\":\"histogram2d\"}],\"histogram2dcontour\":[{\"colorbar\":{\"outlinewidth\":0,\"ticks\":\"\"},\"colorscale\":[[0.0,\"#0d0887\"],[0.1111111111111111,\"#46039f\"],[0.2222222222222222,\"#7201a8\"],[0.3333333333333333,\"#9c179e\"],[0.4444444444444444,\"#bd3786\"],[0.5555555555555556,\"#d8576b\"],[0.6666666666666666,\"#ed7953\"],[0.7777777777777778,\"#fb9f3a\"],[0.8888888888888888,\"#fdca26\"],[1.0,\"#f0f921\"]],\"type\":\"histogram2dcontour\"}],\"mesh3d\":[{\"colorbar\":{\"outlinewidth\":0,\"ticks\":\"\"},\"type\":\"mesh3d\"}],\"parcoords\":[{\"line\":{\"colorbar\":{\"outlinewidth\":0,\"ticks\":\"\"}},\"type\":\"parcoords\"}],\"pie\":[{\"automargin\":true,\"type\":\"pie\"}],\"scatter\":[{\"marker\":{\"colorbar\":{\"outlinewidth\":0,\"ticks\":\"\"}},\"type\":\"scatter\"}],\"scatter3d\":[{\"line\":{\"colorbar\":{\"outlinewidth\":0,\"ticks\":\"\"}},\"marker\":{\"colorbar\":{\"outlinewidth\":0,\"ticks\":\"\"}},\"type\":\"scatter3d\"}],\"scattercarpet\":[{\"marker\":{\"colorbar\":{\"outlinewidth\":0,\"ticks\":\"\"}},\"type\":\"scattercarpet\"}],\"scattergeo\":[{\"marker\":{\"colorbar\":{\"outlinewidth\":0,\"ticks\":\"\"}},\"type\":\"scattergeo\"}],\"scattergl\":[{\"marker\":{\"colorbar\":{\"outlinewidth\":0,\"ticks\":\"\"}},\"type\":\"scattergl\"}],\"scattermapbox\":[{\"marker\":{\"colorbar\":{\"outlinewidth\":0,\"ticks\":\"\"}},\"type\":\"scattermapbox\"}],\"scatterpolar\":[{\"marker\":{\"colorbar\":{\"outlinewidth\":0,\"ticks\":\"\"}},\"type\":\"scatterpolar\"}],\"scatterpolargl\":[{\"marker\":{\"colorbar\":{\"outlinewidth\":0,\"ticks\":\"\"}},\"type\":\"scatterpolargl\"}],\"scatterternary\":[{\"marker\":{\"colorbar\":{\"outlinewidth\":0,\"ticks\":\"\"}},\"type\":\"scatterternary\"}],\"surface\":[{\"colorbar\":{\"outlinewidth\":0,\"ticks\":\"\"},\"colorscale\":[[0.0,\"#0d0887\"],[0.1111111111111111,\"#46039f\"],[0.2222222222222222,\"#7201a8\"],[0.3333333333333333,\"#9c179e\"],[0.4444444444444444,\"#bd3786\"],[0.5555555555555556,\"#d8576b\"],[0.6666666666666666,\"#ed7953\"],[0.7777777777777778,\"#fb9f3a\"],[0.8888888888888888,\"#fdca26\"],[1.0,\"#f0f921\"]],\"type\":\"surface\"}],\"table\":[{\"cells\":{\"fill\":{\"color\":\"#EBF0F8\"},\"line\":{\"color\":\"white\"}},\"header\":{\"fill\":{\"color\":\"#C8D4E3\"},\"line\":{\"color\":\"white\"}},\"type\":\"table\"}]},\"layout\":{\"annotationdefaults\":{\"arrowcolor\":\"#2a3f5f\",\"arrowhead\":0,\"arrowwidth\":1},\"autotypenumbers\":\"strict\",\"coloraxis\":{\"colorbar\":{\"outlinewidth\":0,\"ticks\":\"\"}},\"colorscale\":{\"diverging\":[[0,\"#8e0152\"],[0.1,\"#c51b7d\"],[0.2,\"#de77ae\"],[0.3,\"#f1b6da\"],[0.4,\"#fde0ef\"],[0.5,\"#f7f7f7\"],[0.6,\"#e6f5d0\"],[0.7,\"#b8e186\"],[0.8,\"#7fbc41\"],[0.9,\"#4d9221\"],[1,\"#276419\"]],\"sequential\":[[0.0,\"#0d0887\"],[0.1111111111111111,\"#46039f\"],[0.2222222222222222,\"#7201a8\"],[0.3333333333333333,\"#9c179e\"],[0.4444444444444444,\"#bd3786\"],[0.5555555555555556,\"#d8576b\"],[0.6666666666666666,\"#ed7953\"],[0.7777777777777778,\"#fb9f3a\"],[0.8888888888888888,\"#fdca26\"],[1.0,\"#f0f921\"]],\"sequentialminus\":[[0.0,\"#0d0887\"],[0.1111111111111111,\"#46039f\"],[0.2222222222222222,\"#7201a8\"],[0.3333333333333333,\"#9c179e\"],[0.4444444444444444,\"#bd3786\"],[0.5555555555555556,\"#d8576b\"],[0.6666666666666666,\"#ed7953\"],[0.7777777777777778,\"#fb9f3a\"],[0.8888888888888888,\"#fdca26\"],[1.0,\"#f0f921\"]]},\"colorway\":[\"#636efa\",\"#EF553B\",\"#00cc96\",\"#ab63fa\",\"#FFA15A\",\"#19d3f3\",\"#FF6692\",\"#B6E880\",\"#FF97FF\",\"#FECB52\"],\"font\":{\"color\":\"#2a3f5f\"},\"geo\":{\"bgcolor\":\"white\",\"lakecolor\":\"white\",\"landcolor\":\"#E5ECF6\",\"showlakes\":true,\"showland\":true,\"subunitcolor\":\"white\"},\"hoverlabel\":{\"align\":\"left\"},\"hovermode\":\"closest\",\"mapbox\":{\"style\":\"light\"},\"paper_bgcolor\":\"white\",\"plot_bgcolor\":\"#E5ECF6\",\"polar\":{\"angularaxis\":{\"gridcolor\":\"white\",\"linecolor\":\"white\",\"ticks\":\"\"},\"bgcolor\":\"#E5ECF6\",\"radialaxis\":{\"gridcolor\":\"white\",\"linecolor\":\"white\",\"ticks\":\"\"}},\"scene\":{\"xaxis\":{\"backgroundcolor\":\"#E5ECF6\",\"gridcolor\":\"white\",\"gridwidth\":2,\"linecolor\":\"white\",\"showbackground\":true,\"ticks\":\"\",\"zerolinecolor\":\"white\"},\"yaxis\":{\"backgroundcolor\":\"#E5ECF6\",\"gridcolor\":\"white\",\"gridwidth\":2,\"linecolor\":\"white\",\"showbackground\":true,\"ticks\":\"\",\"zerolinecolor\":\"white\"},\"zaxis\":{\"backgroundcolor\":\"#E5ECF6\",\"gridcolor\":\"white\",\"gridwidth\":2,\"linecolor\":\"white\",\"showbackground\":true,\"ticks\":\"\",\"zerolinecolor\":\"white\"}},\"shapedefaults\":{\"line\":{\"color\":\"#2a3f5f\"}},\"ternary\":{\"aaxis\":{\"gridcolor\":\"white\",\"linecolor\":\"white\",\"ticks\":\"\"},\"baxis\":{\"gridcolor\":\"white\",\"linecolor\":\"white\",\"ticks\":\"\"},\"bgcolor\":\"#E5ECF6\",\"caxis\":{\"gridcolor\":\"white\",\"linecolor\":\"white\",\"ticks\":\"\"}},\"title\":{\"x\":0.05},\"xaxis\":{\"automargin\":true,\"gridcolor\":\"white\",\"linecolor\":\"white\",\"ticks\":\"\",\"title\":{\"standoff\":15},\"zerolinecolor\":\"white\",\"zerolinewidth\":2},\"yaxis\":{\"automargin\":true,\"gridcolor\":\"white\",\"linecolor\":\"white\",\"ticks\":\"\",\"title\":{\"standoff\":15},\"zerolinecolor\":\"white\",\"zerolinewidth\":2}}},\"title\":{\"text\":\"Count of Coaches from each Country\"},\"xaxis\":{\"anchor\":\"y\",\"domain\":[0.0,1.0],\"title\":{\"text\":\"NOC\"}},\"yaxis\":{\"anchor\":\"x\",\"domain\":[0.0,1.0],\"title\":{\"text\":\"Count\"}}},                        {\"responsive\": true}                    ).then(function(){\n",
              "                            \n",
              "var gd = document.getElementById('c8a9b8b5-7cce-4982-b579-847968646da1');\n",
              "var x = new MutationObserver(function (mutations, observer) {{\n",
              "        var display = window.getComputedStyle(gd).display;\n",
              "        if (!display || display === 'none') {{\n",
              "            console.log([gd, 'removed!']);\n",
              "            Plotly.purge(gd);\n",
              "            observer.disconnect();\n",
              "        }}\n",
              "}});\n",
              "\n",
              "// Listen for the removal of the full notebook cells\n",
              "var notebookContainer = gd.closest('#notebook-container');\n",
              "if (notebookContainer) {{\n",
              "    x.observe(notebookContainer, {childList: true});\n",
              "}}\n",
              "\n",
              "// Listen for the clearing of the current output cell\n",
              "var outputEl = gd.closest('.output');\n",
              "if (outputEl) {{\n",
              "    x.observe(outputEl, {childList: true});\n",
              "}}\n",
              "\n",
              "                        })                };                            </script>        </div>\n",
              "</body>\n",
              "</html>"
            ]
          },
          "metadata": {}
        }
      ]
    },
    {
      "cell_type": "code",
      "metadata": {
        "colab": {
          "base_uri": "https://localhost:8080/",
          "height": 204
        },
        "id": "estSAMpQTL3l",
        "outputId": "af9f23a5-4cc3-4834-beae-6a3373db1203"
      },
      "source": [
        "athletes.head()"
      ],
      "execution_count": 24,
      "outputs": [
        {
          "output_type": "execute_result",
          "data": {
            "text/html": [
              "<div>\n",
              "<style scoped>\n",
              "    .dataframe tbody tr th:only-of-type {\n",
              "        vertical-align: middle;\n",
              "    }\n",
              "\n",
              "    .dataframe tbody tr th {\n",
              "        vertical-align: top;\n",
              "    }\n",
              "\n",
              "    .dataframe thead th {\n",
              "        text-align: right;\n",
              "    }\n",
              "</style>\n",
              "<table border=\"1\" class=\"dataframe\">\n",
              "  <thead>\n",
              "    <tr style=\"text-align: right;\">\n",
              "      <th></th>\n",
              "      <th>Name</th>\n",
              "      <th>NOC</th>\n",
              "      <th>Discipline</th>\n",
              "    </tr>\n",
              "  </thead>\n",
              "  <tbody>\n",
              "    <tr>\n",
              "      <th>0</th>\n",
              "      <td>AALERUD Katrine</td>\n",
              "      <td>Norway</td>\n",
              "      <td>Cycling Road</td>\n",
              "    </tr>\n",
              "    <tr>\n",
              "      <th>1</th>\n",
              "      <td>ABAD Nestor</td>\n",
              "      <td>Spain</td>\n",
              "      <td>Artistic Gymnastics</td>\n",
              "    </tr>\n",
              "    <tr>\n",
              "      <th>2</th>\n",
              "      <td>ABAGNALE Giovanni</td>\n",
              "      <td>Italy</td>\n",
              "      <td>Rowing</td>\n",
              "    </tr>\n",
              "    <tr>\n",
              "      <th>3</th>\n",
              "      <td>ABALDE Alberto</td>\n",
              "      <td>Spain</td>\n",
              "      <td>Basketball</td>\n",
              "    </tr>\n",
              "    <tr>\n",
              "      <th>4</th>\n",
              "      <td>ABALDE Tamara</td>\n",
              "      <td>Spain</td>\n",
              "      <td>Basketball</td>\n",
              "    </tr>\n",
              "  </tbody>\n",
              "</table>\n",
              "</div>"
            ],
            "text/plain": [
              "                Name     NOC           Discipline\n",
              "0    AALERUD Katrine  Norway         Cycling Road\n",
              "1        ABAD Nestor   Spain  Artistic Gymnastics\n",
              "2  ABAGNALE Giovanni   Italy               Rowing\n",
              "3     ABALDE Alberto   Spain           Basketball\n",
              "4      ABALDE Tamara   Spain           Basketball"
            ]
          },
          "metadata": {},
          "execution_count": 24
        }
      ]
    },
    {
      "cell_type": "code",
      "metadata": {
        "colab": {
          "base_uri": "https://localhost:8080/"
        },
        "id": "kDoZPEaFTcEU",
        "outputId": "1a8b74b8-f10a-4a8d-88f7-773f03f348c6"
      },
      "source": [
        "spark.read.csv('Athletes.csv', header=True, inferSchema=True).createOrReplaceTempView('Athletes')\n",
        "spark.sql('select * from Athletes order by NOC, Discipline').show(10)"
      ],
      "execution_count": 25,
      "outputs": [
        {
          "output_type": "stream",
          "name": "stdout",
          "text": [
            "+--------------------+-----------+-------------------+\n",
            "|                Name|        NOC|         Discipline|\n",
            "+--------------------+-----------+-------------------+\n",
            "|NOOR ZAHI Sha Mah...|Afghanistan|          Athletics|\n",
            "|       YOUSOFI Kimia|Afghanistan|          Athletics|\n",
            "|        YOVARI Mahdi|Afghanistan|           Shooting|\n",
            "|        ANWARI Fahim|Afghanistan|           Swimming|\n",
            "|     MANSOURI Farzad|Afghanistan|          Taekwondo|\n",
            "|       PETROV Matvei|    Albania|Artistic Gymnastics|\n",
            "|       SMAJLAJ Izmir|    Albania|          Athletics|\n",
            "|      CULLHAJ Indrit|    Albania|               Judo|\n",
            "|     DELILAJ Manuela|    Albania|           Shooting|\n",
            "|         KADIU Kledi|    Albania|           Swimming|\n",
            "+--------------------+-----------+-------------------+\n",
            "only showing top 10 rows\n",
            "\n"
          ]
        }
      ]
    },
    {
      "cell_type": "code",
      "metadata": {
        "id": "yJ6r_inUTpRX"
      },
      "source": [
        "pd_athletes = spark.sql('''select first(NOC) as NOC, first(Discipline) as Discipline,\n",
        "             count(*) as Count from athletes group by NOC, Discipline\n",
        "             order by NOC, Discipline''').toPandas()"
      ],
      "execution_count": 26,
      "outputs": []
    },
    {
      "cell_type": "code",
      "metadata": {
        "colab": {
          "base_uri": "https://localhost:8080/",
          "height": 979
        },
        "id": "gfqlveWbVIM4",
        "outputId": "8ce11175-878c-4f0e-b798-d81ca3cc6776"
      },
      "source": [
        "pd_athletes.head(30)"
      ],
      "execution_count": 27,
      "outputs": [
        {
          "output_type": "execute_result",
          "data": {
            "text/html": [
              "<div>\n",
              "<style scoped>\n",
              "    .dataframe tbody tr th:only-of-type {\n",
              "        vertical-align: middle;\n",
              "    }\n",
              "\n",
              "    .dataframe tbody tr th {\n",
              "        vertical-align: top;\n",
              "    }\n",
              "\n",
              "    .dataframe thead th {\n",
              "        text-align: right;\n",
              "    }\n",
              "</style>\n",
              "<table border=\"1\" class=\"dataframe\">\n",
              "  <thead>\n",
              "    <tr style=\"text-align: right;\">\n",
              "      <th></th>\n",
              "      <th>NOC</th>\n",
              "      <th>Discipline</th>\n",
              "      <th>Count</th>\n",
              "    </tr>\n",
              "  </thead>\n",
              "  <tbody>\n",
              "    <tr>\n",
              "      <th>0</th>\n",
              "      <td>Afghanistan</td>\n",
              "      <td>Athletics</td>\n",
              "      <td>2</td>\n",
              "    </tr>\n",
              "    <tr>\n",
              "      <th>1</th>\n",
              "      <td>Afghanistan</td>\n",
              "      <td>Shooting</td>\n",
              "      <td>1</td>\n",
              "    </tr>\n",
              "    <tr>\n",
              "      <th>2</th>\n",
              "      <td>Afghanistan</td>\n",
              "      <td>Swimming</td>\n",
              "      <td>1</td>\n",
              "    </tr>\n",
              "    <tr>\n",
              "      <th>3</th>\n",
              "      <td>Afghanistan</td>\n",
              "      <td>Taekwondo</td>\n",
              "      <td>1</td>\n",
              "    </tr>\n",
              "    <tr>\n",
              "      <th>4</th>\n",
              "      <td>Albania</td>\n",
              "      <td>Artistic Gymnastics</td>\n",
              "      <td>1</td>\n",
              "    </tr>\n",
              "    <tr>\n",
              "      <th>5</th>\n",
              "      <td>Albania</td>\n",
              "      <td>Athletics</td>\n",
              "      <td>1</td>\n",
              "    </tr>\n",
              "    <tr>\n",
              "      <th>6</th>\n",
              "      <td>Albania</td>\n",
              "      <td>Judo</td>\n",
              "      <td>1</td>\n",
              "    </tr>\n",
              "    <tr>\n",
              "      <th>7</th>\n",
              "      <td>Albania</td>\n",
              "      <td>Shooting</td>\n",
              "      <td>1</td>\n",
              "    </tr>\n",
              "    <tr>\n",
              "      <th>8</th>\n",
              "      <td>Albania</td>\n",
              "      <td>Swimming</td>\n",
              "      <td>2</td>\n",
              "    </tr>\n",
              "    <tr>\n",
              "      <th>9</th>\n",
              "      <td>Albania</td>\n",
              "      <td>Weightlifting</td>\n",
              "      <td>2</td>\n",
              "    </tr>\n",
              "    <tr>\n",
              "      <th>10</th>\n",
              "      <td>Algeria</td>\n",
              "      <td>Athletics</td>\n",
              "      <td>8</td>\n",
              "    </tr>\n",
              "    <tr>\n",
              "      <th>11</th>\n",
              "      <td>Algeria</td>\n",
              "      <td>Boxing</td>\n",
              "      <td>8</td>\n",
              "    </tr>\n",
              "    <tr>\n",
              "      <th>12</th>\n",
              "      <td>Algeria</td>\n",
              "      <td>Canoe Sprint</td>\n",
              "      <td>1</td>\n",
              "    </tr>\n",
              "    <tr>\n",
              "      <th>13</th>\n",
              "      <td>Algeria</td>\n",
              "      <td>Cycling Road</td>\n",
              "      <td>2</td>\n",
              "    </tr>\n",
              "    <tr>\n",
              "      <th>14</th>\n",
              "      <td>Algeria</td>\n",
              "      <td>Fencing</td>\n",
              "      <td>3</td>\n",
              "    </tr>\n",
              "    <tr>\n",
              "      <th>15</th>\n",
              "      <td>Algeria</td>\n",
              "      <td>Judo</td>\n",
              "      <td>2</td>\n",
              "    </tr>\n",
              "    <tr>\n",
              "      <th>16</th>\n",
              "      <td>Algeria</td>\n",
              "      <td>Marathon Swimming</td>\n",
              "      <td>1</td>\n",
              "    </tr>\n",
              "    <tr>\n",
              "      <th>17</th>\n",
              "      <td>Algeria</td>\n",
              "      <td>Rowing</td>\n",
              "      <td>2</td>\n",
              "    </tr>\n",
              "    <tr>\n",
              "      <th>18</th>\n",
              "      <td>Algeria</td>\n",
              "      <td>Sailing</td>\n",
              "      <td>2</td>\n",
              "    </tr>\n",
              "    <tr>\n",
              "      <th>19</th>\n",
              "      <td>Algeria</td>\n",
              "      <td>Shooting</td>\n",
              "      <td>1</td>\n",
              "    </tr>\n",
              "    <tr>\n",
              "      <th>20</th>\n",
              "      <td>Algeria</td>\n",
              "      <td>Swimming</td>\n",
              "      <td>2</td>\n",
              "    </tr>\n",
              "    <tr>\n",
              "      <th>21</th>\n",
              "      <td>Algeria</td>\n",
              "      <td>Table Tennis</td>\n",
              "      <td>1</td>\n",
              "    </tr>\n",
              "    <tr>\n",
              "      <th>22</th>\n",
              "      <td>Algeria</td>\n",
              "      <td>Weightlifting</td>\n",
              "      <td>1</td>\n",
              "    </tr>\n",
              "    <tr>\n",
              "      <th>23</th>\n",
              "      <td>Algeria</td>\n",
              "      <td>Wrestling</td>\n",
              "      <td>7</td>\n",
              "    </tr>\n",
              "    <tr>\n",
              "      <th>24</th>\n",
              "      <td>American Samoa</td>\n",
              "      <td>Athletics</td>\n",
              "      <td>1</td>\n",
              "    </tr>\n",
              "    <tr>\n",
              "      <th>25</th>\n",
              "      <td>American Samoa</td>\n",
              "      <td>Sailing</td>\n",
              "      <td>2</td>\n",
              "    </tr>\n",
              "    <tr>\n",
              "      <th>26</th>\n",
              "      <td>American Samoa</td>\n",
              "      <td>Swimming</td>\n",
              "      <td>1</td>\n",
              "    </tr>\n",
              "    <tr>\n",
              "      <th>27</th>\n",
              "      <td>American Samoa</td>\n",
              "      <td>Weightlifting</td>\n",
              "      <td>1</td>\n",
              "    </tr>\n",
              "    <tr>\n",
              "      <th>28</th>\n",
              "      <td>Andorra</td>\n",
              "      <td>Athletics</td>\n",
              "      <td>1</td>\n",
              "    </tr>\n",
              "    <tr>\n",
              "      <th>29</th>\n",
              "      <td>Andorra</td>\n",
              "      <td>Canoe Slalom</td>\n",
              "      <td>1</td>\n",
              "    </tr>\n",
              "  </tbody>\n",
              "</table>\n",
              "</div>"
            ],
            "text/plain": [
              "               NOC           Discipline  Count\n",
              "0      Afghanistan            Athletics      2\n",
              "1      Afghanistan             Shooting      1\n",
              "2      Afghanistan             Swimming      1\n",
              "3      Afghanistan            Taekwondo      1\n",
              "4          Albania  Artistic Gymnastics      1\n",
              "5          Albania            Athletics      1\n",
              "6          Albania                 Judo      1\n",
              "7          Albania             Shooting      1\n",
              "8          Albania             Swimming      2\n",
              "9          Albania        Weightlifting      2\n",
              "10         Algeria            Athletics      8\n",
              "11         Algeria               Boxing      8\n",
              "12         Algeria         Canoe Sprint      1\n",
              "13         Algeria         Cycling Road      2\n",
              "14         Algeria              Fencing      3\n",
              "15         Algeria                 Judo      2\n",
              "16         Algeria    Marathon Swimming      1\n",
              "17         Algeria               Rowing      2\n",
              "18         Algeria              Sailing      2\n",
              "19         Algeria             Shooting      1\n",
              "20         Algeria             Swimming      2\n",
              "21         Algeria         Table Tennis      1\n",
              "22         Algeria        Weightlifting      1\n",
              "23         Algeria            Wrestling      7\n",
              "24  American Samoa            Athletics      1\n",
              "25  American Samoa              Sailing      2\n",
              "26  American Samoa             Swimming      1\n",
              "27  American Samoa        Weightlifting      1\n",
              "28         Andorra            Athletics      1\n",
              "29         Andorra         Canoe Slalom      1"
            ]
          },
          "metadata": {},
          "execution_count": 27
        }
      ]
    },
    {
      "cell_type": "code",
      "metadata": {
        "colab": {
          "base_uri": "https://localhost:8080/",
          "height": 542
        },
        "id": "RaFgtwjPUwTZ",
        "outputId": "2071388b-104f-4191-acce-b24a1ec850f8"
      },
      "source": [
        "fig = px.bar(pd_athletes, x='NOC', y='Count', color='Discipline', title='Number of Athletes from each country in each sport categor')\n",
        "fig.show()"
      ],
      "execution_count": 28,
      "outputs": [
        {
          "output_type": "display_data",
          "data": {
            "text/html": [
              "<html>\n",
              "<head><meta charset=\"utf-8\" /></head>\n",
              "<body>\n",
              "    <div>            <script src=\"https://cdnjs.cloudflare.com/ajax/libs/mathjax/2.7.5/MathJax.js?config=TeX-AMS-MML_SVG\"></script><script type=\"text/javascript\">if (window.MathJax) {MathJax.Hub.Config({SVG: {font: \"STIX-Web\"}});}</script>                <script type=\"text/javascript\">window.PlotlyConfig = {MathJaxConfig: 'local'};</script>\n",
              "        <script src=\"https://cdn.plot.ly/plotly-2.4.2.min.js\"></script>                <div id=\"7662dbf0-c484-4408-b608-23a46479d4ff\" class=\"plotly-graph-div\" style=\"height:525px; width:100%;\"></div>            <script type=\"text/javascript\">                                    window.PLOTLYENV=window.PLOTLYENV || {};                                    if (document.getElementById(\"7662dbf0-c484-4408-b608-23a46479d4ff\")) {                    Plotly.newPlot(                        \"7662dbf0-c484-4408-b608-23a46479d4ff\",                        [{\"alignmentgroup\":\"True\",\"hovertemplate\":\"Discipline=Athletics<br>NOC=%{x}<br>Count=%{y}<extra></extra>\",\"legendgroup\":\"Athletics\",\"marker\":{\"color\":\"#636efa\",\"pattern\":{\"shape\":\"\"}},\"name\":\"Athletics\",\"offsetgroup\":\"Athletics\",\"orientation\":\"v\",\"showlegend\":true,\"textposition\":\"auto\",\"type\":\"bar\",\"x\":[\"Afghanistan\",\"Albania\",\"Algeria\",\"American Samoa\",\"Andorra\",\"Angola\",\"Antigua and Barbuda\",\"Argentina\",\"Armenia\",\"Australia\",\"Austria\",\"Azerbaijan\",\"Bahamas\",\"Bahrain\",\"Bangladesh\",\"Barbados\",\"Belarus\",\"Belgium\",\"Belize\",\"Benin\",\"Bolivia\",\"Bosnia and Herzegovina\",\"Botswana\",\"Brazil\",\"Brunei Darussalam\",\"Bulgaria\",\"Burkina Faso\",\"Burundi\",\"Cambodia\",\"Cameroon\",\"Canada\",\"Cape Verde\",\"Cayman Islands\",\"Central African Republic\",\"Chad\",\"Chile\",\"Chinese Taipei\",\"Colombia\",\"Comoros\",\"Congo\",\"Cook Islands\",\"Costa Rica\",\"Croatia\",\"Cuba\",\"Cyprus\",\"Czech Republic\",\"C\\u00f4te d'Ivoire\",\"Democratic Republic of Timor-Leste\",\"Democratic Republic of the Congo\",\"Denmark\",\"Djibouti\",\"Dominica\",\"Dominican Republic\",\"Ecuador\",\"Egypt\",\"El Salvador\",\"Equatorial Guinea\",\"Eritrea\",\"Estonia\",\"Eswatini\",\"Ethiopia\",\"Federated States of Micronesia\",\"Fiji\",\"Finland\",\"France\",\"Gabon\",\"Gambia\",\"Georgia\",\"Germany\",\"Ghana\",\"Great Britain\",\"Greece\",\"Grenada\",\"Guam\",\"Guatemala\",\"Guinea\",\"Guinea-Bissau\",\"Guyana\",\"Haiti\",\"Honduras\",\"Hong Kong, China\",\"Hungary\",\"Iceland\",\"India\",\"Indonesia\",\"Iraq\",\"Ireland\",\"Islamic Republic of Iran\",\"Israel\",\"Italy\",\"Jamaica\",\"Japan\",\"Jordan\",\"Kazakhstan\",\"Kenya\",\"Kiribati\",\"Kosovo\",\"Kuwait\",\"Kyrgyzstan\",\"Lao People's Democratic Republic\",\"Latvia\",\"Lebanon\",\"Lesotho\",\"Liberia\",\"Libya\",\"Lithuania\",\"Luxembourg\",\"Madagascar\",\"Malawi\",\"Malaysia\",\"Maldives\",\"Mali\",\"Malta\",\"Mauritania\",\"Mauritius\",\"Mexico\",\"Monaco\",\"Mongolia\",\"Montenegro\",\"Morocco\",\"Mozambique\",\"Namibia\",\"Nauru\",\"Nepal\",\"Netherlands\",\"New Zealand\",\"Nicaragua\",\"Niger\",\"Nigeria\",\"North Macedonia\",\"Norway\",\"Oman\",\"Pakistan\",\"Palau\",\"Palestine\",\"Panama\",\"Papua New Guinea\",\"Paraguay\",\"People's Republic of China\",\"Peru\",\"Philippines\",\"Poland\",\"Portugal\",\"Puerto Rico\",\"Qatar\",\"ROC\",\"Refugee Olympic Team\",\"Republic of Korea\",\"Republic of Moldova\",\"Romania\",\"Rwanda\",\"Saint Kitts and Nevis\",\"Saint Lucia\",\"Samoa\",\"Sao Tome and Principe\",\"Saudi Arabia\",\"Senegal\",\"Serbia\",\"Seychelles\",\"Sierra Leone\",\"Singapore\",\"Slovakia\",\"Slovenia\",\"Solomon Islands\",\"Somalia\",\"South Africa\",\"South Sudan\",\"Spain\",\"Sri Lanka\",\"Sudan\",\"Sweden\",\"Switzerland\",\"Syrian Arab Republic\",\"Tajikistan\",\"Thailand\",\"Togo\",\"Tonga\",\"Trinidad and Tobago\",\"Tunisia\",\"Turkey\",\"Turkmenistan\",\"Tuvalu\",\"Uganda\",\"Ukraine\",\"United Republic of Tanzania\",\"United States of America\",\"Uruguay\",\"Uzbekistan\",\"Venezuela\",\"Vietnam\",\"Virgin Islands, British\",\"Virgin Islands, US\",\"Yemen\",\"Zambia\",\"Zimbabwe\"],\"xaxis\":\"x\",\"y\":[2,1,8,1,1,1,2,5,1,65,7,2,14,13,1,6,33,30,2,3,2,2,9,53,1,5,2,3,1,1,56,1,2,1,1,3,6,24,2,2,1,3,7,18,3,31,3,1,1,16,2,2,7,18,5,1,2,9,7,1,39,1,1,22,66,1,2,5,95,7,75,20,4,1,9,1,1,3,1,1,2,19,1,25,2,2,27,4,9,73,54,70,1,10,37,1,1,2,3,1,7,1,2,3,1,9,2,1,1,2,1,2,1,2,1,18,1,3,2,16,1,4,1,1,44,12,1,2,20,1,15,2,2,1,1,4,1,2,53,7,2,64,19,4,8,10,6,6,5,10,2,2,1,1,1,2,1,5,1,1,1,9,7,1,1,30,2,58,2,1,20,30,1,1,2,1,1,22,3,24,1,2,18,48,2,144,3,7,4,1,2,1,1,2,1],\"yaxis\":\"y\"},{\"alignmentgroup\":\"True\",\"hovertemplate\":\"Discipline=Shooting<br>NOC=%{x}<br>Count=%{y}<extra></extra>\",\"legendgroup\":\"Shooting\",\"marker\":{\"color\":\"#EF553B\",\"pattern\":{\"shape\":\"\"}},\"name\":\"Shooting\",\"offsetgroup\":\"Shooting\",\"orientation\":\"v\",\"showlegend\":true,\"textposition\":\"auto\",\"type\":\"bar\",\"x\":[\"Afghanistan\",\"Albania\",\"Algeria\",\"Argentina\",\"Armenia\",\"Aruba\",\"Australia\",\"Austria\",\"Azerbaijan\",\"Bahrain\",\"Bangladesh\",\"Belarus\",\"Belgium\",\"Bhutan\",\"Bosnia and Herzegovina\",\"Brazil\",\"Bulgaria\",\"Canada\",\"Chile\",\"Chinese Taipei\",\"Colombia\",\"Croatia\",\"Cuba\",\"Cyprus\",\"Czech Republic\",\"Denmark\",\"Ecuador\",\"Egypt\",\"Estonia\",\"Finland\",\"France\",\"Georgia\",\"Germany\",\"Great Britain\",\"Greece\",\"Guatemala\",\"Hungary\",\"Iceland\",\"India\",\"Indonesia\",\"Iraq\",\"Ireland\",\"Islamic Republic of Iran\",\"Israel\",\"Italy\",\"Japan\",\"Jordan\",\"Kazakhstan\",\"Kosovo\",\"Kuwait\",\"Kyrgyzstan\",\"Latvia\",\"Lebanon\",\"Lithuania\",\"Malaysia\",\"Malta\",\"Mexico\",\"Mongolia\",\"Montenegro\",\"Morocco\",\"Myanmar\",\"Nepal\",\"New Zealand\",\"Nicaragua\",\"North Macedonia\",\"Norway\",\"Oman\",\"Pakistan\",\"People's Republic of China\",\"Peru\",\"Philippines\",\"Poland\",\"Portugal\",\"Puerto Rico\",\"Qatar\",\"ROC\",\"Refugee Olympic Team\",\"Republic of Korea\",\"Republic of Moldova\",\"Romania\",\"San Marino\",\"Saudi Arabia\",\"Senegal\",\"Serbia\",\"Singapore\",\"Slovakia\",\"Slovenia\",\"Spain\",\"Sri Lanka\",\"Sweden\",\"Switzerland\",\"Thailand\",\"Tunisia\",\"Turkey\",\"Ukraine\",\"United Arab Emirates\",\"United States of America\",\"Venezuela\",\"Vietnam\",\"Yemen\"],\"xaxis\":\"x\",\"y\":[1,1,1,4,1,1,14,2,1,1,1,3,1,1,1,1,3,1,1,5,1,4,5,3,8,3,1,10,1,3,10,1,8,5,2,3,4,1,13,1,1,1,6,1,14,12,1,3,1,4,1,1,1,1,1,1,4,4,1,1,1,1,2,1,1,5,1,3,24,3,1,4,1,1,1,17,1,15,1,1,1,1,1,6,1,7,1,2,1,1,2,6,2,4,6,1,19,1,1,1],\"yaxis\":\"y\"},{\"alignmentgroup\":\"True\",\"hovertemplate\":\"Discipline=Swimming<br>NOC=%{x}<br>Count=%{y}<extra></extra>\",\"legendgroup\":\"Swimming\",\"marker\":{\"color\":\"#00cc96\",\"pattern\":{\"shape\":\"\"}},\"name\":\"Swimming\",\"offsetgroup\":\"Swimming\",\"orientation\":\"v\",\"showlegend\":true,\"textposition\":\"auto\",\"type\":\"bar\",\"x\":[\"Afghanistan\",\"Albania\",\"Algeria\",\"American Samoa\",\"Angola\",\"Antigua and Barbuda\",\"Argentina\",\"Armenia\",\"Aruba\",\"Australia\",\"Austria\",\"Azerbaijan\",\"Bahamas\",\"Bahrain\",\"Bangladesh\",\"Barbados\",\"Belarus\",\"Belgium\",\"Benin\",\"Bhutan\",\"Bolivia\",\"Bosnia and Herzegovina\",\"Botswana\",\"Brazil\",\"Brunei Darussalam\",\"Bulgaria\",\"Burkina Faso\",\"Burundi\",\"Cambodia\",\"Cameroon\",\"Canada\",\"Cape Verde\",\"Cayman Islands\",\"Central African Republic\",\"Chile\",\"Chinese Taipei\",\"Colombia\",\"Congo\",\"Cook Islands\",\"Costa Rica\",\"Croatia\",\"Cuba\",\"Cyprus\",\"Czech Republic\",\"C\\u00f4te d'Ivoire\",\"Democratic Republic of Timor-Leste\",\"Denmark\",\"Djibouti\",\"Dominican Republic\",\"Ecuador\",\"Egypt\",\"El Salvador\",\"Equatorial Guinea\",\"Eritrea\",\"Estonia\",\"Eswatini\",\"Ethiopia\",\"Federated States of Micronesia\",\"Fiji\",\"Finland\",\"France\",\"Gabon\",\"Georgia\",\"Germany\",\"Ghana\",\"Great Britain\",\"Greece\",\"Grenada\",\"Guam\",\"Guatemala\",\"Guinea\",\"Guyana\",\"Haiti\",\"Honduras\",\"Hong Kong, China\",\"Hungary\",\"Iceland\",\"India\",\"Indonesia\",\"Ireland\",\"Islamic Republic of Iran\",\"Israel\",\"Italy\",\"Jamaica\",\"Japan\",\"Jordan\",\"Kazakhstan\",\"Kenya\",\"Kosovo\",\"Kuwait\",\"Kyrgyzstan\",\"Lao People's Democratic Republic\",\"Latvia\",\"Lebanon\",\"Libya\",\"Liechtenstein\",\"Lithuania\",\"Luxembourg\",\"Madagascar\",\"Malawi\",\"Malaysia\",\"Maldives\",\"Mali\",\"Malta\",\"Marshall Islands\",\"Mauritius\",\"Mexico\",\"Monaco\",\"Mongolia\",\"Montenegro\",\"Morocco\",\"Mozambique\",\"Nepal\",\"Netherlands\",\"New Zealand\",\"Nicaragua\",\"Niger\",\"Nigeria\",\"North Macedonia\",\"Norway\",\"Oman\",\"Pakistan\",\"Palau\",\"Palestine\",\"Panama\",\"Papua New Guinea\",\"Paraguay\",\"People's Republic of China\",\"Peru\",\"Philippines\",\"Poland\",\"Portugal\",\"Puerto Rico\",\"Qatar\",\"ROC\",\"Refugee Olympic Team\",\"Republic of Korea\",\"Republic of Moldova\",\"Romania\",\"Rwanda\",\"Saint Lucia\",\"San Marino\",\"Saudi Arabia\",\"Senegal\",\"Serbia\",\"Seychelles\",\"Sierra Leone\",\"Singapore\",\"Slovakia\",\"Slovenia\",\"Solomon Islands\",\"South Africa\",\"Spain\",\"Sri Lanka\",\"St Vincent and the Grenadines\",\"Sudan\",\"Suriname\",\"Sweden\",\"Switzerland\",\"Syrian Arab Republic\",\"Tajikistan\",\"Thailand\",\"Togo\",\"Tonga\",\"Trinidad and Tobago\",\"Tunisia\",\"Turkey\",\"Turkmenistan\",\"Uganda\",\"Ukraine\",\"United Arab Emirates\",\"United States of America\",\"Uruguay\",\"Uzbekistan\",\"Venezuela\",\"Vietnam\",\"Virgin Islands, British\",\"Virgin Islands, US\",\"Yemen\",\"Zambia\",\"Zimbabwe\"],\"xaxis\":\"x\",\"y\":[1,2,2,1,2,2,3,2,2,30,7,2,2,2,2,1,5,2,2,1,2,2,1,17,1,5,2,2,2,2,20,2,2,1,2,3,2,1,2,2,2,2,2,8,1,2,9,1,2,2,4,2,1,1,3,2,1,2,2,5,17,2,2,24,2,27,7,2,2,2,2,2,2,2,6,20,2,3,2,6,1,10,29,2,25,1,2,2,2,2,1,2,2,2,1,2,4,2,2,2,2,2,1,2,2,1,3,2,2,2,2,2,2,14,6,2,2,1,2,4,1,2,2,1,1,2,2,25,1,2,8,6,2,2,28,2,8,2,3,2,2,1,1,2,5,2,2,3,2,3,1,12,8,2,2,2,1,10,6,1,2,2,1,2,2,1,10,2,2,6,1,39,2,2,3,2,1,2,1,2,2],\"yaxis\":\"y\"},{\"alignmentgroup\":\"True\",\"hovertemplate\":\"Discipline=Taekwondo<br>NOC=%{x}<br>Count=%{y}<extra></extra>\",\"legendgroup\":\"Taekwondo\",\"marker\":{\"color\":\"#ab63fa\",\"pattern\":{\"shape\":\"\"}},\"name\":\"Taekwondo\",\"offsetgroup\":\"Taekwondo\",\"orientation\":\"v\",\"showlegend\":true,\"textposition\":\"auto\",\"type\":\"bar\",\"x\":[\"Afghanistan\",\"Argentina\",\"Australia\",\"Azerbaijan\",\"Belgium\",\"Bosnia and Herzegovina\",\"Brazil\",\"Burkina Faso\",\"Canada\",\"Chinese Taipei\",\"Colombia\",\"Costa Rica\",\"Croatia\",\"Cuba\",\"C\\u00f4te d'Ivoire\",\"Democratic Republic of the Congo\",\"Dominican Republic\",\"Egypt\",\"Ethiopia\",\"France\",\"Gabon\",\"Germany\",\"Great Britain\",\"Greece\",\"Haiti\",\"Honduras\",\"Hungary\",\"Ireland\",\"Islamic Republic of Iran\",\"Israel\",\"Italy\",\"Japan\",\"Jordan\",\"Kazakhstan\",\"Mali\",\"Mexico\",\"Morocco\",\"New Zealand\",\"Niger\",\"Nigeria\",\"North Macedonia\",\"Norway\",\"People's Republic of China\",\"Philippines\",\"Poland\",\"Portugal\",\"Puerto Rico\",\"ROC\",\"Refugee Olympic Team\",\"Republic of Korea\",\"Serbia\",\"Spain\",\"Thailand\",\"Tonga\",\"Tunisia\",\"Turkey\",\"United States of America\",\"Uzbekistan\",\"Vietnam\"],\"xaxis\":\"x\",\"y\":[1,1,4,2,1,1,2,1,2,4,2,1,3,1,4,1,3,4,1,2,1,1,5,1,1,1,1,1,3,1,2,4,1,2,1,2,3,1,2,1,1,1,5,1,2,1,1,4,3,6,2,4,2,1,1,5,2,4,1],\"yaxis\":\"y\"},{\"alignmentgroup\":\"True\",\"hovertemplate\":\"Discipline=Artistic Gymnastics<br>NOC=%{x}<br>Count=%{y}<extra></extra>\",\"legendgroup\":\"Artistic Gymnastics\",\"marker\":{\"color\":\"#FFA15A\",\"pattern\":{\"shape\":\"\"}},\"name\":\"Artistic Gymnastics\",\"offsetgroup\":\"Artistic Gymnastics\",\"orientation\":\"v\",\"showlegend\":true,\"textposition\":\"auto\",\"type\":\"bar\",\"x\":[\"Albania\",\"Argentina\",\"Armenia\",\"Australia\",\"Austria\",\"Azerbaijan\",\"Belarus\",\"Belgium\",\"Brazil\",\"Bulgaria\",\"Canada\",\"Cayman Islands\",\"Chile\",\"Chinese Taipei\",\"Costa Rica\",\"Croatia\",\"Cuba\",\"Cyprus\",\"Czech Republic\",\"Egypt\",\"France\",\"Germany\",\"Great Britain\",\"Greece\",\"Hong Kong, China\",\"Hungary\",\"India\",\"Ireland\",\"Israel\",\"Italy\",\"Jamaica\",\"Japan\",\"Kazakhstan\",\"Lithuania\",\"Malaysia\",\"Mexico\",\"Netherlands\",\"New Zealand\",\"Nigeria\",\"Norway\",\"People's Republic of China\",\"Peru\",\"Poland\",\"Portugal\",\"ROC\",\"Republic of Korea\",\"Romania\",\"Singapore\",\"Slovakia\",\"South Africa\",\"Spain\",\"Sri Lanka\",\"Sweden\",\"Switzerland\",\"Turkey\",\"Ukraine\",\"United States of America\",\"Uzbekistan\",\"Vietnam\"],\"xaxis\":\"x\",\"y\":[1,1,1,2,1,2,1,4,6,1,5,1,2,4,1,2,1,1,2,3,7,8,8,1,1,1,1,1,3,6,1,11,1,1,2,2,6,1,1,2,12,1,1,1,12,6,3,1,1,1,9,1,2,4,5,5,11,2,2],\"yaxis\":\"y\"},{\"alignmentgroup\":\"True\",\"hovertemplate\":\"Discipline=Judo<br>NOC=%{x}<br>Count=%{y}<extra></extra>\",\"legendgroup\":\"Judo\",\"marker\":{\"color\":\"#19d3f3\",\"pattern\":{\"shape\":\"\"}},\"name\":\"Judo\",\"offsetgroup\":\"Judo\",\"orientation\":\"v\",\"showlegend\":true,\"textposition\":\"auto\",\"type\":\"bar\",\"x\":[\"Albania\",\"Algeria\",\"Angola\",\"Argentina\",\"Armenia\",\"Australia\",\"Austria\",\"Azerbaijan\",\"Belarus\",\"Belgium\",\"Benin\",\"Bosnia and Herzegovina\",\"Brazil\",\"Bulgaria\",\"Burkina Faso\",\"Cameroon\",\"Canada\",\"Cape Verde\",\"Chad\",\"Chile\",\"Chinese Taipei\",\"Comoros\",\"Costa Rica\",\"Croatia\",\"Cuba\",\"Czech Republic\",\"Democratic Republic of the Congo\",\"Djibouti\",\"Dominican Republic\",\"Ecuador\",\"Egypt\",\"Estonia\",\"Fiji\",\"France\",\"Gabon\",\"Gambia\",\"Georgia\",\"Germany\",\"Ghana\",\"Great Britain\",\"Greece\",\"Guam\",\"Guatemala\",\"Guinea\",\"Guinea-Bissau\",\"Haiti\",\"Honduras\",\"Hungary\",\"India\",\"Ireland\",\"Israel\",\"Italy\",\"Jamaica\",\"Japan\",\"Jordan\",\"Kazakhstan\",\"Kiribati\",\"Kosovo\",\"Kyrgyzstan\",\"Lao People's Democratic Republic\",\"Latvia\",\"Lebanon\",\"Libya\",\"Liechtenstein\",\"Lithuania\",\"Madagascar\",\"Malawi\",\"Mauritius\",\"Mexico\",\"Monaco\",\"Mongolia\",\"Montenegro\",\"Morocco\",\"Mozambique\",\"Nepal\",\"Netherlands\",\"Nicaragua\",\"Niger\",\"North Macedonia\",\"Pakistan\",\"Palestine\",\"Panama\",\"People's Republic of China\",\"Peru\",\"Philippines\",\"Poland\",\"Portugal\",\"Puerto Rico\",\"Qatar\",\"ROC\",\"Refugee Olympic Team\",\"Republic of Korea\",\"Republic of Moldova\",\"Romania\",\"Samoa\",\"San Marino\",\"Saudi Arabia\",\"Senegal\",\"Serbia\",\"Seychelles\",\"Sierra Leone\",\"Slovenia\",\"South Africa\",\"Spain\",\"Sri Lanka\",\"Sudan\",\"Sweden\",\"Switzerland\",\"Tajikistan\",\"Thailand\",\"Trinidad and Tobago\",\"Tunisia\",\"Turkey\",\"Turkmenistan\",\"Ukraine\",\"United Arab Emirates\",\"United States of America\",\"Uruguay\",\"Uzbekistan\",\"Vanuatu\",\"Venezuela\",\"Vietnam\",\"Zambia\"],\"xaxis\":\"x\",\"y\":[1,2,1,2,1,3,5,9,3,4,1,1,11,3,1,2,5,1,1,1,3,1,1,3,6,2,1,1,1,3,2,1,1,13,1,1,9,11,1,5,2,1,1,1,1,1,1,7,1,2,12,8,1,13,1,6,1,4,1,1,1,1,1,1,1,1,1,1,1,1,12,1,2,1,1,10,1,1,1,1,1,2,5,1,1,6,8,3,1,13,6,14,2,3,1,1,2,1,5,1,1,5,1,7,1,1,4,2,3,1,1,3,5,1,7,2,4,1,8,1,3,1,1],\"yaxis\":\"y\"},{\"alignmentgroup\":\"True\",\"hovertemplate\":\"Discipline=Weightlifting<br>NOC=%{x}<br>Count=%{y}<extra></extra>\",\"legendgroup\":\"Weightlifting\",\"marker\":{\"color\":\"#FF6692\",\"pattern\":{\"shape\":\"\"}},\"name\":\"Weightlifting\",\"offsetgroup\":\"Weightlifting\",\"orientation\":\"v\",\"showlegend\":true,\"textposition\":\"auto\",\"type\":\"bar\",\"x\":[\"Albania\",\"Algeria\",\"American Samoa\",\"Armenia\",\"Australia\",\"Austria\",\"Belarus\",\"Belgium\",\"Botswana\",\"Brazil\",\"Bulgaria\",\"Cameroon\",\"Canada\",\"Chile\",\"Chinese Taipei\",\"Colombia\",\"Cuba\",\"Czech Republic\",\"Dominican Republic\",\"Ecuador\",\"France\",\"Georgia\",\"Germany\",\"Ghana\",\"Great Britain\",\"Greece\",\"Guatemala\",\"Hungary\",\"Indonesia\",\"Islamic Republic of Iran\",\"Israel\",\"Italy\",\"Japan\",\"Kazakhstan\",\"Kiribati\",\"Kyrgyzstan\",\"Latvia\",\"Lebanon\",\"Lithuania\",\"Madagascar\",\"Malta\",\"Mauritius\",\"Mexico\",\"Mongolia\",\"Morocco\",\"Nauru\",\"Netherlands\",\"New Zealand\",\"Nicaragua\",\"Oman\",\"Pakistan\",\"Palestine\",\"Papua New Guinea\",\"People's Republic of China\",\"Peru\",\"Philippines\",\"Poland\",\"ROC\",\"Refugee Olympic Team\",\"Republic of Korea\",\"Republic of Moldova\",\"Saudi Arabia\",\"Solomon Islands\",\"Spain\",\"Sweden\",\"Syrian Arab Republic\",\"Tonga\",\"Tunisia\",\"Turkey\",\"Turkmenistan\",\"Ukraine\",\"United States of America\",\"Uzbekistan\",\"Venezuela\",\"Vietnam\"],\"xaxis\":\"x\",\"y\":[2,1,1,2,5,2,2,2,1,2,2,2,5,2,7,3,4,1,4,4,4,4,3,1,4,1,1,1,5,2,1,3,7,2,1,1,2,1,1,2,1,1,4,2,1,1,1,5,1,1,1,1,1,7,1,2,3,2,1,7,2,2,1,4,1,1,1,5,1,4,2,8,4,4,2],\"yaxis\":\"y\"},{\"alignmentgroup\":\"True\",\"hovertemplate\":\"Discipline=Boxing<br>NOC=%{x}<br>Count=%{y}<extra></extra>\",\"legendgroup\":\"Boxing\",\"marker\":{\"color\":\"#B6E880\",\"pattern\":{\"shape\":\"\"}},\"name\":\"Boxing\",\"offsetgroup\":\"Boxing\",\"orientation\":\"v\",\"showlegend\":true,\"textposition\":\"auto\",\"type\":\"bar\",\"x\":[\"Algeria\",\"Antigua and Barbuda\",\"Argentina\",\"Armenia\",\"Australia\",\"Azerbaijan\",\"Bahrain\",\"Belarus\",\"Botswana\",\"Brazil\",\"Bulgaria\",\"Burundi\",\"Cameroon\",\"Canada\",\"Cape Verde\",\"Chinese Taipei\",\"Colombia\",\"Croatia\",\"Cuba\",\"Democratic Republic of the Congo\",\"Dominican Republic\",\"Ecuador\",\"Egypt\",\"El Salvador\",\"Eswatini\",\"France\",\"Georgia\",\"Germany\",\"Ghana\",\"Great Britain\",\"Guyana\",\"Haiti\",\"Hungary\",\"India\",\"Ireland\",\"Islamic Republic of Iran\",\"Italy\",\"Jamaica\",\"Japan\",\"Jordan\",\"Kazakhstan\",\"Kenya\",\"Kosovo\",\"Mauritius\",\"Mexico\",\"Mongolia\",\"Morocco\",\"Mozambique\",\"Namibia\",\"Netherlands\",\"New Zealand\",\"Panama\",\"Papua New Guinea\",\"People's Republic of China\",\"Peru\",\"Philippines\",\"Poland\",\"Puerto Rico\",\"ROC\",\"Refugee Olympic Team\",\"Republic of Korea\",\"Romania\",\"Samoa\",\"Serbia\",\"Somalia\",\"Spain\",\"Sweden\",\"Tajikistan\",\"Thailand\",\"Trinidad and Tobago\",\"Tunisia\",\"Turkey\",\"Uganda\",\"Ukraine\",\"United States of America\",\"Uzbekistan\",\"Venezuela\",\"Vietnam\",\"Zambia\"],\"xaxis\":\"x\",\"y\":[8,1,5,2,4,3,1,4,2,7,3,1,3,5,1,4,6,2,7,4,7,4,2,1,1,5,3,3,3,10,1,1,1,7,6,2,3,1,6,5,8,4,1,2,3,3,6,1,1,2,1,1,1,6,2,4,2,1,11,1,2,2,2,1,1,4,2,2,4,1,2,6,3,5,8,11,3,2,3],\"yaxis\":\"y\"},{\"alignmentgroup\":\"True\",\"hovertemplate\":\"Discipline=Canoe Sprint<br>NOC=%{x}<br>Count=%{y}<extra></extra>\",\"legendgroup\":\"Canoe Sprint\",\"marker\":{\"color\":\"#FF97FF\",\"pattern\":{\"shape\":\"\"}},\"name\":\"Canoe Sprint\",\"offsetgroup\":\"Canoe Sprint\",\"orientation\":\"v\",\"showlegend\":true,\"textposition\":\"auto\",\"type\":\"bar\",\"x\":[\"Algeria\",\"Argentina\",\"Australia\",\"Austria\",\"Belarus\",\"Belgium\",\"Belize\",\"Brazil\",\"Bulgaria\",\"Canada\",\"Chile\",\"Cook Islands\",\"Croatia\",\"Cuba\",\"Czech Republic\",\"Denmark\",\"Egypt\",\"France\",\"Germany\",\"Great Britain\",\"Hungary\",\"Islamic Republic of Iran\",\"Italy\",\"Japan\",\"Kazakhstan\",\"Latvia\",\"Lithuania\",\"New Zealand\",\"Nigeria\",\"Norway\",\"People's Republic of China\",\"Poland\",\"Portugal\",\"ROC\",\"Republic of Korea\",\"Republic of Moldova\",\"Romania\",\"Samoa\",\"Sao Tome and Principe\",\"Serbia\",\"Slovakia\",\"Slovenia\",\"Spain\",\"Sweden\",\"Thailand\",\"Tunisia\",\"Ukraine\",\"United States of America\",\"Uzbekistan\"],\"xaxis\":\"x\",\"y\":[1,3,13,2,12,2,1,3,1,14,2,2,2,5,4,4,2,8,15,4,17,1,4,8,5,1,1,6,1,1,14,8,7,14,1,3,1,3,2,3,4,2,11,2,1,2,10,1,2],\"yaxis\":\"y\"},{\"alignmentgroup\":\"True\",\"hovertemplate\":\"Discipline=Cycling Road<br>NOC=%{x}<br>Count=%{y}<extra></extra>\",\"legendgroup\":\"Cycling Road\",\"marker\":{\"color\":\"#FECB52\",\"pattern\":{\"shape\":\"\"}},\"name\":\"Cycling Road\",\"offsetgroup\":\"Cycling Road\",\"orientation\":\"v\",\"showlegend\":true,\"textposition\":\"auto\",\"type\":\"bar\",\"x\":[\"Algeria\",\"Argentina\",\"Australia\",\"Austria\",\"Azerbaijan\",\"Belarus\",\"Belgium\",\"Burkina Faso\",\"Canada\",\"Chile\",\"Chinese Taipei\",\"Colombia\",\"Costa Rica\",\"Croatia\",\"Cuba\",\"Cyprus\",\"Czech Republic\",\"Denmark\",\"Ecuador\",\"Eritrea\",\"Estonia\",\"Ethiopia\",\"France\",\"Germany\",\"Great Britain\",\"Greece\",\"Guatemala\",\"Hong Kong, China\",\"Hungary\",\"Ireland\",\"Islamic Republic of Iran\",\"Israel\",\"Italy\",\"Japan\",\"Kazakhstan\",\"Latvia\",\"Lithuania\",\"Luxembourg\",\"Mexico\",\"Morocco\",\"Namibia\",\"Netherlands\",\"New Zealand\",\"Norway\",\"Panama\",\"Paraguay\",\"People's Republic of China\",\"Peru\",\"Poland\",\"Portugal\",\"ROC\",\"Refugee Olympic Team\",\"Republic of Korea\",\"Romania\",\"Rwanda\",\"Slovakia\",\"Slovenia\",\"South Africa\",\"Spain\",\"Switzerland\",\"Thailand\",\"Trinidad and Tobago\",\"Turkey\",\"Ukraine\",\"United States of America\",\"Uzbekistan\",\"Venezuela\"],\"xaxis\":\"x\",\"y\":[2,1,8,4,1,2,8,1,6,1,1,5,2,1,1,1,4,6,2,3,2,1,6,7,5,1,1,1,1,2,1,1,9,4,3,1,2,2,2,1,2,9,2,6,1,1,2,1,5,2,4,2,1,1,1,2,4,4,6,5,1,1,2,2,7,2,1],\"yaxis\":\"y\"},{\"alignmentgroup\":\"True\",\"hovertemplate\":\"Discipline=Fencing<br>NOC=%{x}<br>Count=%{y}<extra></extra>\",\"legendgroup\":\"Fencing\",\"marker\":{\"color\":\"#636efa\",\"pattern\":{\"shape\":\"\"}},\"name\":\"Fencing\",\"offsetgroup\":\"Fencing\",\"orientation\":\"v\",\"showlegend\":true,\"textposition\":\"auto\",\"type\":\"bar\",\"x\":[\"Algeria\",\"Argentina\",\"Azerbaijan\",\"Brazil\",\"Canada\",\"Chile\",\"Colombia\",\"Czech Republic\",\"Egypt\",\"Estonia\",\"France\",\"Georgia\",\"Germany\",\"Great Britain\",\"Greece\",\"Hong Kong, China\",\"Hungary\",\"India\",\"Islamic Republic of Iran\",\"Italy\",\"Japan\",\"Kazakhstan\",\"Mexico\",\"Morocco\",\"Netherlands\",\"People's Republic of China\",\"Peru\",\"Poland\",\"ROC\",\"Republic of Korea\",\"Romania\",\"Senegal\",\"Singapore\",\"Spain\",\"Switzerland\",\"Tunisia\",\"Turkey\",\"Ukraine\",\"United States of America\",\"Uzbekistan\",\"Venezuela\"],\"xaxis\":\"x\",\"y\":[3,1,1,2,11,1,1,2,12,4,17,1,9,1,1,8,12,1,4,23,19,1,1,1,1,15,1,5,21,18,2,1,2,1,4,7,1,4,24,3,2],\"yaxis\":\"y\"},{\"alignmentgroup\":\"True\",\"hovertemplate\":\"Discipline=Marathon Swimming<br>NOC=%{x}<br>Count=%{y}<extra></extra>\",\"legendgroup\":\"Marathon Swimming\",\"marker\":{\"color\":\"#EF553B\",\"pattern\":{\"shape\":\"\"}},\"name\":\"Marathon Swimming\",\"offsetgroup\":\"Marathon Swimming\",\"orientation\":\"v\",\"showlegend\":true,\"textposition\":\"auto\",\"type\":\"bar\",\"x\":[\"Algeria\",\"Argentina\",\"Australia\",\"Canada\",\"Czech Republic\",\"Ecuador\",\"France\",\"Germany\",\"Great Britain\",\"Greece\",\"Hong Kong, China\",\"Hungary\",\"Israel\",\"Italy\",\"Japan\",\"Mexico\",\"Namibia\",\"Netherlands\",\"People's Republic of China\",\"Portugal\",\"ROC\",\"Singapore\",\"Slovenia\",\"South Africa\",\"Spain\",\"Tunisia\",\"Ukraine\",\"United States of America\",\"Venezuela\"],\"xaxis\":\"x\",\"y\":[1,1,2,2,1,2,3,4,2,1,1,2,1,3,2,1,1,2,1,2,2,1,1,2,2,1,1,3,1],\"yaxis\":\"y\"},{\"alignmentgroup\":\"True\",\"hovertemplate\":\"Discipline=Rowing<br>NOC=%{x}<br>Count=%{y}<extra></extra>\",\"legendgroup\":\"Rowing\",\"marker\":{\"color\":\"#00cc96\",\"pattern\":{\"shape\":\"\"}},\"name\":\"Rowing\",\"offsetgroup\":\"Rowing\",\"orientation\":\"v\",\"showlegend\":true,\"textposition\":\"auto\",\"type\":\"bar\",\"x\":[\"Algeria\",\"Argentina\",\"Australia\",\"Austria\",\"Belarus\",\"Belgium\",\"Benin\",\"Bermuda\",\"Canada\",\"Chile\",\"Chinese Taipei\",\"Croatia\",\"Cuba\",\"Czech Republic\",\"C\\u00f4te d'Ivoire\",\"Denmark\",\"Dominican Republic\",\"Egypt\",\"Estonia\",\"France\",\"Germany\",\"Great Britain\",\"Greece\",\"Guatemala\",\"Hong Kong, China\",\"Hungary\",\"India\",\"Indonesia\",\"Iraq\",\"Ireland\",\"Islamic Republic of Iran\",\"Italy\",\"Japan\",\"Kazakhstan\",\"Kuwait\",\"Libya\",\"Lithuania\",\"Mexico\",\"Monaco\",\"Morocco\",\"Namibia\",\"Netherlands\",\"New Zealand\",\"Nicaragua\",\"Nigeria\",\"Norway\",\"Paraguay\",\"People's Republic of China\",\"Peru\",\"Philippines\",\"Poland\",\"Portugal\",\"Puerto Rico\",\"Qatar\",\"ROC\",\"Republic of Korea\",\"Romania\",\"Saudi Arabia\",\"Serbia\",\"Singapore\",\"South Africa\",\"Spain\",\"Sudan\",\"Sweden\",\"Switzerland\",\"Thailand\",\"Togo\",\"Trinidad and Tobago\",\"Tunisia\",\"Turkey\",\"Uganda\",\"Ukraine\",\"United States of America\",\"Uruguay\",\"Uzbekistan\",\"Vanuatu\",\"Venezuela\",\"Vietnam\",\"Zimbabwe\"],\"xaxis\":\"x\",\"y\":[2,2,37,3,5,2,1,1,28,2,1,3,1,6,1,9,1,1,4,11,23,39,4,1,1,1,2,1,1,11,1,23,3,1,1,1,9,1,1,1,1,34,25,2,1,7,1,26,1,1,19,1,1,1,10,1,34,1,3,1,6,6,1,1,9,2,1,1,2,1,1,2,36,2,2,1,2,1,1],\"yaxis\":\"y\"},{\"alignmentgroup\":\"True\",\"hovertemplate\":\"Discipline=Sailing<br>NOC=%{x}<br>Count=%{y}<extra></extra>\",\"legendgroup\":\"Sailing\",\"marker\":{\"color\":\"#ab63fa\",\"pattern\":{\"shape\":\"\"}},\"name\":\"Sailing\",\"offsetgroup\":\"Sailing\",\"orientation\":\"v\",\"showlegend\":true,\"textposition\":\"auto\",\"type\":\"bar\",\"x\":[\"Algeria\",\"American Samoa\",\"Angola\",\"Antigua and Barbuda\",\"Argentina\",\"Australia\",\"Austria\",\"Belarus\",\"Belgium\",\"Brazil\",\"Canada\",\"Chile\",\"Croatia\",\"Cyprus\",\"Czech Republic\",\"Denmark\",\"Egypt\",\"El Salvador\",\"Estonia\",\"Fiji\",\"Finland\",\"France\",\"Germany\",\"Great Britain\",\"Greece\",\"Guatemala\",\"Hong Kong, China\",\"Hungary\",\"India\",\"Ireland\",\"Israel\",\"Italy\",\"Japan\",\"Lithuania\",\"Malaysia\",\"Mexico\",\"Montenegro\",\"Mozambique\",\"Netherlands\",\"New Zealand\",\"Norway\",\"Papua New Guinea\",\"People's Republic of China\",\"Peru\",\"Poland\",\"Portugal\",\"Puerto Rico\",\"ROC\",\"Republic of Korea\",\"Saint Lucia\",\"Samoa\",\"Seychelles\",\"Singapore\",\"Slovenia\",\"South Africa\",\"Spain\",\"Sweden\",\"Switzerland\",\"Thailand\",\"Trinidad and Tobago\",\"Tunisia\",\"Turkey\",\"United States of America\",\"Uruguay\",\"Venezuela\"],\"xaxis\":\"x\",\"y\":[2,2,2,1,11,12,6,2,4,13,9,1,4,4,1,8,2,1,2,1,5,14,9,14,8,1,2,4,4,3,5,8,15,2,3,4,1,3,10,10,8,2,10,5,7,5,2,6,4,2,1,1,4,3,3,13,9,6,2,1,4,8,13,3,1],\"yaxis\":\"y\"},{\"alignmentgroup\":\"True\",\"hovertemplate\":\"Discipline=Table Tennis<br>NOC=%{x}<br>Count=%{y}<extra></extra>\",\"legendgroup\":\"Table Tennis\",\"marker\":{\"color\":\"#FFA15A\",\"pattern\":{\"shape\":\"\"}},\"name\":\"Table Tennis\",\"offsetgroup\":\"Table Tennis\",\"orientation\":\"v\",\"showlegend\":true,\"textposition\":\"auto\",\"type\":\"bar\",\"x\":[\"Algeria\",\"Argentina\",\"Australia\",\"Austria\",\"Brazil\",\"Bulgaria\",\"Cameroon\",\"Canada\",\"Chile\",\"Chinese Taipei\",\"Croatia\",\"Cuba\",\"Czech Republic\",\"Denmark\",\"Ecuador\",\"Egypt\",\"Fiji\",\"France\",\"Germany\",\"Great Britain\",\"Guyana\",\"Hong Kong, China\",\"Hungary\",\"India\",\"Islamic Republic of Iran\",\"Italy\",\"Japan\",\"Kazakhstan\",\"Luxembourg\",\"Monaco\",\"Mongolia\",\"Netherlands\",\"Nigeria\",\"People's Republic of China\",\"Poland\",\"Portugal\",\"Puerto Rico\",\"ROC\",\"Republic of Korea\",\"Romania\",\"Saudi Arabia\",\"Senegal\",\"Serbia\",\"Singapore\",\"Slovakia\",\"Slovenia\",\"Spain\",\"Sweden\",\"Switzerland\",\"Syrian Arab Republic\",\"Thailand\",\"Togo\",\"Tunisia\",\"Ukraine\",\"United States of America\"],\"xaxis\":\"x\",\"y\":[1,2,6,5,6,1,1,3,1,6,3,2,3,1,1,5,1,6,6,3,1,6,5,4,1,1,6,2,2,1,2,1,4,6,3,5,3,3,6,4,1,1,3,4,3,3,1,4,1,1,1,1,2,3,6],\"yaxis\":\"y\"},{\"alignmentgroup\":\"True\",\"hovertemplate\":\"Discipline=Wrestling<br>NOC=%{x}<br>Count=%{y}<extra></extra>\",\"legendgroup\":\"Wrestling\",\"marker\":{\"color\":\"#19d3f3\",\"pattern\":{\"shape\":\"\"}},\"name\":\"Wrestling\",\"offsetgroup\":\"Wrestling\",\"orientation\":\"v\",\"showlegend\":true,\"textposition\":\"auto\",\"type\":\"bar\",\"x\":[\"Algeria\",\"Argentina\",\"Armenia\",\"Azerbaijan\",\"Belarus\",\"Brazil\",\"Bulgaria\",\"Canada\",\"Chile\",\"Colombia\",\"Croatia\",\"Cuba\",\"Czech Republic\",\"Denmark\",\"Ecuador\",\"Egypt\",\"Estonia\",\"Finland\",\"France\",\"Georgia\",\"Germany\",\"Greece\",\"Guam\",\"Guinea\",\"Guinea-Bissau\",\"Hungary\",\"India\",\"Islamic Republic of Iran\",\"Italy\",\"Japan\",\"Kazakhstan\",\"Kosovo\",\"Kyrgyzstan\",\"Latvia\",\"Lithuania\",\"Mexico\",\"Mongolia\",\"Morocco\",\"Nigeria\",\"North Macedonia\",\"People's Republic of China\",\"Peru\",\"Poland\",\"Puerto Rico\",\"ROC\",\"Refugee Olympic Team\",\"Republic of Korea\",\"Republic of Moldova\",\"Romania\",\"San Marino\",\"Senegal\",\"Serbia\",\"Slovakia\",\"Sweden\",\"Switzerland\",\"Tunisia\",\"Turkey\",\"Ukraine\",\"United States of America\",\"Uzbekistan\"],\"xaxis\":\"x\",\"y\":[7,1,6,7,8,3,7,4,1,3,1,12,1,1,2,8,2,2,2,7,7,2,1,1,2,5,7,11,2,11,10,1,9,1,1,2,9,1,5,1,11,1,6,1,16,1,2,2,5,1,1,4,1,3,1,9,9,9,14,8],\"yaxis\":\"y\"},{\"alignmentgroup\":\"True\",\"hovertemplate\":\"Discipline=Canoe Slalom<br>NOC=%{x}<br>Count=%{y}<extra></extra>\",\"legendgroup\":\"Canoe Slalom\",\"marker\":{\"color\":\"#FF6692\",\"pattern\":{\"shape\":\"\"}},\"name\":\"Canoe Slalom\",\"offsetgroup\":\"Canoe Slalom\",\"orientation\":\"v\",\"showlegend\":true,\"textposition\":\"auto\",\"type\":\"bar\",\"x\":[\"Andorra\",\"Argentina\",\"Australia\",\"Austria\",\"Belgium\",\"Brazil\",\"Canada\",\"Chinese Taipei\",\"Cook Islands\",\"Croatia\",\"Czech Republic\",\"France\",\"Germany\",\"Great Britain\",\"Ireland\",\"Italy\",\"Japan\",\"Kazakhstan\",\"Mexico\",\"Morocco\",\"Netherlands\",\"New Zealand\",\"People's Republic of China\",\"Poland\",\"Portugal\",\"ROC\",\"Senegal\",\"Slovakia\",\"Slovenia\",\"Spain\",\"Sweden\",\"Switzerland\",\"Ukraine\",\"United States of America\"],\"xaxis\":\"x\",\"y\":[1,1,3,3,1,2,4,1,1,1,4,3,4,3,1,3,3,2,1,2,1,2,3,4,1,2,1,4,4,4,1,4,1,2],\"yaxis\":\"y\"},{\"alignmentgroup\":\"True\",\"hovertemplate\":\"Discipline=Handball<br>NOC=%{x}<br>Count=%{y}<extra></extra>\",\"legendgroup\":\"Handball\",\"marker\":{\"color\":\"#B6E880\",\"pattern\":{\"shape\":\"\"}},\"name\":\"Handball\",\"offsetgroup\":\"Handball\",\"orientation\":\"v\",\"showlegend\":true,\"textposition\":\"auto\",\"type\":\"bar\",\"x\":[\"Angola\",\"Argentina\",\"Bahrain\",\"Brazil\",\"Denmark\",\"Egypt\",\"France\",\"Germany\",\"Hungary\",\"Japan\",\"Montenegro\",\"Netherlands\",\"Norway\",\"Portugal\",\"ROC\",\"Republic of Korea\",\"Spain\",\"Sweden\"],\"xaxis\":\"x\",\"y\":[14,15,14,28,15,14,28,15,14,28,15,15,30,12,14,15,29,28],\"yaxis\":\"y\"},{\"alignmentgroup\":\"True\",\"hovertemplate\":\"Discipline=Basketball<br>NOC=%{x}<br>Count=%{y}<extra></extra>\",\"legendgroup\":\"Basketball\",\"marker\":{\"color\":\"#FF97FF\",\"pattern\":{\"shape\":\"\"}},\"name\":\"Basketball\",\"offsetgroup\":\"Basketball\",\"orientation\":\"v\",\"showlegend\":true,\"textposition\":\"auto\",\"type\":\"bar\",\"x\":[\"Argentina\",\"Australia\",\"Belgium\",\"Canada\",\"Czech Republic\",\"France\",\"Germany\",\"Islamic Republic of Iran\",\"Italy\",\"Japan\",\"Nigeria\",\"People's Republic of China\",\"Puerto Rico\",\"Republic of Korea\",\"Serbia\",\"Slovenia\",\"Spain\",\"United States of America\"],\"xaxis\":\"x\",\"y\":[12,23,12,12,12,23,12,12,10,23,23,12,12,11,12,12,24,23],\"yaxis\":\"y\"},{\"alignmentgroup\":\"True\",\"hovertemplate\":\"Discipline=Beach Volleyball<br>NOC=%{x}<br>Count=%{y}<extra></extra>\",\"legendgroup\":\"Beach Volleyball\",\"marker\":{\"color\":\"#FECB52\",\"pattern\":{\"shape\":\"\"}},\"name\":\"Beach Volleyball\",\"offsetgroup\":\"Beach Volleyball\",\"orientation\":\"v\",\"showlegend\":true,\"textposition\":\"auto\",\"type\":\"bar\",\"x\":[\"Argentina\",\"Australia\",\"Brazil\",\"Canada\",\"Chile\",\"Cuba\",\"Czech Republic\",\"Germany\",\"Italy\",\"Japan\",\"Kenya\",\"Latvia\",\"Mexico\",\"Morocco\",\"Netherlands\",\"Norway\",\"People's Republic of China\",\"Poland\",\"Qatar\",\"ROC\",\"Spain\",\"Switzerland\",\"United States of America\"],\"xaxis\":\"x\",\"y\":[3,4,7,3,2,2,4,6,6,4,2,4,1,2,6,2,4,4,1,6,4,5,8],\"yaxis\":\"y\"},{\"alignmentgroup\":\"True\",\"hovertemplate\":\"Discipline=Cycling BMX Racing<br>NOC=%{x}<br>Count=%{y}<extra></extra>\",\"legendgroup\":\"Cycling BMX Racing\",\"marker\":{\"color\":\"#636efa\",\"pattern\":{\"shape\":\"\"}},\"name\":\"Cycling BMX Racing\",\"offsetgroup\":\"Cycling BMX Racing\",\"orientation\":\"v\",\"showlegend\":true,\"textposition\":\"auto\",\"type\":\"bar\",\"x\":[\"Argentina\",\"Australia\",\"Belgium\",\"Brazil\",\"Canada\",\"Colombia\",\"Denmark\",\"Ecuador\",\"France\",\"Great Britain\",\"Italy\",\"Japan\",\"Latvia\",\"Netherlands\",\"New Zealand\",\"Norway\",\"ROC\",\"South Africa\",\"Switzerland\",\"Thailand\",\"United States of America\"],\"xaxis\":\"x\",\"y\":[1,3,1,2,2,2,1,1,5,2,1,1,2,5,1,1,3,1,3,1,4],\"yaxis\":\"y\"},{\"alignmentgroup\":\"True\",\"hovertemplate\":\"Discipline=Cycling Mountain Bike<br>NOC=%{x}<br>Count=%{y}<extra></extra>\",\"legendgroup\":\"Cycling Mountain Bike\",\"marker\":{\"color\":\"#EF553B\",\"pattern\":{\"shape\":\"\"}},\"name\":\"Cycling Mountain Bike\",\"offsetgroup\":\"Cycling Mountain Bike\",\"orientation\":\"v\",\"showlegend\":true,\"textposition\":\"auto\",\"type\":\"bar\",\"x\":[\"Argentina\",\"Australia\",\"Austria\",\"Belgium\",\"Brazil\",\"Canada\",\"Chile\",\"Czech Republic\",\"Denmark\",\"Estonia\",\"France\",\"Germany\",\"Great Britain\",\"Greece\",\"Hungary\",\"Israel\",\"Italy\",\"Japan\",\"Mexico\",\"Namibia\",\"Netherlands\",\"New Zealand\",\"Norway\",\"People's Republic of China\",\"Poland\",\"Portugal\",\"ROC\",\"Romania\",\"Slovenia\",\"South Africa\",\"Spain\",\"Sweden\",\"Switzerland\",\"Ukraine\",\"United States of America\"],\"xaxis\":\"x\",\"y\":[1,2,1,2,3,3,1,2,3,1,4,4,2,1,2,1,4,1,2,2,4,1,1,2,2,1,2,1,1,2,3,1,6,1,4],\"yaxis\":\"y\"},{\"alignmentgroup\":\"True\",\"hovertemplate\":\"Discipline=Equestrian<br>NOC=%{x}<br>Count=%{y}<extra></extra>\",\"legendgroup\":\"Equestrian\",\"marker\":{\"color\":\"#00cc96\",\"pattern\":{\"shape\":\"\"}},\"name\":\"Equestrian\",\"offsetgroup\":\"Equestrian\",\"orientation\":\"v\",\"showlegend\":true,\"textposition\":\"auto\",\"type\":\"bar\",\"x\":[\"Argentina\",\"Australia\",\"Austria\",\"Belarus\",\"Belgium\",\"Brazil\",\"Canada\",\"Chile\",\"Chinese Taipei\",\"Colombia\",\"Czech Republic\",\"Denmark\",\"Dominican Republic\",\"Ecuador\",\"Egypt\",\"Estonia\",\"Finland\",\"France\",\"Germany\",\"Great Britain\",\"Hong Kong, China\",\"India\",\"Ireland\",\"Israel\",\"Italy\",\"Japan\",\"Jordan\",\"Latvia\",\"Luxembourg\",\"Mexico\",\"Morocco\",\"Netherlands\",\"New Zealand\",\"Norway\",\"People's Republic of China\",\"Poland\",\"Portugal\",\"Puerto Rico\",\"ROC\",\"Republic of Korea\",\"Singapore\",\"South Africa\",\"Spain\",\"Sri Lanka\",\"Sweden\",\"Switzerland\",\"Syrian Arab Republic\",\"Thailand\",\"Ukraine\",\"United States of America\"],\"xaxis\":\"x\",\"y\":[4,10,5,2,10,9,7,2,1,1,6,6,2,1,4,1,1,11,11,11,1,1,9,3,6,12,1,1,1,5,5,10,8,1,8,4,4,1,6,1,1,1,5,1,11,8,1,3,2,11],\"yaxis\":\"y\"},{\"alignmentgroup\":\"True\",\"hovertemplate\":\"Discipline=Football<br>NOC=%{x}<br>Count=%{y}<extra></extra>\",\"legendgroup\":\"Football\",\"marker\":{\"color\":\"#ab63fa\",\"pattern\":{\"shape\":\"\"}},\"name\":\"Football\",\"offsetgroup\":\"Football\",\"orientation\":\"v\",\"showlegend\":true,\"textposition\":\"auto\",\"type\":\"bar\",\"x\":[\"Argentina\",\"Australia\",\"Brazil\",\"Canada\",\"Chile\",\"C\\u00f4te d'Ivoire\",\"Egypt\",\"France\",\"Germany\",\"Great Britain\",\"Honduras\",\"Japan\",\"Mexico\",\"Netherlands\",\"New Zealand\",\"People's Republic of China\",\"Republic of Korea\",\"Romania\",\"Saudi Arabia\",\"South Africa\",\"Spain\",\"Sweden\",\"United States of America\",\"Zambia\"],\"xaxis\":\"x\",\"y\":[19,43,41,22,21,20,20,21,17,21,20,42,21,20,39,20,20,20,21,19,19,20,20,21],\"yaxis\":\"y\"},{\"alignmentgroup\":\"True\",\"hovertemplate\":\"Discipline=Golf<br>NOC=%{x}<br>Count=%{y}<extra></extra>\",\"legendgroup\":\"Golf\",\"marker\":{\"color\":\"#FFA15A\",\"pattern\":{\"shape\":\"\"}},\"name\":\"Golf\",\"offsetgroup\":\"Golf\",\"orientation\":\"v\",\"showlegend\":true,\"textposition\":\"auto\",\"type\":\"bar\",\"x\":[\"Argentina\",\"Australia\",\"Austria\",\"Belgium\",\"Canada\",\"Chile\",\"Chinese Taipei\",\"Colombia\",\"Czech Republic\",\"Denmark\",\"Ecuador\",\"Finland\",\"France\",\"Germany\",\"Great Britain\",\"Hong Kong, China\",\"India\",\"Ireland\",\"Italy\",\"Japan\",\"Malaysia\",\"Mexico\",\"Morocco\",\"Netherlands\",\"New Zealand\",\"Norway\",\"Paraguay\",\"People's Republic of China\",\"Philippines\",\"Poland\",\"Puerto Rico\",\"Republic of Korea\",\"Slovenia\",\"South Africa\",\"Spain\",\"Sweden\",\"Switzerland\",\"Thailand\",\"United States of America\",\"Venezuela\",\"Zimbabwe\"],\"xaxis\":\"x\",\"y\":[1,4,3,3,4,2,3,2,2,4,1,4,4,4,4,1,3,4,4,4,2,4,1,1,2,2,1,4,3,1,1,5,1,3,3,4,2,4,8,1,1],\"yaxis\":\"y\"},{\"alignmentgroup\":\"True\",\"hovertemplate\":\"Discipline=Hockey<br>NOC=%{x}<br>Count=%{y}<extra></extra>\",\"legendgroup\":\"Hockey\",\"marker\":{\"color\":\"#19d3f3\",\"pattern\":{\"shape\":\"\"}},\"name\":\"Hockey\",\"offsetgroup\":\"Hockey\",\"orientation\":\"v\",\"showlegend\":true,\"textposition\":\"auto\",\"type\":\"bar\",\"x\":[\"Argentina\",\"Australia\",\"Belgium\",\"Canada\",\"Germany\",\"Great Britain\",\"India\",\"Ireland\",\"Japan\",\"Netherlands\",\"New Zealand\",\"People's Republic of China\",\"South Africa\",\"Spain\"],\"xaxis\":\"x\",\"y\":[35,35,16,18,33,34,35,18,32,33,30,17,35,35],\"yaxis\":\"y\"},{\"alignmentgroup\":\"True\",\"hovertemplate\":\"Discipline=Modern Pentathlon<br>NOC=%{x}<br>Count=%{y}<extra></extra>\",\"legendgroup\":\"Modern Pentathlon\",\"marker\":{\"color\":\"#FF6692\",\"pattern\":{\"shape\":\"\"}},\"name\":\"Modern Pentathlon\",\"offsetgroup\":\"Modern Pentathlon\",\"orientation\":\"v\",\"showlegend\":true,\"textposition\":\"auto\",\"type\":\"bar\",\"x\":[\"Argentina\",\"Australia\",\"Belarus\",\"Brazil\",\"Chile\",\"Cuba\",\"Czech Republic\",\"Ecuador\",\"Egypt\",\"France\",\"Germany\",\"Great Britain\",\"Guatemala\",\"Hungary\",\"Ireland\",\"Italy\",\"Japan\",\"Kazakhstan\",\"Latvia\",\"Lithuania\",\"Mexico\",\"People's Republic of China\",\"Poland\",\"ROC\",\"Republic of Korea\",\"Spain\",\"Turkey\",\"Ukraine\",\"United States of America\",\"Uzbekistan\"],\"xaxis\":\"x\",\"y\":[1,2,3,1,1,2,2,1,4,4,4,4,1,3,1,2,3,2,1,3,4,4,3,3,3,1,1,1,2,2],\"yaxis\":\"y\"},{\"alignmentgroup\":\"True\",\"hovertemplate\":\"Discipline=Rugby Sevens<br>NOC=%{x}<br>Count=%{y}<extra></extra>\",\"legendgroup\":\"Rugby Sevens\",\"marker\":{\"color\":\"#B6E880\",\"pattern\":{\"shape\":\"\"}},\"name\":\"Rugby Sevens\",\"offsetgroup\":\"Rugby Sevens\",\"orientation\":\"v\",\"showlegend\":true,\"textposition\":\"auto\",\"type\":\"bar\",\"x\":[\"Argentina\",\"Australia\",\"Brazil\",\"Canada\",\"Fiji\",\"France\",\"Great Britain\",\"Ireland\",\"Japan\",\"Kenya\",\"New Zealand\",\"People's Republic of China\",\"ROC\",\"Republic of Korea\",\"South Africa\",\"United States of America\"],\"xaxis\":\"x\",\"y\":[12,23,12,23,22,11,23,12,32,21,23,11,11,11,12,24],\"yaxis\":\"y\"},{\"alignmentgroup\":\"True\",\"hovertemplate\":\"Discipline=Surfing<br>NOC=%{x}<br>Count=%{y}<extra></extra>\",\"legendgroup\":\"Surfing\",\"marker\":{\"color\":\"#FF97FF\",\"pattern\":{\"shape\":\"\"}},\"name\":\"Surfing\",\"offsetgroup\":\"Surfing\",\"orientation\":\"v\",\"showlegend\":true,\"textposition\":\"auto\",\"type\":\"bar\",\"x\":[\"Argentina\",\"Australia\",\"Brazil\",\"Chile\",\"Costa Rica\",\"Ecuador\",\"France\",\"Germany\",\"Indonesia\",\"Israel\",\"Italy\",\"Japan\",\"Morocco\",\"New Zealand\",\"Peru\",\"Portugal\",\"South Africa\",\"United States of America\"],\"xaxis\":\"x\",\"y\":[1,4,4,1,2,1,4,1,1,1,1,3,1,2,4,2,1,4],\"yaxis\":\"y\"},{\"alignmentgroup\":\"True\",\"hovertemplate\":\"Discipline=Tennis<br>NOC=%{x}<br>Count=%{y}<extra></extra>\",\"legendgroup\":\"Tennis\",\"marker\":{\"color\":\"#FECB52\",\"pattern\":{\"shape\":\"\"}},\"name\":\"Tennis\",\"offsetgroup\":\"Tennis\",\"orientation\":\"v\",\"showlegend\":true,\"textposition\":\"auto\",\"type\":\"bar\",\"x\":[\"Argentina\",\"Australia\",\"Austria\",\"Belarus\",\"Belgium\",\"Bolivia\",\"Brazil\",\"Canada\",\"Chile\",\"Chinese Taipei\",\"Colombia\",\"Croatia\",\"Czech Republic\",\"Egypt\",\"Estonia\",\"France\",\"Georgia\",\"Germany\",\"Great Britain\",\"Greece\",\"Hungary\",\"India\",\"Italy\",\"Japan\",\"Kazakhstan\",\"Latvia\",\"Mexico\",\"Netherlands\",\"New Zealand\",\"Paraguay\",\"People's Republic of China\",\"Peru\",\"Poland\",\"Portugal\",\"ROC\",\"Republic of Korea\",\"Romania\",\"Serbia\",\"Slovakia\",\"Spain\",\"Sweden\",\"Switzerland\",\"Tunisia\",\"Ukraine\",\"United States of America\",\"Uzbekistan\"],\"xaxis\":\"x\",\"y\":[7,10,2,3,4,1,5,4,1,5,3,6,6,2,1,9,1,9,5,1,1,3,6,10,7,1,2,4,1,1,5,1,6,1,8,1,3,4,3,7,1,2,1,3,10,1],\"yaxis\":\"y\"},{\"alignmentgroup\":\"True\",\"hovertemplate\":\"Discipline=Triathlon<br>NOC=%{x}<br>Count=%{y}<extra></extra>\",\"legendgroup\":\"Triathlon\",\"marker\":{\"color\":\"#636efa\",\"pattern\":{\"shape\":\"\"}},\"name\":\"Triathlon\",\"offsetgroup\":\"Triathlon\",\"orientation\":\"v\",\"showlegend\":true,\"textposition\":\"auto\",\"type\":\"bar\",\"x\":[\"Argentina\",\"Australia\",\"Austria\",\"Azerbaijan\",\"Belgium\",\"Bermuda\",\"Brazil\",\"Canada\",\"Chile\",\"Czech Republic\",\"Ecuador\",\"Egypt\",\"Estonia\",\"France\",\"Germany\",\"Great Britain\",\"Hong Kong, China\",\"Hungary\",\"Ireland\",\"Israel\",\"Italy\",\"Japan\",\"Luxembourg\",\"Mexico\",\"Morocco\",\"Netherlands\",\"New Zealand\",\"Norway\",\"People's Republic of China\",\"Portugal\",\"ROC\",\"Romania\",\"South Africa\",\"Spain\",\"Switzerland\",\"Syrian Arab Republic\",\"Ukraine\",\"United States of America\"],\"xaxis\":\"x\",\"y\":[1,5,4,1,3,1,3,4,2,2,1,1,1,5,4,5,1,4,2,2,5,4,1,4,1,3,3,4,1,3,4,1,4,5,4,1,1,5],\"yaxis\":\"y\"},{\"alignmentgroup\":\"True\",\"hovertemplate\":\"Discipline=Volleyball<br>NOC=%{x}<br>Count=%{y}<extra></extra>\",\"legendgroup\":\"Volleyball\",\"marker\":{\"color\":\"#EF553B\",\"pattern\":{\"shape\":\"\"}},\"name\":\"Volleyball\",\"offsetgroup\":\"Volleyball\",\"orientation\":\"v\",\"showlegend\":true,\"textposition\":\"auto\",\"type\":\"bar\",\"x\":[\"Argentina\",\"Brazil\",\"Canada\",\"Dominican Republic\",\"France\",\"Islamic Republic of Iran\",\"Italy\",\"Japan\",\"Kenya\",\"People's Republic of China\",\"Poland\",\"ROC\",\"Republic of Korea\",\"Serbia\",\"Tunisia\",\"Turkey\",\"United States of America\",\"Venezuela\"],\"xaxis\":\"x\",\"y\":[23,23,12,12,11,12,22,22,12,12,11,22,12,12,10,12,22,12],\"yaxis\":\"y\"},{\"alignmentgroup\":\"True\",\"hovertemplate\":\"Discipline=Archery<br>NOC=%{x}<br>Count=%{y}<extra></extra>\",\"legendgroup\":\"Archery\",\"marker\":{\"color\":\"#00cc96\",\"pattern\":{\"shape\":\"\"}},\"name\":\"Archery\",\"offsetgroup\":\"Archery\",\"orientation\":\"v\",\"showlegend\":true,\"textposition\":\"auto\",\"type\":\"bar\",\"x\":[\"Australia\",\"Bangladesh\",\"Belarus\",\"Belgium\",\"Bhutan\",\"Brazil\",\"Canada\",\"Chad\",\"Chile\",\"Chinese Taipei\",\"Colombia\",\"Czech Republic\",\"Denmark\",\"Ecuador\",\"Egypt\",\"Estonia\",\"Finland\",\"France\",\"Germany\",\"Great Britain\",\"Greece\",\"Hungary\",\"India\",\"Indonesia\",\"Islamic Republic of Iran\",\"Israel\",\"Italy\",\"Japan\",\"Kazakhstan\",\"Luxembourg\",\"Malawi\",\"Malaysia\",\"Mexico\",\"Mongolia\",\"Netherlands\",\"People's Republic of China\",\"Poland\",\"ROC\",\"Republic of Korea\",\"Republic of Moldova\",\"Romania\",\"Slovakia\",\"Slovenia\",\"Spain\",\"Sweden\",\"Tunisia\",\"Turkey\",\"Ukraine\",\"United States of America\",\"Vietnam\",\"Virgin Islands, US\"],\"xaxis\":\"x\",\"y\":[2,2,3,1,1,2,1,1,1,6,2,1,1,1,2,1,1,4,4,5,1,1,4,4,1,1,3,6,3,1,1,2,4,2,4,6,2,3,6,2,1,1,1,2,1,2,2,4,6,2,1],\"yaxis\":\"y\"},{\"alignmentgroup\":\"True\",\"hovertemplate\":\"Discipline=Artistic Swimming<br>NOC=%{x}<br>Count=%{y}<extra></extra>\",\"legendgroup\":\"Artistic Swimming\",\"marker\":{\"color\":\"#ab63fa\",\"pattern\":{\"shape\":\"\"}},\"name\":\"Artistic Swimming\",\"offsetgroup\":\"Artistic Swimming\",\"orientation\":\"v\",\"showlegend\":true,\"textposition\":\"auto\",\"type\":\"bar\",\"x\":[\"Australia\",\"Austria\",\"Belarus\",\"Canada\",\"Colombia\",\"Egypt\",\"France\",\"Great Britain\",\"Greece\",\"Israel\",\"Italy\",\"Japan\",\"Kazakhstan\",\"Liechtenstein\",\"Mexico\",\"Netherlands\",\"People's Republic of China\",\"ROC\",\"South Africa\",\"Spain\",\"Ukraine\",\"United States of America\"],\"xaxis\":\"x\",\"y\":[7,2,2,6,2,8,2,1,8,2,8,8,2,2,2,1,8,7,2,8,8,2],\"yaxis\":\"y\"},{\"alignmentgroup\":\"True\",\"hovertemplate\":\"Discipline=Badminton<br>NOC=%{x}<br>Count=%{y}<extra></extra>\",\"legendgroup\":\"Badminton\",\"marker\":{\"color\":\"#FFA15A\",\"pattern\":{\"shape\":\"\"}},\"name\":\"Badminton\",\"offsetgroup\":\"Badminton\",\"orientation\":\"v\",\"showlegend\":true,\"textposition\":\"auto\",\"type\":\"bar\",\"x\":[\"Australia\",\"Austria\",\"Azerbaijan\",\"Belgium\",\"Brazil\",\"Bulgaria\",\"Canada\",\"Chinese Taipei\",\"Denmark\",\"Egypt\",\"Estonia\",\"Finland\",\"France\",\"Germany\",\"Great Britain\",\"Guatemala\",\"Hong Kong, China\",\"Hungary\",\"India\",\"Indonesia\",\"Ireland\",\"Islamic Republic of Iran\",\"Israel\",\"Japan\",\"Malaysia\",\"Maldives\",\"Malta\",\"Mauritius\",\"Mexico\",\"Myanmar\",\"Netherlands\",\"Nigeria\",\"Pakistan\",\"People's Republic of China\",\"Peru\",\"ROC\",\"Refugee Olympic Team\",\"Republic of Korea\",\"Singapore\",\"Slovakia\",\"Spain\",\"Sri Lanka\",\"Suriname\",\"Sweden\",\"Switzerland\",\"Thailand\",\"Turkey\",\"Ukraine\",\"United States of America\",\"Vietnam\"],\"xaxis\":\"x\",\"y\":[4,1,1,1,2,2,8,5,8,3,2,1,4,5,7,2,4,2,3,10,1,1,2,11,8,1,1,1,2,1,3,2,1,14,1,3,1,10,2,1,2,1,1,1,1,7,1,2,4,2],\"yaxis\":\"y\"},{\"alignmentgroup\":\"True\",\"hovertemplate\":\"Discipline=Baseball/Softball<br>NOC=%{x}<br>Count=%{y}<extra></extra>\",\"legendgroup\":\"Baseball/Softball\",\"marker\":{\"color\":\"#19d3f3\",\"pattern\":{\"shape\":\"\"}},\"name\":\"Baseball/Softball\",\"offsetgroup\":\"Baseball/Softball\",\"orientation\":\"v\",\"showlegend\":true,\"textposition\":\"auto\",\"type\":\"bar\",\"x\":[\"Australia\",\"Canada\",\"Dominican Republic\",\"Israel\",\"Italy\",\"Japan\",\"Mexico\",\"Republic of Korea\",\"United States of America\"],\"xaxis\":\"x\",\"y\":[15,14,21,22,14,37,37,22,38],\"yaxis\":\"y\"},{\"alignmentgroup\":\"True\",\"hovertemplate\":\"Discipline=Cycling BMX Freestyle<br>NOC=%{x}<br>Count=%{y}<extra></extra>\",\"legendgroup\":\"Cycling BMX Freestyle\",\"marker\":{\"color\":\"#FF6692\",\"pattern\":{\"shape\":\"\"}},\"name\":\"Cycling BMX Freestyle\",\"offsetgroup\":\"Cycling BMX Freestyle\",\"orientation\":\"v\",\"showlegend\":true,\"textposition\":\"auto\",\"type\":\"bar\",\"x\":[\"Australia\",\"Chile\",\"Costa Rica\",\"France\",\"Germany\",\"Great Britain\",\"Japan\",\"ROC\",\"Switzerland\",\"United States of America\",\"Venezuela\"],\"xaxis\":\"x\",\"y\":[2,1,1,1,2,2,2,2,1,4,1],\"yaxis\":\"y\"},{\"alignmentgroup\":\"True\",\"hovertemplate\":\"Discipline=Cycling Track<br>NOC=%{x}<br>Count=%{y}<extra></extra>\",\"legendgroup\":\"Cycling Track\",\"marker\":{\"color\":\"#B6E880\",\"pattern\":{\"shape\":\"\"}},\"name\":\"Cycling Track\",\"offsetgroup\":\"Cycling Track\",\"orientation\":\"v\",\"showlegend\":true,\"textposition\":\"auto\",\"type\":\"bar\",\"x\":[\"Australia\",\"Austria\",\"Belarus\",\"Belgium\",\"Canada\",\"Colombia\",\"Czech Republic\",\"Denmark\",\"Egypt\",\"France\",\"Germany\",\"Great Britain\",\"Greece\",\"Hong Kong, China\",\"Ireland\",\"Italy\",\"Japan\",\"Kazakhstan\",\"Lithuania\",\"Malaysia\",\"Mexico\",\"Netherlands\",\"New Zealand\",\"Norway\",\"People's Republic of China\",\"Poland\",\"Portugal\",\"ROC\",\"Republic of Korea\",\"South Africa\",\"Spain\",\"Suriname\",\"Switzerland\",\"Trinidad and Tobago\",\"Ukraine\",\"United States of America\"],\"xaxis\":\"x\",\"y\":[16,3,2,5,14,1,1,7,1,12,18,15,1,4,6,10,7,2,2,2,3,9,16,1,5,9,1,9,1,3,2,1,6,2,2,9],\"yaxis\":\"y\"},{\"alignmentgroup\":\"True\",\"hovertemplate\":\"Discipline=Diving<br>NOC=%{x}<br>Count=%{y}<extra></extra>\",\"legendgroup\":\"Diving\",\"marker\":{\"color\":\"#FF97FF\",\"pattern\":{\"shape\":\"\"}},\"name\":\"Diving\",\"offsetgroup\":\"Diving\",\"orientation\":\"v\",\"showlegend\":true,\"textposition\":\"auto\",\"type\":\"bar\",\"x\":[\"Australia\",\"Brazil\",\"Canada\",\"Colombia\",\"Dominican Republic\",\"Egypt\",\"France\",\"Germany\",\"Great Britain\",\"Ireland\",\"Italy\",\"Jamaica\",\"Japan\",\"Malaysia\",\"Mexico\",\"Netherlands\",\"New Zealand\",\"Norway\",\"People's Republic of China\",\"Puerto Rico\",\"ROC\",\"Republic of Korea\",\"Singapore\",\"South Africa\",\"Spain\",\"Sweden\",\"Switzerland\",\"Ukraine\",\"United States of America\",\"Venezuela\"],\"xaxis\":\"x\",\"y\":[7,4,9,2,1,2,3,7,11,2,6,1,11,5,13,2,1,1,8,1,6,5,2,2,2,1,1,6,10,1],\"yaxis\":\"y\"},{\"alignmentgroup\":\"True\",\"hovertemplate\":\"Discipline=Karate<br>NOC=%{x}<br>Count=%{y}<extra></extra>\",\"legendgroup\":\"Karate\",\"marker\":{\"color\":\"#FECB52\",\"pattern\":{\"shape\":\"\"}},\"name\":\"Karate\",\"offsetgroup\":\"Karate\",\"orientation\":\"v\",\"showlegend\":true,\"textposition\":\"auto\",\"type\":\"bar\",\"x\":[\"Australia\",\"Austria\",\"Azerbaijan\",\"Bulgaria\",\"Canada\",\"Chinese Taipei\",\"Croatia\",\"Egypt\",\"France\",\"Georgia\",\"Germany\",\"Hong Kong, China\",\"Hungary\",\"Islamic Republic of Iran\",\"Italy\",\"Japan\",\"Kazakhstan\",\"Kuwait\",\"Latvia\",\"Morocco\",\"New Zealand\",\"North Macedonia\",\"People's Republic of China\",\"Peru\",\"ROC\",\"Refugee Olympic Team\",\"Republic of Korea\",\"Saudi Arabia\",\"Serbia\",\"Spain\",\"Switzerland\",\"Turkey\",\"Ukraine\",\"United States of America\",\"Venezuela\"],\"xaxis\":\"x\",\"y\":[1,1,3,1,1,2,1,4,3,1,4,1,1,3,5,8,5,1,1,1,1,1,2,1,1,2,1,1,1,2,1,5,3,4,3],\"yaxis\":\"y\"},{\"alignmentgroup\":\"True\",\"hovertemplate\":\"Discipline=Rhythmic Gymnastics<br>NOC=%{x}<br>Count=%{y}<extra></extra>\",\"legendgroup\":\"Rhythmic Gymnastics\",\"marker\":{\"color\":\"#636efa\",\"pattern\":{\"shape\":\"\"}},\"name\":\"Rhythmic Gymnastics\",\"offsetgroup\":\"Rhythmic Gymnastics\",\"orientation\":\"v\",\"showlegend\":true,\"textposition\":\"auto\",\"type\":\"bar\",\"x\":[\"Australia\",\"Azerbaijan\",\"Belarus\",\"Brazil\",\"Bulgaria\",\"Cape Verde\",\"Egypt\",\"Georgia\",\"Hungary\",\"Israel\",\"Italy\",\"Japan\",\"Kazakhstan\",\"Mexico\",\"People's Republic of China\",\"ROC\",\"Slovenia\",\"Ukraine\",\"United States of America\",\"Uzbekistan\"],\"xaxis\":\"x\",\"y\":[6,6,7,5,7,1,6,1,1,7,7,7,1,1,5,7,1,7,7,5],\"yaxis\":\"y\"},{\"alignmentgroup\":\"True\",\"hovertemplate\":\"Discipline=Skateboarding<br>NOC=%{x}<br>Count=%{y}<extra></extra>\",\"legendgroup\":\"Skateboarding\",\"marker\":{\"color\":\"#EF553B\",\"pattern\":{\"shape\":\"\"}},\"name\":\"Skateboarding\",\"offsetgroup\":\"Skateboarding\",\"orientation\":\"v\",\"showlegend\":true,\"textposition\":\"auto\",\"type\":\"bar\",\"x\":[\"Australia\",\"Austria\",\"Belgium\",\"Brazil\",\"Canada\",\"Chile\",\"Colombia\",\"Denmark\",\"Finland\",\"France\",\"Germany\",\"Great Britain\",\"Italy\",\"Japan\",\"Netherlands\",\"People's Republic of China\",\"Peru\",\"Philippines\",\"Poland\",\"Portugal\",\"Puerto Rico\",\"South Africa\",\"Spain\",\"Sweden\",\"United States of America\"],\"xaxis\":\"x\",\"y\":[5,1,2,12,4,1,1,1,1,5,2,1,3,10,2,2,1,1,1,1,1,3,4,1,11],\"yaxis\":\"y\"},{\"alignmentgroup\":\"True\",\"hovertemplate\":\"Discipline=Sport Climbing<br>NOC=%{x}<br>Count=%{y}<extra></extra>\",\"legendgroup\":\"Sport Climbing\",\"marker\":{\"color\":\"#00cc96\",\"pattern\":{\"shape\":\"\"}},\"name\":\"Sport Climbing\",\"offsetgroup\":\"Sport Climbing\",\"orientation\":\"v\",\"showlegend\":true,\"textposition\":\"auto\",\"type\":\"bar\",\"x\":[\"Australia\",\"Austria\",\"Canada\",\"Czech Republic\",\"France\",\"Germany\",\"Great Britain\",\"Italy\",\"Japan\",\"Kazakhstan\",\"People's Republic of China\",\"Poland\",\"ROC\",\"Republic of Korea\",\"Slovenia\",\"South Africa\",\"Spain\",\"Switzerland\",\"United States of America\"],\"xaxis\":\"x\",\"y\":[2,2,2,1,4,1,1,3,4,1,2,1,2,2,2,2,1,1,3],\"yaxis\":\"y\"},{\"alignmentgroup\":\"True\",\"hovertemplate\":\"Discipline=Trampoline Gymnastics<br>NOC=%{x}<br>Count=%{y}<extra></extra>\",\"legendgroup\":\"Trampoline Gymnastics\",\"marker\":{\"color\":\"#ab63fa\",\"pattern\":{\"shape\":\"\"}},\"name\":\"Trampoline Gymnastics\",\"offsetgroup\":\"Trampoline Gymnastics\",\"orientation\":\"v\",\"showlegend\":true,\"textposition\":\"auto\",\"type\":\"bar\",\"x\":[\"Australia\",\"Belarus\",\"Canada\",\"Colombia\",\"Egypt\",\"France\",\"Great Britain\",\"Japan\",\"Mexico\",\"New Zealand\",\"People's Republic of China\",\"Portugal\",\"ROC\",\"Ukraine\",\"United States of America\"],\"xaxis\":\"x\",\"y\":[2,2,2,1,2,2,2,4,1,1,4,1,4,1,2],\"yaxis\":\"y\"},{\"alignmentgroup\":\"True\",\"hovertemplate\":\"Discipline=Water Polo<br>NOC=%{x}<br>Count=%{y}<extra></extra>\",\"legendgroup\":\"Water Polo\",\"marker\":{\"color\":\"#FFA15A\",\"pattern\":{\"shape\":\"\"}},\"name\":\"Water Polo\",\"offsetgroup\":\"Water Polo\",\"orientation\":\"v\",\"showlegend\":true,\"textposition\":\"auto\",\"type\":\"bar\",\"x\":[\"Australia\",\"Canada\",\"Croatia\",\"Greece\",\"Hungary\",\"Italy\",\"Japan\",\"Kazakhstan\",\"Montenegro\",\"Netherlands\",\"People's Republic of China\",\"ROC\",\"Serbia\",\"South Africa\",\"Spain\",\"United States of America\"],\"xaxis\":\"x\",\"y\":[25,13,12,12,25,12,23,11,13,13,12,12,13,22,26,25],\"yaxis\":\"y\"},{\"alignmentgroup\":\"True\",\"hovertemplate\":\"Discipline=3x3 Basketball<br>NOC=%{x}<br>Count=%{y}<extra></extra>\",\"legendgroup\":\"3x3 Basketball\",\"marker\":{\"color\":\"#19d3f3\",\"pattern\":{\"shape\":\"\"}},\"name\":\"3x3 Basketball\",\"offsetgroup\":\"3x3 Basketball\",\"orientation\":\"v\",\"showlegend\":true,\"textposition\":\"auto\",\"type\":\"bar\",\"x\":[\"Belgium\",\"France\",\"Italy\",\"Japan\",\"Latvia\",\"Mongolia\",\"Netherlands\",\"People's Republic of China\",\"Poland\",\"ROC\",\"Romania\",\"Serbia\",\"United States of America\"],\"xaxis\":\"x\",\"y\":[4,3,4,8,3,4,4,8,4,8,4,4,4],\"yaxis\":\"y\"}],                        {\"barmode\":\"relative\",\"legend\":{\"title\":{\"text\":\"Discipline\"},\"tracegroupgap\":0},\"template\":{\"data\":{\"bar\":[{\"error_x\":{\"color\":\"#2a3f5f\"},\"error_y\":{\"color\":\"#2a3f5f\"},\"marker\":{\"line\":{\"color\":\"#E5ECF6\",\"width\":0.5},\"pattern\":{\"fillmode\":\"overlay\",\"size\":10,\"solidity\":0.2}},\"type\":\"bar\"}],\"barpolar\":[{\"marker\":{\"line\":{\"color\":\"#E5ECF6\",\"width\":0.5},\"pattern\":{\"fillmode\":\"overlay\",\"size\":10,\"solidity\":0.2}},\"type\":\"barpolar\"}],\"carpet\":[{\"aaxis\":{\"endlinecolor\":\"#2a3f5f\",\"gridcolor\":\"white\",\"linecolor\":\"white\",\"minorgridcolor\":\"white\",\"startlinecolor\":\"#2a3f5f\"},\"baxis\":{\"endlinecolor\":\"#2a3f5f\",\"gridcolor\":\"white\",\"linecolor\":\"white\",\"minorgridcolor\":\"white\",\"startlinecolor\":\"#2a3f5f\"},\"type\":\"carpet\"}],\"choropleth\":[{\"colorbar\":{\"outlinewidth\":0,\"ticks\":\"\"},\"type\":\"choropleth\"}],\"contour\":[{\"colorbar\":{\"outlinewidth\":0,\"ticks\":\"\"},\"colorscale\":[[0.0,\"#0d0887\"],[0.1111111111111111,\"#46039f\"],[0.2222222222222222,\"#7201a8\"],[0.3333333333333333,\"#9c179e\"],[0.4444444444444444,\"#bd3786\"],[0.5555555555555556,\"#d8576b\"],[0.6666666666666666,\"#ed7953\"],[0.7777777777777778,\"#fb9f3a\"],[0.8888888888888888,\"#fdca26\"],[1.0,\"#f0f921\"]],\"type\":\"contour\"}],\"contourcarpet\":[{\"colorbar\":{\"outlinewidth\":0,\"ticks\":\"\"},\"type\":\"contourcarpet\"}],\"heatmap\":[{\"colorbar\":{\"outlinewidth\":0,\"ticks\":\"\"},\"colorscale\":[[0.0,\"#0d0887\"],[0.1111111111111111,\"#46039f\"],[0.2222222222222222,\"#7201a8\"],[0.3333333333333333,\"#9c179e\"],[0.4444444444444444,\"#bd3786\"],[0.5555555555555556,\"#d8576b\"],[0.6666666666666666,\"#ed7953\"],[0.7777777777777778,\"#fb9f3a\"],[0.8888888888888888,\"#fdca26\"],[1.0,\"#f0f921\"]],\"type\":\"heatmap\"}],\"heatmapgl\":[{\"colorbar\":{\"outlinewidth\":0,\"ticks\":\"\"},\"colorscale\":[[0.0,\"#0d0887\"],[0.1111111111111111,\"#46039f\"],[0.2222222222222222,\"#7201a8\"],[0.3333333333333333,\"#9c179e\"],[0.4444444444444444,\"#bd3786\"],[0.5555555555555556,\"#d8576b\"],[0.6666666666666666,\"#ed7953\"],[0.7777777777777778,\"#fb9f3a\"],[0.8888888888888888,\"#fdca26\"],[1.0,\"#f0f921\"]],\"type\":\"heatmapgl\"}],\"histogram\":[{\"marker\":{\"pattern\":{\"fillmode\":\"overlay\",\"size\":10,\"solidity\":0.2}},\"type\":\"histogram\"}],\"histogram2d\":[{\"colorbar\":{\"outlinewidth\":0,\"ticks\":\"\"},\"colorscale\":[[0.0,\"#0d0887\"],[0.1111111111111111,\"#46039f\"],[0.2222222222222222,\"#7201a8\"],[0.3333333333333333,\"#9c179e\"],[0.4444444444444444,\"#bd3786\"],[0.5555555555555556,\"#d8576b\"],[0.6666666666666666,\"#ed7953\"],[0.7777777777777778,\"#fb9f3a\"],[0.8888888888888888,\"#fdca26\"],[1.0,\"#f0f921\"]],\"type\":\"histogram2d\"}],\"histogram2dcontour\":[{\"colorbar\":{\"outlinewidth\":0,\"ticks\":\"\"},\"colorscale\":[[0.0,\"#0d0887\"],[0.1111111111111111,\"#46039f\"],[0.2222222222222222,\"#7201a8\"],[0.3333333333333333,\"#9c179e\"],[0.4444444444444444,\"#bd3786\"],[0.5555555555555556,\"#d8576b\"],[0.6666666666666666,\"#ed7953\"],[0.7777777777777778,\"#fb9f3a\"],[0.8888888888888888,\"#fdca26\"],[1.0,\"#f0f921\"]],\"type\":\"histogram2dcontour\"}],\"mesh3d\":[{\"colorbar\":{\"outlinewidth\":0,\"ticks\":\"\"},\"type\":\"mesh3d\"}],\"parcoords\":[{\"line\":{\"colorbar\":{\"outlinewidth\":0,\"ticks\":\"\"}},\"type\":\"parcoords\"}],\"pie\":[{\"automargin\":true,\"type\":\"pie\"}],\"scatter\":[{\"marker\":{\"colorbar\":{\"outlinewidth\":0,\"ticks\":\"\"}},\"type\":\"scatter\"}],\"scatter3d\":[{\"line\":{\"colorbar\":{\"outlinewidth\":0,\"ticks\":\"\"}},\"marker\":{\"colorbar\":{\"outlinewidth\":0,\"ticks\":\"\"}},\"type\":\"scatter3d\"}],\"scattercarpet\":[{\"marker\":{\"colorbar\":{\"outlinewidth\":0,\"ticks\":\"\"}},\"type\":\"scattercarpet\"}],\"scattergeo\":[{\"marker\":{\"colorbar\":{\"outlinewidth\":0,\"ticks\":\"\"}},\"type\":\"scattergeo\"}],\"scattergl\":[{\"marker\":{\"colorbar\":{\"outlinewidth\":0,\"ticks\":\"\"}},\"type\":\"scattergl\"}],\"scattermapbox\":[{\"marker\":{\"colorbar\":{\"outlinewidth\":0,\"ticks\":\"\"}},\"type\":\"scattermapbox\"}],\"scatterpolar\":[{\"marker\":{\"colorbar\":{\"outlinewidth\":0,\"ticks\":\"\"}},\"type\":\"scatterpolar\"}],\"scatterpolargl\":[{\"marker\":{\"colorbar\":{\"outlinewidth\":0,\"ticks\":\"\"}},\"type\":\"scatterpolargl\"}],\"scatterternary\":[{\"marker\":{\"colorbar\":{\"outlinewidth\":0,\"ticks\":\"\"}},\"type\":\"scatterternary\"}],\"surface\":[{\"colorbar\":{\"outlinewidth\":0,\"ticks\":\"\"},\"colorscale\":[[0.0,\"#0d0887\"],[0.1111111111111111,\"#46039f\"],[0.2222222222222222,\"#7201a8\"],[0.3333333333333333,\"#9c179e\"],[0.4444444444444444,\"#bd3786\"],[0.5555555555555556,\"#d8576b\"],[0.6666666666666666,\"#ed7953\"],[0.7777777777777778,\"#fb9f3a\"],[0.8888888888888888,\"#fdca26\"],[1.0,\"#f0f921\"]],\"type\":\"surface\"}],\"table\":[{\"cells\":{\"fill\":{\"color\":\"#EBF0F8\"},\"line\":{\"color\":\"white\"}},\"header\":{\"fill\":{\"color\":\"#C8D4E3\"},\"line\":{\"color\":\"white\"}},\"type\":\"table\"}]},\"layout\":{\"annotationdefaults\":{\"arrowcolor\":\"#2a3f5f\",\"arrowhead\":0,\"arrowwidth\":1},\"autotypenumbers\":\"strict\",\"coloraxis\":{\"colorbar\":{\"outlinewidth\":0,\"ticks\":\"\"}},\"colorscale\":{\"diverging\":[[0,\"#8e0152\"],[0.1,\"#c51b7d\"],[0.2,\"#de77ae\"],[0.3,\"#f1b6da\"],[0.4,\"#fde0ef\"],[0.5,\"#f7f7f7\"],[0.6,\"#e6f5d0\"],[0.7,\"#b8e186\"],[0.8,\"#7fbc41\"],[0.9,\"#4d9221\"],[1,\"#276419\"]],\"sequential\":[[0.0,\"#0d0887\"],[0.1111111111111111,\"#46039f\"],[0.2222222222222222,\"#7201a8\"],[0.3333333333333333,\"#9c179e\"],[0.4444444444444444,\"#bd3786\"],[0.5555555555555556,\"#d8576b\"],[0.6666666666666666,\"#ed7953\"],[0.7777777777777778,\"#fb9f3a\"],[0.8888888888888888,\"#fdca26\"],[1.0,\"#f0f921\"]],\"sequentialminus\":[[0.0,\"#0d0887\"],[0.1111111111111111,\"#46039f\"],[0.2222222222222222,\"#7201a8\"],[0.3333333333333333,\"#9c179e\"],[0.4444444444444444,\"#bd3786\"],[0.5555555555555556,\"#d8576b\"],[0.6666666666666666,\"#ed7953\"],[0.7777777777777778,\"#fb9f3a\"],[0.8888888888888888,\"#fdca26\"],[1.0,\"#f0f921\"]]},\"colorway\":[\"#636efa\",\"#EF553B\",\"#00cc96\",\"#ab63fa\",\"#FFA15A\",\"#19d3f3\",\"#FF6692\",\"#B6E880\",\"#FF97FF\",\"#FECB52\"],\"font\":{\"color\":\"#2a3f5f\"},\"geo\":{\"bgcolor\":\"white\",\"lakecolor\":\"white\",\"landcolor\":\"#E5ECF6\",\"showlakes\":true,\"showland\":true,\"subunitcolor\":\"white\"},\"hoverlabel\":{\"align\":\"left\"},\"hovermode\":\"closest\",\"mapbox\":{\"style\":\"light\"},\"paper_bgcolor\":\"white\",\"plot_bgcolor\":\"#E5ECF6\",\"polar\":{\"angularaxis\":{\"gridcolor\":\"white\",\"linecolor\":\"white\",\"ticks\":\"\"},\"bgcolor\":\"#E5ECF6\",\"radialaxis\":{\"gridcolor\":\"white\",\"linecolor\":\"white\",\"ticks\":\"\"}},\"scene\":{\"xaxis\":{\"backgroundcolor\":\"#E5ECF6\",\"gridcolor\":\"white\",\"gridwidth\":2,\"linecolor\":\"white\",\"showbackground\":true,\"ticks\":\"\",\"zerolinecolor\":\"white\"},\"yaxis\":{\"backgroundcolor\":\"#E5ECF6\",\"gridcolor\":\"white\",\"gridwidth\":2,\"linecolor\":\"white\",\"showbackground\":true,\"ticks\":\"\",\"zerolinecolor\":\"white\"},\"zaxis\":{\"backgroundcolor\":\"#E5ECF6\",\"gridcolor\":\"white\",\"gridwidth\":2,\"linecolor\":\"white\",\"showbackground\":true,\"ticks\":\"\",\"zerolinecolor\":\"white\"}},\"shapedefaults\":{\"line\":{\"color\":\"#2a3f5f\"}},\"ternary\":{\"aaxis\":{\"gridcolor\":\"white\",\"linecolor\":\"white\",\"ticks\":\"\"},\"baxis\":{\"gridcolor\":\"white\",\"linecolor\":\"white\",\"ticks\":\"\"},\"bgcolor\":\"#E5ECF6\",\"caxis\":{\"gridcolor\":\"white\",\"linecolor\":\"white\",\"ticks\":\"\"}},\"title\":{\"x\":0.05},\"xaxis\":{\"automargin\":true,\"gridcolor\":\"white\",\"linecolor\":\"white\",\"ticks\":\"\",\"title\":{\"standoff\":15},\"zerolinecolor\":\"white\",\"zerolinewidth\":2},\"yaxis\":{\"automargin\":true,\"gridcolor\":\"white\",\"linecolor\":\"white\",\"ticks\":\"\",\"title\":{\"standoff\":15},\"zerolinecolor\":\"white\",\"zerolinewidth\":2}}},\"title\":{\"text\":\"Number of Athletes from each country in each sport categor\"},\"xaxis\":{\"anchor\":\"y\",\"domain\":[0.0,1.0],\"title\":{\"text\":\"NOC\"}},\"yaxis\":{\"anchor\":\"x\",\"domain\":[0.0,1.0],\"title\":{\"text\":\"Count\"}}},                        {\"responsive\": true}                    ).then(function(){\n",
              "                            \n",
              "var gd = document.getElementById('7662dbf0-c484-4408-b608-23a46479d4ff');\n",
              "var x = new MutationObserver(function (mutations, observer) {{\n",
              "        var display = window.getComputedStyle(gd).display;\n",
              "        if (!display || display === 'none') {{\n",
              "            console.log([gd, 'removed!']);\n",
              "            Plotly.purge(gd);\n",
              "            observer.disconnect();\n",
              "        }}\n",
              "}});\n",
              "\n",
              "// Listen for the removal of the full notebook cells\n",
              "var notebookContainer = gd.closest('#notebook-container');\n",
              "if (notebookContainer) {{\n",
              "    x.observe(notebookContainer, {childList: true});\n",
              "}}\n",
              "\n",
              "// Listen for the clearing of the current output cell\n",
              "var outputEl = gd.closest('.output');\n",
              "if (outputEl) {{\n",
              "    x.observe(outputEl, {childList: true});\n",
              "}}\n",
              "\n",
              "                        })                };                            </script>        </div>\n",
              "</body>\n",
              "</html>"
            ]
          },
          "metadata": {}
        }
      ]
    },
    {
      "cell_type": "markdown",
      "metadata": {
        "id": "XF3vhzzpWAOt"
      },
      "source": [
        "## In the above figure, as there are many sport categories we are not able to see anything properly. So I am going to check the Disciplines with large number of participants"
      ]
    },
    {
      "cell_type": "code",
      "metadata": {
        "colab": {
          "base_uri": "https://localhost:8080/"
        },
        "id": "5plsbFgUVq5b",
        "outputId": "83610602-4b40-4ebd-d636-5f579c613c8e"
      },
      "source": [
        "athletes['Discipline'].value_counts()"
      ],
      "execution_count": 29,
      "outputs": [
        {
          "output_type": "execute_result",
          "data": {
            "text/plain": [
              "Athletics                2068\n",
              "Swimming                  743\n",
              "Football                  567\n",
              "Rowing                    496\n",
              "Hockey                    406\n",
              "Judo                      373\n",
              "Handball                  343\n",
              "Shooting                  342\n",
              "Sailing                   336\n",
              "Rugby Sevens              283\n",
              "Basketball                280\n",
              "Wrestling                 279\n",
              "Volleyball                274\n",
              "Boxing                    270\n",
              "Water Polo                269\n",
              "Fencing                   249\n",
              "Equestrian                237\n",
              "Canoe Sprint              236\n",
              "Baseball/Softball         220\n",
              "Cycling Track             208\n",
              "Cycling Road              190\n",
              "Weightlifting             187\n",
              "Artistic Gymnastics       187\n",
              "Tennis                    178\n",
              "Badminton                 164\n",
              "Table Tennis              164\n",
              "Diving                    133\n",
              "Taekwondo                 123\n",
              "Archery                   122\n",
              "Golf                      115\n",
              "Triathlon                 106\n",
              "Artistic Swimming          98\n",
              "Rhythmic Gymnastics        95\n",
              "Beach Volleyball           90\n",
              "Canoe Slalom               78\n",
              "Skateboarding              77\n",
              "Karate                     77\n",
              "Cycling Mountain Bike      74\n",
              "Modern Pentathlon          69\n",
              "3x3 Basketball             62\n",
              "Marathon Swimming          49\n",
              "Cycling BMX Racing         43\n",
              "Surfing                    38\n",
              "Sport Climbing             37\n",
              "Trampoline Gymnastics      31\n",
              "Cycling BMX Freestyle      19\n",
              "Name: Discipline, dtype: int64"
            ]
          },
          "metadata": {},
          "execution_count": 29
        }
      ]
    },
    {
      "cell_type": "code",
      "metadata": {
        "id": "zTww3b19WVqF",
        "colab": {
          "base_uri": "https://localhost:8080/"
        },
        "outputId": "83a32590-1c53-4fde-c5ba-b05d99711379"
      },
      "source": [
        "athletes['Discipline'].value_counts().head(5)"
      ],
      "execution_count": 30,
      "outputs": [
        {
          "output_type": "execute_result",
          "data": {
            "text/plain": [
              "Athletics    2068\n",
              "Swimming      743\n",
              "Football      567\n",
              "Rowing        496\n",
              "Hockey        406\n",
              "Name: Discipline, dtype: int64"
            ]
          },
          "metadata": {},
          "execution_count": 30
        }
      ]
    },
    {
      "cell_type": "code",
      "metadata": {
        "id": "Y5QlDYd3CgOQ",
        "colab": {
          "base_uri": "https://localhost:8080/",
          "height": 419
        },
        "outputId": "120486e0-9666-4929-de6a-b562cf6e1bdf"
      },
      "source": [
        "pd_athletes = pd_athletes.loc[pd_athletes['Discipline'].isin(['Athletics', 'Swimming', 'Football'])]\n",
        "pd_athletes"
      ],
      "execution_count": 32,
      "outputs": [
        {
          "output_type": "execute_result",
          "data": {
            "text/html": [
              "<div>\n",
              "<style scoped>\n",
              "    .dataframe tbody tr th:only-of-type {\n",
              "        vertical-align: middle;\n",
              "    }\n",
              "\n",
              "    .dataframe tbody tr th {\n",
              "        vertical-align: top;\n",
              "    }\n",
              "\n",
              "    .dataframe thead th {\n",
              "        text-align: right;\n",
              "    }\n",
              "</style>\n",
              "<table border=\"1\" class=\"dataframe\">\n",
              "  <thead>\n",
              "    <tr style=\"text-align: right;\">\n",
              "      <th></th>\n",
              "      <th>NOC</th>\n",
              "      <th>Discipline</th>\n",
              "      <th>Count</th>\n",
              "    </tr>\n",
              "  </thead>\n",
              "  <tbody>\n",
              "    <tr>\n",
              "      <th>0</th>\n",
              "      <td>Afghanistan</td>\n",
              "      <td>Athletics</td>\n",
              "      <td>2</td>\n",
              "    </tr>\n",
              "    <tr>\n",
              "      <th>2</th>\n",
              "      <td>Afghanistan</td>\n",
              "      <td>Swimming</td>\n",
              "      <td>1</td>\n",
              "    </tr>\n",
              "    <tr>\n",
              "      <th>5</th>\n",
              "      <td>Albania</td>\n",
              "      <td>Athletics</td>\n",
              "      <td>1</td>\n",
              "    </tr>\n",
              "    <tr>\n",
              "      <th>8</th>\n",
              "      <td>Albania</td>\n",
              "      <td>Swimming</td>\n",
              "      <td>2</td>\n",
              "    </tr>\n",
              "    <tr>\n",
              "      <th>10</th>\n",
              "      <td>Algeria</td>\n",
              "      <td>Athletics</td>\n",
              "      <td>8</td>\n",
              "    </tr>\n",
              "    <tr>\n",
              "      <th>...</th>\n",
              "      <td>...</td>\n",
              "      <td>...</td>\n",
              "      <td>...</td>\n",
              "    </tr>\n",
              "    <tr>\n",
              "      <th>2103</th>\n",
              "      <td>Zambia</td>\n",
              "      <td>Athletics</td>\n",
              "      <td>2</td>\n",
              "    </tr>\n",
              "    <tr>\n",
              "      <th>2105</th>\n",
              "      <td>Zambia</td>\n",
              "      <td>Football</td>\n",
              "      <td>21</td>\n",
              "    </tr>\n",
              "    <tr>\n",
              "      <th>2107</th>\n",
              "      <td>Zambia</td>\n",
              "      <td>Swimming</td>\n",
              "      <td>2</td>\n",
              "    </tr>\n",
              "    <tr>\n",
              "      <th>2108</th>\n",
              "      <td>Zimbabwe</td>\n",
              "      <td>Athletics</td>\n",
              "      <td>1</td>\n",
              "    </tr>\n",
              "    <tr>\n",
              "      <th>2111</th>\n",
              "      <td>Zimbabwe</td>\n",
              "      <td>Swimming</td>\n",
              "      <td>2</td>\n",
              "    </tr>\n",
              "  </tbody>\n",
              "</table>\n",
              "<p>400 rows × 3 columns</p>\n",
              "</div>"
            ],
            "text/plain": [
              "              NOC Discipline  Count\n",
              "0     Afghanistan  Athletics      2\n",
              "2     Afghanistan   Swimming      1\n",
              "5         Albania  Athletics      1\n",
              "8         Albania   Swimming      2\n",
              "10        Algeria  Athletics      8\n",
              "...           ...        ...    ...\n",
              "2103       Zambia  Athletics      2\n",
              "2105       Zambia   Football     21\n",
              "2107       Zambia   Swimming      2\n",
              "2108     Zimbabwe  Athletics      1\n",
              "2111     Zimbabwe   Swimming      2\n",
              "\n",
              "[400 rows x 3 columns]"
            ]
          },
          "metadata": {},
          "execution_count": 32
        }
      ]
    },
    {
      "cell_type": "code",
      "metadata": {
        "colab": {
          "base_uri": "https://localhost:8080/"
        },
        "id": "8YXF_fnlKKlX",
        "outputId": "48ce31b8-f61b-4b2d-f34c-795947cc8894"
      },
      "source": [
        "pd_athletes.Discipline.value_counts()"
      ],
      "execution_count": 33,
      "outputs": [
        {
          "output_type": "execute_result",
          "data": {
            "text/plain": [
              "Athletics    195\n",
              "Swimming     181\n",
              "Football      24\n",
              "Name: Discipline, dtype: int64"
            ]
          },
          "metadata": {},
          "execution_count": 33
        }
      ]
    },
    {
      "cell_type": "code",
      "metadata": {
        "colab": {
          "base_uri": "https://localhost:8080/",
          "height": 542
        },
        "id": "5aTCDWEoKacO",
        "outputId": "7482f519-740b-422e-c209-6828cdac822a"
      },
      "source": [
        "fig = px.bar(pd_athletes, x='NOC', y='Count', color='Discipline', title='Number of Athletes from each country in each sport categor')\n",
        "fig.show()"
      ],
      "execution_count": 34,
      "outputs": [
        {
          "output_type": "display_data",
          "data": {
            "text/html": [
              "<html>\n",
              "<head><meta charset=\"utf-8\" /></head>\n",
              "<body>\n",
              "    <div>            <script src=\"https://cdnjs.cloudflare.com/ajax/libs/mathjax/2.7.5/MathJax.js?config=TeX-AMS-MML_SVG\"></script><script type=\"text/javascript\">if (window.MathJax) {MathJax.Hub.Config({SVG: {font: \"STIX-Web\"}});}</script>                <script type=\"text/javascript\">window.PlotlyConfig = {MathJaxConfig: 'local'};</script>\n",
              "        <script src=\"https://cdn.plot.ly/plotly-2.4.2.min.js\"></script>                <div id=\"d9cccae5-5017-4ee8-972d-41ced6550151\" class=\"plotly-graph-div\" style=\"height:525px; width:100%;\"></div>            <script type=\"text/javascript\">                                    window.PLOTLYENV=window.PLOTLYENV || {};                                    if (document.getElementById(\"d9cccae5-5017-4ee8-972d-41ced6550151\")) {                    Plotly.newPlot(                        \"d9cccae5-5017-4ee8-972d-41ced6550151\",                        [{\"alignmentgroup\":\"True\",\"hovertemplate\":\"Discipline=Athletics<br>NOC=%{x}<br>Count=%{y}<extra></extra>\",\"legendgroup\":\"Athletics\",\"marker\":{\"color\":\"#636efa\",\"pattern\":{\"shape\":\"\"}},\"name\":\"Athletics\",\"offsetgroup\":\"Athletics\",\"orientation\":\"v\",\"showlegend\":true,\"textposition\":\"auto\",\"type\":\"bar\",\"x\":[\"Afghanistan\",\"Albania\",\"Algeria\",\"American Samoa\",\"Andorra\",\"Angola\",\"Antigua and Barbuda\",\"Argentina\",\"Armenia\",\"Australia\",\"Austria\",\"Azerbaijan\",\"Bahamas\",\"Bahrain\",\"Bangladesh\",\"Barbados\",\"Belarus\",\"Belgium\",\"Belize\",\"Benin\",\"Bolivia\",\"Bosnia and Herzegovina\",\"Botswana\",\"Brazil\",\"Brunei Darussalam\",\"Bulgaria\",\"Burkina Faso\",\"Burundi\",\"Cambodia\",\"Cameroon\",\"Canada\",\"Cape Verde\",\"Cayman Islands\",\"Central African Republic\",\"Chad\",\"Chile\",\"Chinese Taipei\",\"Colombia\",\"Comoros\",\"Congo\",\"Cook Islands\",\"Costa Rica\",\"Croatia\",\"Cuba\",\"Cyprus\",\"Czech Republic\",\"C\\u00f4te d'Ivoire\",\"Democratic Republic of Timor-Leste\",\"Democratic Republic of the Congo\",\"Denmark\",\"Djibouti\",\"Dominica\",\"Dominican Republic\",\"Ecuador\",\"Egypt\",\"El Salvador\",\"Equatorial Guinea\",\"Eritrea\",\"Estonia\",\"Eswatini\",\"Ethiopia\",\"Federated States of Micronesia\",\"Fiji\",\"Finland\",\"France\",\"Gabon\",\"Gambia\",\"Georgia\",\"Germany\",\"Ghana\",\"Great Britain\",\"Greece\",\"Grenada\",\"Guam\",\"Guatemala\",\"Guinea\",\"Guinea-Bissau\",\"Guyana\",\"Haiti\",\"Honduras\",\"Hong Kong, China\",\"Hungary\",\"Iceland\",\"India\",\"Indonesia\",\"Iraq\",\"Ireland\",\"Islamic Republic of Iran\",\"Israel\",\"Italy\",\"Jamaica\",\"Japan\",\"Jordan\",\"Kazakhstan\",\"Kenya\",\"Kiribati\",\"Kosovo\",\"Kuwait\",\"Kyrgyzstan\",\"Lao People's Democratic Republic\",\"Latvia\",\"Lebanon\",\"Lesotho\",\"Liberia\",\"Libya\",\"Lithuania\",\"Luxembourg\",\"Madagascar\",\"Malawi\",\"Malaysia\",\"Maldives\",\"Mali\",\"Malta\",\"Mauritania\",\"Mauritius\",\"Mexico\",\"Monaco\",\"Mongolia\",\"Montenegro\",\"Morocco\",\"Mozambique\",\"Namibia\",\"Nauru\",\"Nepal\",\"Netherlands\",\"New Zealand\",\"Nicaragua\",\"Niger\",\"Nigeria\",\"North Macedonia\",\"Norway\",\"Oman\",\"Pakistan\",\"Palau\",\"Palestine\",\"Panama\",\"Papua New Guinea\",\"Paraguay\",\"People's Republic of China\",\"Peru\",\"Philippines\",\"Poland\",\"Portugal\",\"Puerto Rico\",\"Qatar\",\"ROC\",\"Refugee Olympic Team\",\"Republic of Korea\",\"Republic of Moldova\",\"Romania\",\"Rwanda\",\"Saint Kitts and Nevis\",\"Saint Lucia\",\"Samoa\",\"Sao Tome and Principe\",\"Saudi Arabia\",\"Senegal\",\"Serbia\",\"Seychelles\",\"Sierra Leone\",\"Singapore\",\"Slovakia\",\"Slovenia\",\"Solomon Islands\",\"Somalia\",\"South Africa\",\"South Sudan\",\"Spain\",\"Sri Lanka\",\"Sudan\",\"Sweden\",\"Switzerland\",\"Syrian Arab Republic\",\"Tajikistan\",\"Thailand\",\"Togo\",\"Tonga\",\"Trinidad and Tobago\",\"Tunisia\",\"Turkey\",\"Turkmenistan\",\"Tuvalu\",\"Uganda\",\"Ukraine\",\"United Republic of Tanzania\",\"United States of America\",\"Uruguay\",\"Uzbekistan\",\"Venezuela\",\"Vietnam\",\"Virgin Islands, British\",\"Virgin Islands, US\",\"Yemen\",\"Zambia\",\"Zimbabwe\"],\"xaxis\":\"x\",\"y\":[2,1,8,1,1,1,2,5,1,65,7,2,14,13,1,6,33,30,2,3,2,2,9,53,1,5,2,3,1,1,56,1,2,1,1,3,6,24,2,2,1,3,7,18,3,31,3,1,1,16,2,2,7,18,5,1,2,9,7,1,39,1,1,22,66,1,2,5,95,7,75,20,4,1,9,1,1,3,1,1,2,19,1,25,2,2,27,4,9,73,54,70,1,10,37,1,1,2,3,1,7,1,2,3,1,9,2,1,1,2,1,2,1,2,1,18,1,3,2,16,1,4,1,1,44,12,1,2,20,1,15,2,2,1,1,4,1,2,53,7,2,64,19,4,8,10,6,6,5,10,2,2,1,1,1,2,1,5,1,1,1,9,7,1,1,30,2,58,2,1,20,30,1,1,2,1,1,22,3,24,1,2,18,48,2,144,3,7,4,1,2,1,1,2,1],\"yaxis\":\"y\"},{\"alignmentgroup\":\"True\",\"hovertemplate\":\"Discipline=Swimming<br>NOC=%{x}<br>Count=%{y}<extra></extra>\",\"legendgroup\":\"Swimming\",\"marker\":{\"color\":\"#EF553B\",\"pattern\":{\"shape\":\"\"}},\"name\":\"Swimming\",\"offsetgroup\":\"Swimming\",\"orientation\":\"v\",\"showlegend\":true,\"textposition\":\"auto\",\"type\":\"bar\",\"x\":[\"Afghanistan\",\"Albania\",\"Algeria\",\"American Samoa\",\"Angola\",\"Antigua and Barbuda\",\"Argentina\",\"Armenia\",\"Aruba\",\"Australia\",\"Austria\",\"Azerbaijan\",\"Bahamas\",\"Bahrain\",\"Bangladesh\",\"Barbados\",\"Belarus\",\"Belgium\",\"Benin\",\"Bhutan\",\"Bolivia\",\"Bosnia and Herzegovina\",\"Botswana\",\"Brazil\",\"Brunei Darussalam\",\"Bulgaria\",\"Burkina Faso\",\"Burundi\",\"Cambodia\",\"Cameroon\",\"Canada\",\"Cape Verde\",\"Cayman Islands\",\"Central African Republic\",\"Chile\",\"Chinese Taipei\",\"Colombia\",\"Congo\",\"Cook Islands\",\"Costa Rica\",\"Croatia\",\"Cuba\",\"Cyprus\",\"Czech Republic\",\"C\\u00f4te d'Ivoire\",\"Democratic Republic of Timor-Leste\",\"Denmark\",\"Djibouti\",\"Dominican Republic\",\"Ecuador\",\"Egypt\",\"El Salvador\",\"Equatorial Guinea\",\"Eritrea\",\"Estonia\",\"Eswatini\",\"Ethiopia\",\"Federated States of Micronesia\",\"Fiji\",\"Finland\",\"France\",\"Gabon\",\"Georgia\",\"Germany\",\"Ghana\",\"Great Britain\",\"Greece\",\"Grenada\",\"Guam\",\"Guatemala\",\"Guinea\",\"Guyana\",\"Haiti\",\"Honduras\",\"Hong Kong, China\",\"Hungary\",\"Iceland\",\"India\",\"Indonesia\",\"Ireland\",\"Islamic Republic of Iran\",\"Israel\",\"Italy\",\"Jamaica\",\"Japan\",\"Jordan\",\"Kazakhstan\",\"Kenya\",\"Kosovo\",\"Kuwait\",\"Kyrgyzstan\",\"Lao People's Democratic Republic\",\"Latvia\",\"Lebanon\",\"Libya\",\"Liechtenstein\",\"Lithuania\",\"Luxembourg\",\"Madagascar\",\"Malawi\",\"Malaysia\",\"Maldives\",\"Mali\",\"Malta\",\"Marshall Islands\",\"Mauritius\",\"Mexico\",\"Monaco\",\"Mongolia\",\"Montenegro\",\"Morocco\",\"Mozambique\",\"Nepal\",\"Netherlands\",\"New Zealand\",\"Nicaragua\",\"Niger\",\"Nigeria\",\"North Macedonia\",\"Norway\",\"Oman\",\"Pakistan\",\"Palau\",\"Palestine\",\"Panama\",\"Papua New Guinea\",\"Paraguay\",\"People's Republic of China\",\"Peru\",\"Philippines\",\"Poland\",\"Portugal\",\"Puerto Rico\",\"Qatar\",\"ROC\",\"Refugee Olympic Team\",\"Republic of Korea\",\"Republic of Moldova\",\"Romania\",\"Rwanda\",\"Saint Lucia\",\"San Marino\",\"Saudi Arabia\",\"Senegal\",\"Serbia\",\"Seychelles\",\"Sierra Leone\",\"Singapore\",\"Slovakia\",\"Slovenia\",\"Solomon Islands\",\"South Africa\",\"Spain\",\"Sri Lanka\",\"St Vincent and the Grenadines\",\"Sudan\",\"Suriname\",\"Sweden\",\"Switzerland\",\"Syrian Arab Republic\",\"Tajikistan\",\"Thailand\",\"Togo\",\"Tonga\",\"Trinidad and Tobago\",\"Tunisia\",\"Turkey\",\"Turkmenistan\",\"Uganda\",\"Ukraine\",\"United Arab Emirates\",\"United States of America\",\"Uruguay\",\"Uzbekistan\",\"Venezuela\",\"Vietnam\",\"Virgin Islands, British\",\"Virgin Islands, US\",\"Yemen\",\"Zambia\",\"Zimbabwe\"],\"xaxis\":\"x\",\"y\":[1,2,2,1,2,2,3,2,2,30,7,2,2,2,2,1,5,2,2,1,2,2,1,17,1,5,2,2,2,2,20,2,2,1,2,3,2,1,2,2,2,2,2,8,1,2,9,1,2,2,4,2,1,1,3,2,1,2,2,5,17,2,2,24,2,27,7,2,2,2,2,2,2,2,6,20,2,3,2,6,1,10,29,2,25,1,2,2,2,2,1,2,2,2,1,2,4,2,2,2,2,2,1,2,2,1,3,2,2,2,2,2,2,14,6,2,2,1,2,4,1,2,2,1,1,2,2,25,1,2,8,6,2,2,28,2,8,2,3,2,2,1,1,2,5,2,2,3,2,3,1,12,8,2,2,2,1,10,6,1,2,2,1,2,2,1,10,2,2,6,1,39,2,2,3,2,1,2,1,2,2],\"yaxis\":\"y\"},{\"alignmentgroup\":\"True\",\"hovertemplate\":\"Discipline=Football<br>NOC=%{x}<br>Count=%{y}<extra></extra>\",\"legendgroup\":\"Football\",\"marker\":{\"color\":\"#00cc96\",\"pattern\":{\"shape\":\"\"}},\"name\":\"Football\",\"offsetgroup\":\"Football\",\"orientation\":\"v\",\"showlegend\":true,\"textposition\":\"auto\",\"type\":\"bar\",\"x\":[\"Argentina\",\"Australia\",\"Brazil\",\"Canada\",\"Chile\",\"C\\u00f4te d'Ivoire\",\"Egypt\",\"France\",\"Germany\",\"Great Britain\",\"Honduras\",\"Japan\",\"Mexico\",\"Netherlands\",\"New Zealand\",\"People's Republic of China\",\"Republic of Korea\",\"Romania\",\"Saudi Arabia\",\"South Africa\",\"Spain\",\"Sweden\",\"United States of America\",\"Zambia\"],\"xaxis\":\"x\",\"y\":[19,43,41,22,21,20,20,21,17,21,20,42,21,20,39,20,20,20,21,19,19,20,20,21],\"yaxis\":\"y\"}],                        {\"barmode\":\"relative\",\"legend\":{\"title\":{\"text\":\"Discipline\"},\"tracegroupgap\":0},\"template\":{\"data\":{\"bar\":[{\"error_x\":{\"color\":\"#2a3f5f\"},\"error_y\":{\"color\":\"#2a3f5f\"},\"marker\":{\"line\":{\"color\":\"#E5ECF6\",\"width\":0.5},\"pattern\":{\"fillmode\":\"overlay\",\"size\":10,\"solidity\":0.2}},\"type\":\"bar\"}],\"barpolar\":[{\"marker\":{\"line\":{\"color\":\"#E5ECF6\",\"width\":0.5},\"pattern\":{\"fillmode\":\"overlay\",\"size\":10,\"solidity\":0.2}},\"type\":\"barpolar\"}],\"carpet\":[{\"aaxis\":{\"endlinecolor\":\"#2a3f5f\",\"gridcolor\":\"white\",\"linecolor\":\"white\",\"minorgridcolor\":\"white\",\"startlinecolor\":\"#2a3f5f\"},\"baxis\":{\"endlinecolor\":\"#2a3f5f\",\"gridcolor\":\"white\",\"linecolor\":\"white\",\"minorgridcolor\":\"white\",\"startlinecolor\":\"#2a3f5f\"},\"type\":\"carpet\"}],\"choropleth\":[{\"colorbar\":{\"outlinewidth\":0,\"ticks\":\"\"},\"type\":\"choropleth\"}],\"contour\":[{\"colorbar\":{\"outlinewidth\":0,\"ticks\":\"\"},\"colorscale\":[[0.0,\"#0d0887\"],[0.1111111111111111,\"#46039f\"],[0.2222222222222222,\"#7201a8\"],[0.3333333333333333,\"#9c179e\"],[0.4444444444444444,\"#bd3786\"],[0.5555555555555556,\"#d8576b\"],[0.6666666666666666,\"#ed7953\"],[0.7777777777777778,\"#fb9f3a\"],[0.8888888888888888,\"#fdca26\"],[1.0,\"#f0f921\"]],\"type\":\"contour\"}],\"contourcarpet\":[{\"colorbar\":{\"outlinewidth\":0,\"ticks\":\"\"},\"type\":\"contourcarpet\"}],\"heatmap\":[{\"colorbar\":{\"outlinewidth\":0,\"ticks\":\"\"},\"colorscale\":[[0.0,\"#0d0887\"],[0.1111111111111111,\"#46039f\"],[0.2222222222222222,\"#7201a8\"],[0.3333333333333333,\"#9c179e\"],[0.4444444444444444,\"#bd3786\"],[0.5555555555555556,\"#d8576b\"],[0.6666666666666666,\"#ed7953\"],[0.7777777777777778,\"#fb9f3a\"],[0.8888888888888888,\"#fdca26\"],[1.0,\"#f0f921\"]],\"type\":\"heatmap\"}],\"heatmapgl\":[{\"colorbar\":{\"outlinewidth\":0,\"ticks\":\"\"},\"colorscale\":[[0.0,\"#0d0887\"],[0.1111111111111111,\"#46039f\"],[0.2222222222222222,\"#7201a8\"],[0.3333333333333333,\"#9c179e\"],[0.4444444444444444,\"#bd3786\"],[0.5555555555555556,\"#d8576b\"],[0.6666666666666666,\"#ed7953\"],[0.7777777777777778,\"#fb9f3a\"],[0.8888888888888888,\"#fdca26\"],[1.0,\"#f0f921\"]],\"type\":\"heatmapgl\"}],\"histogram\":[{\"marker\":{\"pattern\":{\"fillmode\":\"overlay\",\"size\":10,\"solidity\":0.2}},\"type\":\"histogram\"}],\"histogram2d\":[{\"colorbar\":{\"outlinewidth\":0,\"ticks\":\"\"},\"colorscale\":[[0.0,\"#0d0887\"],[0.1111111111111111,\"#46039f\"],[0.2222222222222222,\"#7201a8\"],[0.3333333333333333,\"#9c179e\"],[0.4444444444444444,\"#bd3786\"],[0.5555555555555556,\"#d8576b\"],[0.6666666666666666,\"#ed7953\"],[0.7777777777777778,\"#fb9f3a\"],[0.8888888888888888,\"#fdca26\"],[1.0,\"#f0f921\"]],\"type\":\"histogram2d\"}],\"histogram2dcontour\":[{\"colorbar\":{\"outlinewidth\":0,\"ticks\":\"\"},\"colorscale\":[[0.0,\"#0d0887\"],[0.1111111111111111,\"#46039f\"],[0.2222222222222222,\"#7201a8\"],[0.3333333333333333,\"#9c179e\"],[0.4444444444444444,\"#bd3786\"],[0.5555555555555556,\"#d8576b\"],[0.6666666666666666,\"#ed7953\"],[0.7777777777777778,\"#fb9f3a\"],[0.8888888888888888,\"#fdca26\"],[1.0,\"#f0f921\"]],\"type\":\"histogram2dcontour\"}],\"mesh3d\":[{\"colorbar\":{\"outlinewidth\":0,\"ticks\":\"\"},\"type\":\"mesh3d\"}],\"parcoords\":[{\"line\":{\"colorbar\":{\"outlinewidth\":0,\"ticks\":\"\"}},\"type\":\"parcoords\"}],\"pie\":[{\"automargin\":true,\"type\":\"pie\"}],\"scatter\":[{\"marker\":{\"colorbar\":{\"outlinewidth\":0,\"ticks\":\"\"}},\"type\":\"scatter\"}],\"scatter3d\":[{\"line\":{\"colorbar\":{\"outlinewidth\":0,\"ticks\":\"\"}},\"marker\":{\"colorbar\":{\"outlinewidth\":0,\"ticks\":\"\"}},\"type\":\"scatter3d\"}],\"scattercarpet\":[{\"marker\":{\"colorbar\":{\"outlinewidth\":0,\"ticks\":\"\"}},\"type\":\"scattercarpet\"}],\"scattergeo\":[{\"marker\":{\"colorbar\":{\"outlinewidth\":0,\"ticks\":\"\"}},\"type\":\"scattergeo\"}],\"scattergl\":[{\"marker\":{\"colorbar\":{\"outlinewidth\":0,\"ticks\":\"\"}},\"type\":\"scattergl\"}],\"scattermapbox\":[{\"marker\":{\"colorbar\":{\"outlinewidth\":0,\"ticks\":\"\"}},\"type\":\"scattermapbox\"}],\"scatterpolar\":[{\"marker\":{\"colorbar\":{\"outlinewidth\":0,\"ticks\":\"\"}},\"type\":\"scatterpolar\"}],\"scatterpolargl\":[{\"marker\":{\"colorbar\":{\"outlinewidth\":0,\"ticks\":\"\"}},\"type\":\"scatterpolargl\"}],\"scatterternary\":[{\"marker\":{\"colorbar\":{\"outlinewidth\":0,\"ticks\":\"\"}},\"type\":\"scatterternary\"}],\"surface\":[{\"colorbar\":{\"outlinewidth\":0,\"ticks\":\"\"},\"colorscale\":[[0.0,\"#0d0887\"],[0.1111111111111111,\"#46039f\"],[0.2222222222222222,\"#7201a8\"],[0.3333333333333333,\"#9c179e\"],[0.4444444444444444,\"#bd3786\"],[0.5555555555555556,\"#d8576b\"],[0.6666666666666666,\"#ed7953\"],[0.7777777777777778,\"#fb9f3a\"],[0.8888888888888888,\"#fdca26\"],[1.0,\"#f0f921\"]],\"type\":\"surface\"}],\"table\":[{\"cells\":{\"fill\":{\"color\":\"#EBF0F8\"},\"line\":{\"color\":\"white\"}},\"header\":{\"fill\":{\"color\":\"#C8D4E3\"},\"line\":{\"color\":\"white\"}},\"type\":\"table\"}]},\"layout\":{\"annotationdefaults\":{\"arrowcolor\":\"#2a3f5f\",\"arrowhead\":0,\"arrowwidth\":1},\"autotypenumbers\":\"strict\",\"coloraxis\":{\"colorbar\":{\"outlinewidth\":0,\"ticks\":\"\"}},\"colorscale\":{\"diverging\":[[0,\"#8e0152\"],[0.1,\"#c51b7d\"],[0.2,\"#de77ae\"],[0.3,\"#f1b6da\"],[0.4,\"#fde0ef\"],[0.5,\"#f7f7f7\"],[0.6,\"#e6f5d0\"],[0.7,\"#b8e186\"],[0.8,\"#7fbc41\"],[0.9,\"#4d9221\"],[1,\"#276419\"]],\"sequential\":[[0.0,\"#0d0887\"],[0.1111111111111111,\"#46039f\"],[0.2222222222222222,\"#7201a8\"],[0.3333333333333333,\"#9c179e\"],[0.4444444444444444,\"#bd3786\"],[0.5555555555555556,\"#d8576b\"],[0.6666666666666666,\"#ed7953\"],[0.7777777777777778,\"#fb9f3a\"],[0.8888888888888888,\"#fdca26\"],[1.0,\"#f0f921\"]],\"sequentialminus\":[[0.0,\"#0d0887\"],[0.1111111111111111,\"#46039f\"],[0.2222222222222222,\"#7201a8\"],[0.3333333333333333,\"#9c179e\"],[0.4444444444444444,\"#bd3786\"],[0.5555555555555556,\"#d8576b\"],[0.6666666666666666,\"#ed7953\"],[0.7777777777777778,\"#fb9f3a\"],[0.8888888888888888,\"#fdca26\"],[1.0,\"#f0f921\"]]},\"colorway\":[\"#636efa\",\"#EF553B\",\"#00cc96\",\"#ab63fa\",\"#FFA15A\",\"#19d3f3\",\"#FF6692\",\"#B6E880\",\"#FF97FF\",\"#FECB52\"],\"font\":{\"color\":\"#2a3f5f\"},\"geo\":{\"bgcolor\":\"white\",\"lakecolor\":\"white\",\"landcolor\":\"#E5ECF6\",\"showlakes\":true,\"showland\":true,\"subunitcolor\":\"white\"},\"hoverlabel\":{\"align\":\"left\"},\"hovermode\":\"closest\",\"mapbox\":{\"style\":\"light\"},\"paper_bgcolor\":\"white\",\"plot_bgcolor\":\"#E5ECF6\",\"polar\":{\"angularaxis\":{\"gridcolor\":\"white\",\"linecolor\":\"white\",\"ticks\":\"\"},\"bgcolor\":\"#E5ECF6\",\"radialaxis\":{\"gridcolor\":\"white\",\"linecolor\":\"white\",\"ticks\":\"\"}},\"scene\":{\"xaxis\":{\"backgroundcolor\":\"#E5ECF6\",\"gridcolor\":\"white\",\"gridwidth\":2,\"linecolor\":\"white\",\"showbackground\":true,\"ticks\":\"\",\"zerolinecolor\":\"white\"},\"yaxis\":{\"backgroundcolor\":\"#E5ECF6\",\"gridcolor\":\"white\",\"gridwidth\":2,\"linecolor\":\"white\",\"showbackground\":true,\"ticks\":\"\",\"zerolinecolor\":\"white\"},\"zaxis\":{\"backgroundcolor\":\"#E5ECF6\",\"gridcolor\":\"white\",\"gridwidth\":2,\"linecolor\":\"white\",\"showbackground\":true,\"ticks\":\"\",\"zerolinecolor\":\"white\"}},\"shapedefaults\":{\"line\":{\"color\":\"#2a3f5f\"}},\"ternary\":{\"aaxis\":{\"gridcolor\":\"white\",\"linecolor\":\"white\",\"ticks\":\"\"},\"baxis\":{\"gridcolor\":\"white\",\"linecolor\":\"white\",\"ticks\":\"\"},\"bgcolor\":\"#E5ECF6\",\"caxis\":{\"gridcolor\":\"white\",\"linecolor\":\"white\",\"ticks\":\"\"}},\"title\":{\"x\":0.05},\"xaxis\":{\"automargin\":true,\"gridcolor\":\"white\",\"linecolor\":\"white\",\"ticks\":\"\",\"title\":{\"standoff\":15},\"zerolinecolor\":\"white\",\"zerolinewidth\":2},\"yaxis\":{\"automargin\":true,\"gridcolor\":\"white\",\"linecolor\":\"white\",\"ticks\":\"\",\"title\":{\"standoff\":15},\"zerolinecolor\":\"white\",\"zerolinewidth\":2}}},\"title\":{\"text\":\"Number of Athletes from each country in each sport categor\"},\"xaxis\":{\"anchor\":\"y\",\"domain\":[0.0,1.0],\"title\":{\"text\":\"NOC\"}},\"yaxis\":{\"anchor\":\"x\",\"domain\":[0.0,1.0],\"title\":{\"text\":\"Count\"}}},                        {\"responsive\": true}                    ).then(function(){\n",
              "                            \n",
              "var gd = document.getElementById('d9cccae5-5017-4ee8-972d-41ced6550151');\n",
              "var x = new MutationObserver(function (mutations, observer) {{\n",
              "        var display = window.getComputedStyle(gd).display;\n",
              "        if (!display || display === 'none') {{\n",
              "            console.log([gd, 'removed!']);\n",
              "            Plotly.purge(gd);\n",
              "            observer.disconnect();\n",
              "        }}\n",
              "}});\n",
              "\n",
              "// Listen for the removal of the full notebook cells\n",
              "var notebookContainer = gd.closest('#notebook-container');\n",
              "if (notebookContainer) {{\n",
              "    x.observe(notebookContainer, {childList: true});\n",
              "}}\n",
              "\n",
              "// Listen for the clearing of the current output cell\n",
              "var outputEl = gd.closest('.output');\n",
              "if (outputEl) {{\n",
              "    x.observe(outputEl, {childList: true});\n",
              "}}\n",
              "\n",
              "                        })                };                            </script>        </div>\n",
              "</body>\n",
              "</html>"
            ]
          },
          "metadata": {}
        }
      ]
    },
    {
      "cell_type": "code",
      "metadata": {
        "colab": {
          "base_uri": "https://localhost:8080/",
          "height": 1000
        },
        "id": "G8wQHinIRXJ9",
        "outputId": "d0d26720-8746-4309-8c7a-937b48b080d6"
      },
      "source": [
        "entriesgender.sort_values('Total', ascending=0)"
      ],
      "execution_count": 72,
      "outputs": [
        {
          "output_type": "execute_result",
          "data": {
            "text/html": [
              "<div>\n",
              "<style scoped>\n",
              "    .dataframe tbody tr th:only-of-type {\n",
              "        vertical-align: middle;\n",
              "    }\n",
              "\n",
              "    .dataframe tbody tr th {\n",
              "        vertical-align: top;\n",
              "    }\n",
              "\n",
              "    .dataframe thead th {\n",
              "        text-align: right;\n",
              "    }\n",
              "</style>\n",
              "<table border=\"1\" class=\"dataframe\">\n",
              "  <thead>\n",
              "    <tr style=\"text-align: right;\">\n",
              "      <th></th>\n",
              "      <th>Discipline</th>\n",
              "      <th>Female</th>\n",
              "      <th>Male</th>\n",
              "      <th>Total</th>\n",
              "    </tr>\n",
              "  </thead>\n",
              "  <tbody>\n",
              "    <tr>\n",
              "      <th>4</th>\n",
              "      <td>Athletics</td>\n",
              "      <td>969</td>\n",
              "      <td>1072</td>\n",
              "      <td>2041</td>\n",
              "    </tr>\n",
              "    <tr>\n",
              "      <th>36</th>\n",
              "      <td>Swimming</td>\n",
              "      <td>361</td>\n",
              "      <td>418</td>\n",
              "      <td>779</td>\n",
              "    </tr>\n",
              "    <tr>\n",
              "      <th>20</th>\n",
              "      <td>Football</td>\n",
              "      <td>264</td>\n",
              "      <td>344</td>\n",
              "      <td>608</td>\n",
              "    </tr>\n",
              "    <tr>\n",
              "      <th>29</th>\n",
              "      <td>Rowing</td>\n",
              "      <td>257</td>\n",
              "      <td>265</td>\n",
              "      <td>522</td>\n",
              "    </tr>\n",
              "    <tr>\n",
              "      <th>24</th>\n",
              "      <td>Judo</td>\n",
              "      <td>192</td>\n",
              "      <td>201</td>\n",
              "      <td>393</td>\n",
              "    </tr>\n",
              "    <tr>\n",
              "      <th>23</th>\n",
              "      <td>Hockey</td>\n",
              "      <td>192</td>\n",
              "      <td>192</td>\n",
              "      <td>384</td>\n",
              "    </tr>\n",
              "    <tr>\n",
              "      <th>32</th>\n",
              "      <td>Shooting</td>\n",
              "      <td>178</td>\n",
              "      <td>178</td>\n",
              "      <td>356</td>\n",
              "    </tr>\n",
              "    <tr>\n",
              "      <th>31</th>\n",
              "      <td>Sailing</td>\n",
              "      <td>175</td>\n",
              "      <td>175</td>\n",
              "      <td>350</td>\n",
              "    </tr>\n",
              "    <tr>\n",
              "      <th>22</th>\n",
              "      <td>Handball</td>\n",
              "      <td>168</td>\n",
              "      <td>168</td>\n",
              "      <td>336</td>\n",
              "    </tr>\n",
              "    <tr>\n",
              "      <th>30</th>\n",
              "      <td>Rugby Sevens</td>\n",
              "      <td>146</td>\n",
              "      <td>151</td>\n",
              "      <td>297</td>\n",
              "    </tr>\n",
              "    <tr>\n",
              "      <th>45</th>\n",
              "      <td>Wrestling</td>\n",
              "      <td>96</td>\n",
              "      <td>193</td>\n",
              "      <td>289</td>\n",
              "    </tr>\n",
              "    <tr>\n",
              "      <th>9</th>\n",
              "      <td>Boxing</td>\n",
              "      <td>102</td>\n",
              "      <td>187</td>\n",
              "      <td>289</td>\n",
              "    </tr>\n",
              "    <tr>\n",
              "      <th>42</th>\n",
              "      <td>Volleyball</td>\n",
              "      <td>144</td>\n",
              "      <td>144</td>\n",
              "      <td>288</td>\n",
              "    </tr>\n",
              "    <tr>\n",
              "      <th>7</th>\n",
              "      <td>Basketball</td>\n",
              "      <td>144</td>\n",
              "      <td>144</td>\n",
              "      <td>288</td>\n",
              "    </tr>\n",
              "    <tr>\n",
              "      <th>43</th>\n",
              "      <td>Water Polo</td>\n",
              "      <td>122</td>\n",
              "      <td>146</td>\n",
              "      <td>268</td>\n",
              "    </tr>\n",
              "    <tr>\n",
              "      <th>11</th>\n",
              "      <td>Canoe Sprint</td>\n",
              "      <td>123</td>\n",
              "      <td>126</td>\n",
              "      <td>249</td>\n",
              "    </tr>\n",
              "    <tr>\n",
              "      <th>6</th>\n",
              "      <td>Baseball/Softball</td>\n",
              "      <td>90</td>\n",
              "      <td>144</td>\n",
              "      <td>234</td>\n",
              "    </tr>\n",
              "    <tr>\n",
              "      <th>19</th>\n",
              "      <td>Fencing</td>\n",
              "      <td>107</td>\n",
              "      <td>108</td>\n",
              "      <td>215</td>\n",
              "    </tr>\n",
              "    <tr>\n",
              "      <th>15</th>\n",
              "      <td>Cycling Road</td>\n",
              "      <td>70</td>\n",
              "      <td>131</td>\n",
              "      <td>201</td>\n",
              "    </tr>\n",
              "    <tr>\n",
              "      <th>18</th>\n",
              "      <td>Equestrian</td>\n",
              "      <td>73</td>\n",
              "      <td>125</td>\n",
              "      <td>198</td>\n",
              "    </tr>\n",
              "    <tr>\n",
              "      <th>44</th>\n",
              "      <td>Weightlifting</td>\n",
              "      <td>98</td>\n",
              "      <td>99</td>\n",
              "      <td>197</td>\n",
              "    </tr>\n",
              "    <tr>\n",
              "      <th>2</th>\n",
              "      <td>Artistic Gymnastics</td>\n",
              "      <td>98</td>\n",
              "      <td>98</td>\n",
              "      <td>196</td>\n",
              "    </tr>\n",
              "    <tr>\n",
              "      <th>39</th>\n",
              "      <td>Tennis</td>\n",
              "      <td>94</td>\n",
              "      <td>97</td>\n",
              "      <td>191</td>\n",
              "    </tr>\n",
              "    <tr>\n",
              "      <th>16</th>\n",
              "      <td>Cycling Track</td>\n",
              "      <td>90</td>\n",
              "      <td>99</td>\n",
              "      <td>189</td>\n",
              "    </tr>\n",
              "    <tr>\n",
              "      <th>5</th>\n",
              "      <td>Badminton</td>\n",
              "      <td>86</td>\n",
              "      <td>87</td>\n",
              "      <td>173</td>\n",
              "    </tr>\n",
              "    <tr>\n",
              "      <th>37</th>\n",
              "      <td>Table Tennis</td>\n",
              "      <td>86</td>\n",
              "      <td>86</td>\n",
              "      <td>172</td>\n",
              "    </tr>\n",
              "    <tr>\n",
              "      <th>17</th>\n",
              "      <td>Diving</td>\n",
              "      <td>72</td>\n",
              "      <td>71</td>\n",
              "      <td>143</td>\n",
              "    </tr>\n",
              "    <tr>\n",
              "      <th>38</th>\n",
              "      <td>Taekwondo</td>\n",
              "      <td>65</td>\n",
              "      <td>65</td>\n",
              "      <td>130</td>\n",
              "    </tr>\n",
              "    <tr>\n",
              "      <th>1</th>\n",
              "      <td>Archery</td>\n",
              "      <td>64</td>\n",
              "      <td>64</td>\n",
              "      <td>128</td>\n",
              "    </tr>\n",
              "    <tr>\n",
              "      <th>21</th>\n",
              "      <td>Golf</td>\n",
              "      <td>60</td>\n",
              "      <td>60</td>\n",
              "      <td>120</td>\n",
              "    </tr>\n",
              "    <tr>\n",
              "      <th>41</th>\n",
              "      <td>Triathlon</td>\n",
              "      <td>55</td>\n",
              "      <td>55</td>\n",
              "      <td>110</td>\n",
              "    </tr>\n",
              "    <tr>\n",
              "      <th>3</th>\n",
              "      <td>Artistic Swimming</td>\n",
              "      <td>105</td>\n",
              "      <td>0</td>\n",
              "      <td>105</td>\n",
              "    </tr>\n",
              "    <tr>\n",
              "      <th>28</th>\n",
              "      <td>Rhythmic Gymnastics</td>\n",
              "      <td>96</td>\n",
              "      <td>0</td>\n",
              "      <td>96</td>\n",
              "    </tr>\n",
              "    <tr>\n",
              "      <th>8</th>\n",
              "      <td>Beach Volleyball</td>\n",
              "      <td>48</td>\n",
              "      <td>48</td>\n",
              "      <td>96</td>\n",
              "    </tr>\n",
              "    <tr>\n",
              "      <th>25</th>\n",
              "      <td>Karate</td>\n",
              "      <td>40</td>\n",
              "      <td>42</td>\n",
              "      <td>82</td>\n",
              "    </tr>\n",
              "    <tr>\n",
              "      <th>10</th>\n",
              "      <td>Canoe Slalom</td>\n",
              "      <td>41</td>\n",
              "      <td>41</td>\n",
              "      <td>82</td>\n",
              "    </tr>\n",
              "    <tr>\n",
              "      <th>33</th>\n",
              "      <td>Skateboarding</td>\n",
              "      <td>40</td>\n",
              "      <td>40</td>\n",
              "      <td>80</td>\n",
              "    </tr>\n",
              "    <tr>\n",
              "      <th>14</th>\n",
              "      <td>Cycling Mountain Bike</td>\n",
              "      <td>38</td>\n",
              "      <td>38</td>\n",
              "      <td>76</td>\n",
              "    </tr>\n",
              "    <tr>\n",
              "      <th>27</th>\n",
              "      <td>Modern Pentathlon</td>\n",
              "      <td>36</td>\n",
              "      <td>36</td>\n",
              "      <td>72</td>\n",
              "    </tr>\n",
              "    <tr>\n",
              "      <th>0</th>\n",
              "      <td>3x3 Basketball</td>\n",
              "      <td>32</td>\n",
              "      <td>32</td>\n",
              "      <td>64</td>\n",
              "    </tr>\n",
              "    <tr>\n",
              "      <th>26</th>\n",
              "      <td>Marathon Swimming</td>\n",
              "      <td>25</td>\n",
              "      <td>25</td>\n",
              "      <td>50</td>\n",
              "    </tr>\n",
              "    <tr>\n",
              "      <th>13</th>\n",
              "      <td>Cycling BMX Racing</td>\n",
              "      <td>24</td>\n",
              "      <td>24</td>\n",
              "      <td>48</td>\n",
              "    </tr>\n",
              "    <tr>\n",
              "      <th>34</th>\n",
              "      <td>Sport Climbing</td>\n",
              "      <td>20</td>\n",
              "      <td>20</td>\n",
              "      <td>40</td>\n",
              "    </tr>\n",
              "    <tr>\n",
              "      <th>35</th>\n",
              "      <td>Surfing</td>\n",
              "      <td>20</td>\n",
              "      <td>20</td>\n",
              "      <td>40</td>\n",
              "    </tr>\n",
              "    <tr>\n",
              "      <th>40</th>\n",
              "      <td>Trampoline Gymnastics</td>\n",
              "      <td>16</td>\n",
              "      <td>16</td>\n",
              "      <td>32</td>\n",
              "    </tr>\n",
              "    <tr>\n",
              "      <th>12</th>\n",
              "      <td>Cycling BMX Freestyle</td>\n",
              "      <td>10</td>\n",
              "      <td>9</td>\n",
              "      <td>19</td>\n",
              "    </tr>\n",
              "  </tbody>\n",
              "</table>\n",
              "</div>"
            ],
            "text/plain": [
              "               Discipline  Female  Male  Total\n",
              "4               Athletics     969  1072   2041\n",
              "36               Swimming     361   418    779\n",
              "20               Football     264   344    608\n",
              "29                 Rowing     257   265    522\n",
              "24                   Judo     192   201    393\n",
              "23                 Hockey     192   192    384\n",
              "32               Shooting     178   178    356\n",
              "31                Sailing     175   175    350\n",
              "22               Handball     168   168    336\n",
              "30           Rugby Sevens     146   151    297\n",
              "45              Wrestling      96   193    289\n",
              "9                  Boxing     102   187    289\n",
              "42             Volleyball     144   144    288\n",
              "7              Basketball     144   144    288\n",
              "43             Water Polo     122   146    268\n",
              "11           Canoe Sprint     123   126    249\n",
              "6       Baseball/Softball      90   144    234\n",
              "19                Fencing     107   108    215\n",
              "15           Cycling Road      70   131    201\n",
              "18             Equestrian      73   125    198\n",
              "44          Weightlifting      98    99    197\n",
              "2     Artistic Gymnastics      98    98    196\n",
              "39                 Tennis      94    97    191\n",
              "16          Cycling Track      90    99    189\n",
              "5               Badminton      86    87    173\n",
              "37           Table Tennis      86    86    172\n",
              "17                 Diving      72    71    143\n",
              "38              Taekwondo      65    65    130\n",
              "1                 Archery      64    64    128\n",
              "21                   Golf      60    60    120\n",
              "41              Triathlon      55    55    110\n",
              "3       Artistic Swimming     105     0    105\n",
              "28    Rhythmic Gymnastics      96     0     96\n",
              "8        Beach Volleyball      48    48     96\n",
              "25                 Karate      40    42     82\n",
              "10           Canoe Slalom      41    41     82\n",
              "33          Skateboarding      40    40     80\n",
              "14  Cycling Mountain Bike      38    38     76\n",
              "27      Modern Pentathlon      36    36     72\n",
              "0          3x3 Basketball      32    32     64\n",
              "26      Marathon Swimming      25    25     50\n",
              "13     Cycling BMX Racing      24    24     48\n",
              "34         Sport Climbing      20    20     40\n",
              "35                Surfing      20    20     40\n",
              "40  Trampoline Gymnastics      16    16     32\n",
              "12  Cycling BMX Freestyle      10     9     19"
            ]
          },
          "metadata": {},
          "execution_count": 72
        }
      ]
    },
    {
      "cell_type": "code",
      "metadata": {
        "id": "PuLcbjqXKhk-"
      },
      "source": [
        "entriesgender.sort_values('Total', ascending=False, inplace=True)"
      ],
      "execution_count": 83,
      "outputs": []
    },
    {
      "cell_type": "code",
      "metadata": {
        "colab": {
          "base_uri": "https://localhost:8080/",
          "height": 1000
        },
        "id": "H9lTMWn9Kscy",
        "outputId": "accbbc1b-ff29-4762-8a7e-38507b190b08"
      },
      "source": [
        "specs = [[{'type':'domain'}, {'type':'domain'}]] *10\n",
        "fig = make_subplots(rows=10, cols=2, subplot_titles=entriesgender['Discipline'], specs=specs)\n",
        "sub_figs = []\n",
        "for i, row in entriesgender.iterrows():\n",
        "  sub_figure = go.Pie(labels=['Female', 'Male'], values = [row['Female'], row['Male']])\n",
        "  sub_figs.append(sub_figure)\n",
        "\n",
        "\n",
        "k = 0\n",
        "for i in range(1, 10):\n",
        "  for j in range(1, 3):\n",
        "    fig.add_trace(sub_figs[k], i, j)\n",
        "    k+=1\n",
        "  \n",
        "fig.update_layout(showlegend=False, height=5000, width = 1000, title_text=\"Female to Male ratio in the top 10 disciplines in Tokyo Olympics 2020\")\n",
        "fig.update_traces(textposition='inside', textinfo='label+percent', hoverinfo='label+value+percent')\n",
        "\n",
        "fig = go.Figure(fig)\n",
        "fig.show()"
      ],
      "execution_count": 86,
      "outputs": [
        {
          "output_type": "display_data",
          "data": {
            "text/html": [
              "<html>\n",
              "<head><meta charset=\"utf-8\" /></head>\n",
              "<body>\n",
              "    <div>            <script src=\"https://cdnjs.cloudflare.com/ajax/libs/mathjax/2.7.5/MathJax.js?config=TeX-AMS-MML_SVG\"></script><script type=\"text/javascript\">if (window.MathJax) {MathJax.Hub.Config({SVG: {font: \"STIX-Web\"}});}</script>                <script type=\"text/javascript\">window.PlotlyConfig = {MathJaxConfig: 'local'};</script>\n",
              "        <script src=\"https://cdn.plot.ly/plotly-2.4.2.min.js\"></script>                <div id=\"6f541fc1-feac-40b5-82cd-48c308b50851\" class=\"plotly-graph-div\" style=\"height:5000px; width:1000px;\"></div>            <script type=\"text/javascript\">                                    window.PLOTLYENV=window.PLOTLYENV || {};                                    if (document.getElementById(\"6f541fc1-feac-40b5-82cd-48c308b50851\")) {                    Plotly.newPlot(                        \"6f541fc1-feac-40b5-82cd-48c308b50851\",                        [{\"domain\":{\"x\":[0.0,0.45],\"y\":[0.9450000000000001,1.0]},\"hoverinfo\":\"label+value+percent\",\"labels\":[\"Female\",\"Male\"],\"textinfo\":\"label+percent\",\"textposition\":\"inside\",\"type\":\"pie\",\"values\":[32,32]},{\"domain\":{\"x\":[0.55,1.0],\"y\":[0.9450000000000001,1.0]},\"hoverinfo\":\"label+value+percent\",\"labels\":[\"Female\",\"Male\"],\"textinfo\":\"label+percent\",\"textposition\":\"inside\",\"type\":\"pie\",\"values\":[64,64]},{\"domain\":{\"x\":[0.0,0.45],\"y\":[0.8400000000000001,0.8950000000000001]},\"hoverinfo\":\"label+value+percent\",\"labels\":[\"Female\",\"Male\"],\"textinfo\":\"label+percent\",\"textposition\":\"inside\",\"type\":\"pie\",\"values\":[98,98]},{\"domain\":{\"x\":[0.55,1.0],\"y\":[0.8400000000000001,0.8950000000000001]},\"hoverinfo\":\"label+value+percent\",\"labels\":[\"Female\",\"Male\"],\"textinfo\":\"label+percent\",\"textposition\":\"inside\",\"type\":\"pie\",\"values\":[105,0]},{\"domain\":{\"x\":[0.0,0.45],\"y\":[0.7350000000000001,0.7900000000000001]},\"hoverinfo\":\"label+value+percent\",\"labels\":[\"Female\",\"Male\"],\"textinfo\":\"label+percent\",\"textposition\":\"inside\",\"type\":\"pie\",\"values\":[969,1072]},{\"domain\":{\"x\":[0.55,1.0],\"y\":[0.7350000000000001,0.7900000000000001]},\"hoverinfo\":\"label+value+percent\",\"labels\":[\"Female\",\"Male\"],\"textinfo\":\"label+percent\",\"textposition\":\"inside\",\"type\":\"pie\",\"values\":[86,87]},{\"domain\":{\"x\":[0.0,0.45],\"y\":[0.6300000000000001,0.6850000000000002]},\"hoverinfo\":\"label+value+percent\",\"labels\":[\"Female\",\"Male\"],\"textinfo\":\"label+percent\",\"textposition\":\"inside\",\"type\":\"pie\",\"values\":[90,144]},{\"domain\":{\"x\":[0.55,1.0],\"y\":[0.6300000000000001,0.6850000000000002]},\"hoverinfo\":\"label+value+percent\",\"labels\":[\"Female\",\"Male\"],\"textinfo\":\"label+percent\",\"textposition\":\"inside\",\"type\":\"pie\",\"values\":[144,144]},{\"domain\":{\"x\":[0.0,0.45],\"y\":[0.525,0.5800000000000001]},\"hoverinfo\":\"label+value+percent\",\"labels\":[\"Female\",\"Male\"],\"textinfo\":\"label+percent\",\"textposition\":\"inside\",\"type\":\"pie\",\"values\":[48,48]},{\"domain\":{\"x\":[0.55,1.0],\"y\":[0.525,0.5800000000000001]},\"hoverinfo\":\"label+value+percent\",\"labels\":[\"Female\",\"Male\"],\"textinfo\":\"label+percent\",\"textposition\":\"inside\",\"type\":\"pie\",\"values\":[102,187]},{\"domain\":{\"x\":[0.0,0.45],\"y\":[0.42000000000000004,0.47500000000000003]},\"hoverinfo\":\"label+value+percent\",\"labels\":[\"Female\",\"Male\"],\"textinfo\":\"label+percent\",\"textposition\":\"inside\",\"type\":\"pie\",\"values\":[41,41]},{\"domain\":{\"x\":[0.55,1.0],\"y\":[0.42000000000000004,0.47500000000000003]},\"hoverinfo\":\"label+value+percent\",\"labels\":[\"Female\",\"Male\"],\"textinfo\":\"label+percent\",\"textposition\":\"inside\",\"type\":\"pie\",\"values\":[123,126]},{\"domain\":{\"x\":[0.0,0.45],\"y\":[0.31500000000000006,0.37000000000000005]},\"hoverinfo\":\"label+value+percent\",\"labels\":[\"Female\",\"Male\"],\"textinfo\":\"label+percent\",\"textposition\":\"inside\",\"type\":\"pie\",\"values\":[10,9]},{\"domain\":{\"x\":[0.55,1.0],\"y\":[0.31500000000000006,0.37000000000000005]},\"hoverinfo\":\"label+value+percent\",\"labels\":[\"Female\",\"Male\"],\"textinfo\":\"label+percent\",\"textposition\":\"inside\",\"type\":\"pie\",\"values\":[24,24]},{\"domain\":{\"x\":[0.0,0.45],\"y\":[0.21000000000000002,0.265]},\"hoverinfo\":\"label+value+percent\",\"labels\":[\"Female\",\"Male\"],\"textinfo\":\"label+percent\",\"textposition\":\"inside\",\"type\":\"pie\",\"values\":[38,38]},{\"domain\":{\"x\":[0.55,1.0],\"y\":[0.21000000000000002,0.265]},\"hoverinfo\":\"label+value+percent\",\"labels\":[\"Female\",\"Male\"],\"textinfo\":\"label+percent\",\"textposition\":\"inside\",\"type\":\"pie\",\"values\":[70,131]},{\"domain\":{\"x\":[0.0,0.45],\"y\":[0.10500000000000001,0.16000000000000003]},\"hoverinfo\":\"label+value+percent\",\"labels\":[\"Female\",\"Male\"],\"textinfo\":\"label+percent\",\"textposition\":\"inside\",\"type\":\"pie\",\"values\":[90,99]},{\"domain\":{\"x\":[0.55,1.0],\"y\":[0.10500000000000001,0.16000000000000003]},\"hoverinfo\":\"label+value+percent\",\"labels\":[\"Female\",\"Male\"],\"textinfo\":\"label+percent\",\"textposition\":\"inside\",\"type\":\"pie\",\"values\":[72,71]}],                        {\"annotations\":[{\"font\":{\"size\":16},\"showarrow\":false,\"text\":\"3x3 Basketball\",\"x\":0.225,\"xanchor\":\"center\",\"xref\":\"paper\",\"y\":1.0,\"yanchor\":\"bottom\",\"yref\":\"paper\"},{\"font\":{\"size\":16},\"showarrow\":false,\"text\":\"Archery\",\"x\":0.775,\"xanchor\":\"center\",\"xref\":\"paper\",\"y\":1.0,\"yanchor\":\"bottom\",\"yref\":\"paper\"},{\"font\":{\"size\":16},\"showarrow\":false,\"text\":\"Artistic Gymnastics\",\"x\":0.225,\"xanchor\":\"center\",\"xref\":\"paper\",\"y\":0.8950000000000001,\"yanchor\":\"bottom\",\"yref\":\"paper\"},{\"font\":{\"size\":16},\"showarrow\":false,\"text\":\"Artistic Swimming\",\"x\":0.775,\"xanchor\":\"center\",\"xref\":\"paper\",\"y\":0.8950000000000001,\"yanchor\":\"bottom\",\"yref\":\"paper\"},{\"font\":{\"size\":16},\"showarrow\":false,\"text\":\"Athletics\",\"x\":0.225,\"xanchor\":\"center\",\"xref\":\"paper\",\"y\":0.7900000000000001,\"yanchor\":\"bottom\",\"yref\":\"paper\"},{\"font\":{\"size\":16},\"showarrow\":false,\"text\":\"Badminton\",\"x\":0.775,\"xanchor\":\"center\",\"xref\":\"paper\",\"y\":0.7900000000000001,\"yanchor\":\"bottom\",\"yref\":\"paper\"},{\"font\":{\"size\":16},\"showarrow\":false,\"text\":\"Baseball/Softball\",\"x\":0.225,\"xanchor\":\"center\",\"xref\":\"paper\",\"y\":0.6850000000000002,\"yanchor\":\"bottom\",\"yref\":\"paper\"},{\"font\":{\"size\":16},\"showarrow\":false,\"text\":\"Basketball\",\"x\":0.775,\"xanchor\":\"center\",\"xref\":\"paper\",\"y\":0.6850000000000002,\"yanchor\":\"bottom\",\"yref\":\"paper\"},{\"font\":{\"size\":16},\"showarrow\":false,\"text\":\"Beach Volleyball\",\"x\":0.225,\"xanchor\":\"center\",\"xref\":\"paper\",\"y\":0.5800000000000001,\"yanchor\":\"bottom\",\"yref\":\"paper\"},{\"font\":{\"size\":16},\"showarrow\":false,\"text\":\"Boxing\",\"x\":0.775,\"xanchor\":\"center\",\"xref\":\"paper\",\"y\":0.5800000000000001,\"yanchor\":\"bottom\",\"yref\":\"paper\"},{\"font\":{\"size\":16},\"showarrow\":false,\"text\":\"Canoe Slalom\",\"x\":0.225,\"xanchor\":\"center\",\"xref\":\"paper\",\"y\":0.47500000000000003,\"yanchor\":\"bottom\",\"yref\":\"paper\"},{\"font\":{\"size\":16},\"showarrow\":false,\"text\":\"Canoe Sprint\",\"x\":0.775,\"xanchor\":\"center\",\"xref\":\"paper\",\"y\":0.47500000000000003,\"yanchor\":\"bottom\",\"yref\":\"paper\"},{\"font\":{\"size\":16},\"showarrow\":false,\"text\":\"Cycling BMX Freestyle\",\"x\":0.225,\"xanchor\":\"center\",\"xref\":\"paper\",\"y\":0.37000000000000005,\"yanchor\":\"bottom\",\"yref\":\"paper\"},{\"font\":{\"size\":16},\"showarrow\":false,\"text\":\"Cycling BMX Racing\",\"x\":0.775,\"xanchor\":\"center\",\"xref\":\"paper\",\"y\":0.37000000000000005,\"yanchor\":\"bottom\",\"yref\":\"paper\"},{\"font\":{\"size\":16},\"showarrow\":false,\"text\":\"Cycling Mountain Bike\",\"x\":0.225,\"xanchor\":\"center\",\"xref\":\"paper\",\"y\":0.265,\"yanchor\":\"bottom\",\"yref\":\"paper\"},{\"font\":{\"size\":16},\"showarrow\":false,\"text\":\"Cycling Road\",\"x\":0.775,\"xanchor\":\"center\",\"xref\":\"paper\",\"y\":0.265,\"yanchor\":\"bottom\",\"yref\":\"paper\"},{\"font\":{\"size\":16},\"showarrow\":false,\"text\":\"Cycling Track\",\"x\":0.225,\"xanchor\":\"center\",\"xref\":\"paper\",\"y\":0.16000000000000003,\"yanchor\":\"bottom\",\"yref\":\"paper\"},{\"font\":{\"size\":16},\"showarrow\":false,\"text\":\"Diving\",\"x\":0.775,\"xanchor\":\"center\",\"xref\":\"paper\",\"y\":0.16000000000000003,\"yanchor\":\"bottom\",\"yref\":\"paper\"},{\"font\":{\"size\":16},\"showarrow\":false,\"text\":\"Equestrian\",\"x\":0.225,\"xanchor\":\"center\",\"xref\":\"paper\",\"y\":0.05500000000000001,\"yanchor\":\"bottom\",\"yref\":\"paper\"},{\"font\":{\"size\":16},\"showarrow\":false,\"text\":\"Fencing\",\"x\":0.775,\"xanchor\":\"center\",\"xref\":\"paper\",\"y\":0.05500000000000001,\"yanchor\":\"bottom\",\"yref\":\"paper\"}],\"height\":5000,\"showlegend\":false,\"template\":{\"data\":{\"bar\":[{\"error_x\":{\"color\":\"#2a3f5f\"},\"error_y\":{\"color\":\"#2a3f5f\"},\"marker\":{\"line\":{\"color\":\"#E5ECF6\",\"width\":0.5},\"pattern\":{\"fillmode\":\"overlay\",\"size\":10,\"solidity\":0.2}},\"type\":\"bar\"}],\"barpolar\":[{\"marker\":{\"line\":{\"color\":\"#E5ECF6\",\"width\":0.5},\"pattern\":{\"fillmode\":\"overlay\",\"size\":10,\"solidity\":0.2}},\"type\":\"barpolar\"}],\"carpet\":[{\"aaxis\":{\"endlinecolor\":\"#2a3f5f\",\"gridcolor\":\"white\",\"linecolor\":\"white\",\"minorgridcolor\":\"white\",\"startlinecolor\":\"#2a3f5f\"},\"baxis\":{\"endlinecolor\":\"#2a3f5f\",\"gridcolor\":\"white\",\"linecolor\":\"white\",\"minorgridcolor\":\"white\",\"startlinecolor\":\"#2a3f5f\"},\"type\":\"carpet\"}],\"choropleth\":[{\"colorbar\":{\"outlinewidth\":0,\"ticks\":\"\"},\"type\":\"choropleth\"}],\"contour\":[{\"colorbar\":{\"outlinewidth\":0,\"ticks\":\"\"},\"colorscale\":[[0.0,\"#0d0887\"],[0.1111111111111111,\"#46039f\"],[0.2222222222222222,\"#7201a8\"],[0.3333333333333333,\"#9c179e\"],[0.4444444444444444,\"#bd3786\"],[0.5555555555555556,\"#d8576b\"],[0.6666666666666666,\"#ed7953\"],[0.7777777777777778,\"#fb9f3a\"],[0.8888888888888888,\"#fdca26\"],[1.0,\"#f0f921\"]],\"type\":\"contour\"}],\"contourcarpet\":[{\"colorbar\":{\"outlinewidth\":0,\"ticks\":\"\"},\"type\":\"contourcarpet\"}],\"heatmap\":[{\"colorbar\":{\"outlinewidth\":0,\"ticks\":\"\"},\"colorscale\":[[0.0,\"#0d0887\"],[0.1111111111111111,\"#46039f\"],[0.2222222222222222,\"#7201a8\"],[0.3333333333333333,\"#9c179e\"],[0.4444444444444444,\"#bd3786\"],[0.5555555555555556,\"#d8576b\"],[0.6666666666666666,\"#ed7953\"],[0.7777777777777778,\"#fb9f3a\"],[0.8888888888888888,\"#fdca26\"],[1.0,\"#f0f921\"]],\"type\":\"heatmap\"}],\"heatmapgl\":[{\"colorbar\":{\"outlinewidth\":0,\"ticks\":\"\"},\"colorscale\":[[0.0,\"#0d0887\"],[0.1111111111111111,\"#46039f\"],[0.2222222222222222,\"#7201a8\"],[0.3333333333333333,\"#9c179e\"],[0.4444444444444444,\"#bd3786\"],[0.5555555555555556,\"#d8576b\"],[0.6666666666666666,\"#ed7953\"],[0.7777777777777778,\"#fb9f3a\"],[0.8888888888888888,\"#fdca26\"],[1.0,\"#f0f921\"]],\"type\":\"heatmapgl\"}],\"histogram\":[{\"marker\":{\"pattern\":{\"fillmode\":\"overlay\",\"size\":10,\"solidity\":0.2}},\"type\":\"histogram\"}],\"histogram2d\":[{\"colorbar\":{\"outlinewidth\":0,\"ticks\":\"\"},\"colorscale\":[[0.0,\"#0d0887\"],[0.1111111111111111,\"#46039f\"],[0.2222222222222222,\"#7201a8\"],[0.3333333333333333,\"#9c179e\"],[0.4444444444444444,\"#bd3786\"],[0.5555555555555556,\"#d8576b\"],[0.6666666666666666,\"#ed7953\"],[0.7777777777777778,\"#fb9f3a\"],[0.8888888888888888,\"#fdca26\"],[1.0,\"#f0f921\"]],\"type\":\"histogram2d\"}],\"histogram2dcontour\":[{\"colorbar\":{\"outlinewidth\":0,\"ticks\":\"\"},\"colorscale\":[[0.0,\"#0d0887\"],[0.1111111111111111,\"#46039f\"],[0.2222222222222222,\"#7201a8\"],[0.3333333333333333,\"#9c179e\"],[0.4444444444444444,\"#bd3786\"],[0.5555555555555556,\"#d8576b\"],[0.6666666666666666,\"#ed7953\"],[0.7777777777777778,\"#fb9f3a\"],[0.8888888888888888,\"#fdca26\"],[1.0,\"#f0f921\"]],\"type\":\"histogram2dcontour\"}],\"mesh3d\":[{\"colorbar\":{\"outlinewidth\":0,\"ticks\":\"\"},\"type\":\"mesh3d\"}],\"parcoords\":[{\"line\":{\"colorbar\":{\"outlinewidth\":0,\"ticks\":\"\"}},\"type\":\"parcoords\"}],\"pie\":[{\"automargin\":true,\"type\":\"pie\"}],\"scatter\":[{\"marker\":{\"colorbar\":{\"outlinewidth\":0,\"ticks\":\"\"}},\"type\":\"scatter\"}],\"scatter3d\":[{\"line\":{\"colorbar\":{\"outlinewidth\":0,\"ticks\":\"\"}},\"marker\":{\"colorbar\":{\"outlinewidth\":0,\"ticks\":\"\"}},\"type\":\"scatter3d\"}],\"scattercarpet\":[{\"marker\":{\"colorbar\":{\"outlinewidth\":0,\"ticks\":\"\"}},\"type\":\"scattercarpet\"}],\"scattergeo\":[{\"marker\":{\"colorbar\":{\"outlinewidth\":0,\"ticks\":\"\"}},\"type\":\"scattergeo\"}],\"scattergl\":[{\"marker\":{\"colorbar\":{\"outlinewidth\":0,\"ticks\":\"\"}},\"type\":\"scattergl\"}],\"scattermapbox\":[{\"marker\":{\"colorbar\":{\"outlinewidth\":0,\"ticks\":\"\"}},\"type\":\"scattermapbox\"}],\"scatterpolar\":[{\"marker\":{\"colorbar\":{\"outlinewidth\":0,\"ticks\":\"\"}},\"type\":\"scatterpolar\"}],\"scatterpolargl\":[{\"marker\":{\"colorbar\":{\"outlinewidth\":0,\"ticks\":\"\"}},\"type\":\"scatterpolargl\"}],\"scatterternary\":[{\"marker\":{\"colorbar\":{\"outlinewidth\":0,\"ticks\":\"\"}},\"type\":\"scatterternary\"}],\"surface\":[{\"colorbar\":{\"outlinewidth\":0,\"ticks\":\"\"},\"colorscale\":[[0.0,\"#0d0887\"],[0.1111111111111111,\"#46039f\"],[0.2222222222222222,\"#7201a8\"],[0.3333333333333333,\"#9c179e\"],[0.4444444444444444,\"#bd3786\"],[0.5555555555555556,\"#d8576b\"],[0.6666666666666666,\"#ed7953\"],[0.7777777777777778,\"#fb9f3a\"],[0.8888888888888888,\"#fdca26\"],[1.0,\"#f0f921\"]],\"type\":\"surface\"}],\"table\":[{\"cells\":{\"fill\":{\"color\":\"#EBF0F8\"},\"line\":{\"color\":\"white\"}},\"header\":{\"fill\":{\"color\":\"#C8D4E3\"},\"line\":{\"color\":\"white\"}},\"type\":\"table\"}]},\"layout\":{\"annotationdefaults\":{\"arrowcolor\":\"#2a3f5f\",\"arrowhead\":0,\"arrowwidth\":1},\"autotypenumbers\":\"strict\",\"coloraxis\":{\"colorbar\":{\"outlinewidth\":0,\"ticks\":\"\"}},\"colorscale\":{\"diverging\":[[0,\"#8e0152\"],[0.1,\"#c51b7d\"],[0.2,\"#de77ae\"],[0.3,\"#f1b6da\"],[0.4,\"#fde0ef\"],[0.5,\"#f7f7f7\"],[0.6,\"#e6f5d0\"],[0.7,\"#b8e186\"],[0.8,\"#7fbc41\"],[0.9,\"#4d9221\"],[1,\"#276419\"]],\"sequential\":[[0.0,\"#0d0887\"],[0.1111111111111111,\"#46039f\"],[0.2222222222222222,\"#7201a8\"],[0.3333333333333333,\"#9c179e\"],[0.4444444444444444,\"#bd3786\"],[0.5555555555555556,\"#d8576b\"],[0.6666666666666666,\"#ed7953\"],[0.7777777777777778,\"#fb9f3a\"],[0.8888888888888888,\"#fdca26\"],[1.0,\"#f0f921\"]],\"sequentialminus\":[[0.0,\"#0d0887\"],[0.1111111111111111,\"#46039f\"],[0.2222222222222222,\"#7201a8\"],[0.3333333333333333,\"#9c179e\"],[0.4444444444444444,\"#bd3786\"],[0.5555555555555556,\"#d8576b\"],[0.6666666666666666,\"#ed7953\"],[0.7777777777777778,\"#fb9f3a\"],[0.8888888888888888,\"#fdca26\"],[1.0,\"#f0f921\"]]},\"colorway\":[\"#636efa\",\"#EF553B\",\"#00cc96\",\"#ab63fa\",\"#FFA15A\",\"#19d3f3\",\"#FF6692\",\"#B6E880\",\"#FF97FF\",\"#FECB52\"],\"font\":{\"color\":\"#2a3f5f\"},\"geo\":{\"bgcolor\":\"white\",\"lakecolor\":\"white\",\"landcolor\":\"#E5ECF6\",\"showlakes\":true,\"showland\":true,\"subunitcolor\":\"white\"},\"hoverlabel\":{\"align\":\"left\"},\"hovermode\":\"closest\",\"mapbox\":{\"style\":\"light\"},\"paper_bgcolor\":\"white\",\"plot_bgcolor\":\"#E5ECF6\",\"polar\":{\"angularaxis\":{\"gridcolor\":\"white\",\"linecolor\":\"white\",\"ticks\":\"\"},\"bgcolor\":\"#E5ECF6\",\"radialaxis\":{\"gridcolor\":\"white\",\"linecolor\":\"white\",\"ticks\":\"\"}},\"scene\":{\"xaxis\":{\"backgroundcolor\":\"#E5ECF6\",\"gridcolor\":\"white\",\"gridwidth\":2,\"linecolor\":\"white\",\"showbackground\":true,\"ticks\":\"\",\"zerolinecolor\":\"white\"},\"yaxis\":{\"backgroundcolor\":\"#E5ECF6\",\"gridcolor\":\"white\",\"gridwidth\":2,\"linecolor\":\"white\",\"showbackground\":true,\"ticks\":\"\",\"zerolinecolor\":\"white\"},\"zaxis\":{\"backgroundcolor\":\"#E5ECF6\",\"gridcolor\":\"white\",\"gridwidth\":2,\"linecolor\":\"white\",\"showbackground\":true,\"ticks\":\"\",\"zerolinecolor\":\"white\"}},\"shapedefaults\":{\"line\":{\"color\":\"#2a3f5f\"}},\"ternary\":{\"aaxis\":{\"gridcolor\":\"white\",\"linecolor\":\"white\",\"ticks\":\"\"},\"baxis\":{\"gridcolor\":\"white\",\"linecolor\":\"white\",\"ticks\":\"\"},\"bgcolor\":\"#E5ECF6\",\"caxis\":{\"gridcolor\":\"white\",\"linecolor\":\"white\",\"ticks\":\"\"}},\"title\":{\"x\":0.05},\"xaxis\":{\"automargin\":true,\"gridcolor\":\"white\",\"linecolor\":\"white\",\"ticks\":\"\",\"title\":{\"standoff\":15},\"zerolinecolor\":\"white\",\"zerolinewidth\":2},\"yaxis\":{\"automargin\":true,\"gridcolor\":\"white\",\"linecolor\":\"white\",\"ticks\":\"\",\"title\":{\"standoff\":15},\"zerolinecolor\":\"white\",\"zerolinewidth\":2}}},\"title\":{\"text\":\"Female to Male ratio in the top 10 disciplines in Tokyo Olympics 2020\"},\"width\":1000},                        {\"responsive\": true}                    ).then(function(){\n",
              "                            \n",
              "var gd = document.getElementById('6f541fc1-feac-40b5-82cd-48c308b50851');\n",
              "var x = new MutationObserver(function (mutations, observer) {{\n",
              "        var display = window.getComputedStyle(gd).display;\n",
              "        if (!display || display === 'none') {{\n",
              "            console.log([gd, 'removed!']);\n",
              "            Plotly.purge(gd);\n",
              "            observer.disconnect();\n",
              "        }}\n",
              "}});\n",
              "\n",
              "// Listen for the removal of the full notebook cells\n",
              "var notebookContainer = gd.closest('#notebook-container');\n",
              "if (notebookContainer) {{\n",
              "    x.observe(notebookContainer, {childList: true});\n",
              "}}\n",
              "\n",
              "// Listen for the clearing of the current output cell\n",
              "var outputEl = gd.closest('.output');\n",
              "if (outputEl) {{\n",
              "    x.observe(outputEl, {childList: true});\n",
              "}}\n",
              "\n",
              "                        })                };                            </script>        </div>\n",
              "</body>\n",
              "</html>"
            ]
          },
          "metadata": {}
        }
      ]
    },
    {
      "cell_type": "code",
      "metadata": {
        "id": "GykG6WpsLLiK"
      },
      "source": [
        ""
      ],
      "execution_count": null,
      "outputs": []
    }
  ]
}